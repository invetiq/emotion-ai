{
 "cells": [
  {
   "cell_type": "markdown",
   "metadata": {
    "id": "dVTymJearEJn"
   },
   "source": [
    "# IMPORT LIBRARIES AND DATASETS"
   ]
  },
  {
   "cell_type": "code",
   "execution_count": 2,
   "metadata": {
    "id": "vQFbssqfr_UL",
    "ExecuteTime": {
     "end_time": "2023-11-27T13:01:45.577064500Z",
     "start_time": "2023-11-27T13:01:45.504549900Z"
    }
   },
   "outputs": [],
   "source": [
    "# Import the necessary packages\n",
    "import os\n",
    "import pandas as pd\n",
    "import numpy as np\n",
    "# import PIL\n",
    "# from PIL import *\n",
    "import seaborn as sns\n",
    "# import pickle\n",
    "import cv2\n",
    "# Import Tensorflow\n",
    "import tensorflow\n",
    "from tensorflow import *\n",
    "from tensorflow import keras\n",
    "\n",
    "# Import Keras\n",
    "# from keras.applications import DenseNet121\n",
    "from keras import *\n",
    "from keras.models import load_model\n",
    "from keras.initializers import glorot_uniform\n",
    "# from keras.utils import plot_model\n",
    "from keras.callbacks import ReduceLROnPlateau, EarlyStopping, ModelCheckpoint, LearningRateScheduler\n",
    "# from keras.applications.resnet50 import ResNet50\n",
    "from keras.layers import *\n",
    "# from keras import backend as K\n",
    "# from keras import optimizers\n",
    "from keras.preprocessing.image import ImageDataGenerator\n",
    "# from keras import layers, optimizers\n",
    "\n",
    "# from IPython.display import display\n",
    "import matplotlib.pyplot as plt\n",
    "from sklearn.model_selection import train_test_split"
   ]
  },
  {
   "cell_type": "code",
   "execution_count": 3,
   "metadata": {
    "id": "klj2F-OQr_Wn",
    "ExecuteTime": {
     "end_time": "2023-11-27T13:01:51.920322800Z",
     "start_time": "2023-11-27T13:01:49.628718500Z"
    }
   },
   "outputs": [],
   "source": [
    "# load facial key points data\n",
    "keyfacial_df = pd.read_csv('./dataset/data.csv')"
   ]
  },
  {
   "cell_type": "code",
   "execution_count": 4,
   "metadata": {
    "colab": {
     "base_uri": "https://localhost:8080/",
     "height": 1000
    },
    "id": "xTb3fLL8r_ZQ",
    "outputId": "f34231e5-ca55-4de9-e3af-5629eb0478b4",
    "ExecuteTime": {
     "end_time": "2023-11-27T13:01:52.720899800Z",
     "start_time": "2023-11-27T13:01:52.570676100Z"
    }
   },
   "outputs": [
    {
     "data": {
      "text/plain": "      left_eye_center_x  left_eye_center_y  right_eye_center_x  \\\n0             66.033564          39.002274           30.227008   \n1             64.332936          34.970077           29.949277   \n2             65.057053          34.909642           30.903789   \n3             65.225739          37.261774           32.023096   \n4             66.725301          39.621261           32.244810   \n...                 ...                ...                 ...   \n2135          67.180378          35.816373           33.239956   \n2136          65.724490          36.301020           25.377551   \n2137          68.430866          38.651975           28.895857   \n2138          64.152180          30.691592           27.000898   \n2139          66.683755          34.483429           30.784490   \n\n      right_eye_center_y  left_eye_inner_corner_x  left_eye_inner_corner_y  \\\n0              36.421678                59.582075                39.647423   \n1              33.448715                58.856170                35.274349   \n2              34.909642                59.412000                36.320968   \n3              37.261774                60.003339                39.127179   \n4              38.042032                58.565890                39.621261   \n...                  ...                      ...                      ...   \n2135           34.921932                59.347973                37.000904   \n2136           37.311224                58.530612                37.739796   \n2137           37.617027                61.659350                40.100902   \n2138           40.868082                56.505624                34.126963   \n2139           38.578939                59.255347                36.065143   \n\n      left_eye_outer_corner_x  left_eye_outer_corner_y  \\\n0                   73.130346                39.969997   \n1                   70.722723                36.187166   \n2                   70.984421                36.320968   \n3                   72.314713                38.380967   \n4                   72.515926                39.884466   \n...                       ...                      ...   \n2135                72.667896                37.097600   \n2136                74.448980                37.525510   \n2137                75.586792                40.219182   \n2138                73.436776                28.556335   \n2139                73.942694                34.624653   \n\n      right_eye_inner_corner_x  right_eye_inner_corner_y  ...  nose_tip_y  \\\n0                    36.356571                 37.389402  ...   57.066803   \n1                    36.034723                 34.361532  ...   55.660936   \n2                    37.678105                 36.320968  ...   53.538947   \n3                    37.618643                 38.754115  ...   54.166539   \n4                    36.982380                 39.094852  ...   64.889521   \n...                        ...                       ...  ...         ...   \n2135                 39.404349                 36.589944  ...   60.065396   \n2136                 33.551020                 38.107143  ...   62.472789   \n2137                 37.665118                 39.087245  ...   63.289576   \n2138                 34.746122                 40.506939  ...   59.735799   \n2139                 37.478531                 39.398041  ...   59.269388   \n\n      mouth_left_corner_x  mouth_left_corner_y  mouth_right_corner_x  \\\n0               61.195308            79.970165             28.614496   \n1               56.421447            76.352000             35.122383   \n2               60.822947            73.014316             33.726316   \n3               65.598887            72.703722             37.245496   \n4               60.671411            77.523239             31.191755   \n...                   ...                  ...                   ...   \n2135            64.397610            73.248393             35.446431   \n2136            66.928121            79.229046             28.015377   \n2137            68.864397            77.495823             22.013981   \n2138            73.730743            70.273886             38.777143   \n2139            72.600433            71.862041             34.232759   \n\n      mouth_right_corner_y  mouth_center_top_lip_x  mouth_center_top_lip_y  \\\n0                77.388992               43.312602               72.935459   \n1                76.047660               46.684596               70.266553   \n2                72.732000               47.274947               70.191789   \n3                74.195478               50.303165               70.091687   \n4                76.997301               44.962748               73.707387   \n...                    ...                     ...                     ...   \n2135             74.014748               48.708626               76.760852   \n2136             81.151722               48.771976               81.816774   \n2137             77.368995               49.180628               79.043130   \n2138             80.684286               58.042857               79.301429   \n2139             77.339429               51.599453               75.963592   \n\n      mouth_center_bottom_lip_x  mouth_center_bottom_lip_y  \\\n0                     43.130707                  84.485774   \n1                     45.467915                  85.480170   \n2                     47.274947                  78.659368   \n3                     51.561183                  78.268383   \n4                     44.227141                  86.871166   \n...                         ...                        ...   \n2135                  48.559612                  77.335618   \n2136                  49.287271                  82.871156   \n2137                  47.176739                  89.544522   \n2138                  58.611086                  80.355543   \n2139                  52.923371                  82.661062   \n\n                                                  Image  \n0     238 236 237 238 240 240 239 241 241 243 240 23...  \n1     219 215 204 196 204 211 212 200 180 168 178 19...  \n2     144 142 159 180 188 188 184 180 167 132 84 59 ...  \n3     193 192 193 194 194 194 193 192 168 111 50 12 ...  \n4     147 148 160 196 215 214 216 217 219 220 206 18...  \n...                                                 ...  \n2135  191 191 191 190 189 185 184 120 54 34 19 24 31...  \n2136  19 19 19 18 13 7 3 4 3 1 3 9 11 12 12 13 10 9 ...  \n2137  31 40 47 31 54 58 63 100 86 80 82 75 79 86 90 ...  \n2138  7 1 5 1 3 20 12 0 5 8 6 18 13 9 8 12 12 11 4 8...  \n2139  68 19 19 23 19 26 23 16 8 15 9 9 17 16 15 27 2...  \n\n[2140 rows x 31 columns]",
      "text/html": "<div>\n<style scoped>\n    .dataframe tbody tr th:only-of-type {\n        vertical-align: middle;\n    }\n\n    .dataframe tbody tr th {\n        vertical-align: top;\n    }\n\n    .dataframe thead th {\n        text-align: right;\n    }\n</style>\n<table border=\"1\" class=\"dataframe\">\n  <thead>\n    <tr style=\"text-align: right;\">\n      <th></th>\n      <th>left_eye_center_x</th>\n      <th>left_eye_center_y</th>\n      <th>right_eye_center_x</th>\n      <th>right_eye_center_y</th>\n      <th>left_eye_inner_corner_x</th>\n      <th>left_eye_inner_corner_y</th>\n      <th>left_eye_outer_corner_x</th>\n      <th>left_eye_outer_corner_y</th>\n      <th>right_eye_inner_corner_x</th>\n      <th>right_eye_inner_corner_y</th>\n      <th>...</th>\n      <th>nose_tip_y</th>\n      <th>mouth_left_corner_x</th>\n      <th>mouth_left_corner_y</th>\n      <th>mouth_right_corner_x</th>\n      <th>mouth_right_corner_y</th>\n      <th>mouth_center_top_lip_x</th>\n      <th>mouth_center_top_lip_y</th>\n      <th>mouth_center_bottom_lip_x</th>\n      <th>mouth_center_bottom_lip_y</th>\n      <th>Image</th>\n    </tr>\n  </thead>\n  <tbody>\n    <tr>\n      <th>0</th>\n      <td>66.033564</td>\n      <td>39.002274</td>\n      <td>30.227008</td>\n      <td>36.421678</td>\n      <td>59.582075</td>\n      <td>39.647423</td>\n      <td>73.130346</td>\n      <td>39.969997</td>\n      <td>36.356571</td>\n      <td>37.389402</td>\n      <td>...</td>\n      <td>57.066803</td>\n      <td>61.195308</td>\n      <td>79.970165</td>\n      <td>28.614496</td>\n      <td>77.388992</td>\n      <td>43.312602</td>\n      <td>72.935459</td>\n      <td>43.130707</td>\n      <td>84.485774</td>\n      <td>238 236 237 238 240 240 239 241 241 243 240 23...</td>\n    </tr>\n    <tr>\n      <th>1</th>\n      <td>64.332936</td>\n      <td>34.970077</td>\n      <td>29.949277</td>\n      <td>33.448715</td>\n      <td>58.856170</td>\n      <td>35.274349</td>\n      <td>70.722723</td>\n      <td>36.187166</td>\n      <td>36.034723</td>\n      <td>34.361532</td>\n      <td>...</td>\n      <td>55.660936</td>\n      <td>56.421447</td>\n      <td>76.352000</td>\n      <td>35.122383</td>\n      <td>76.047660</td>\n      <td>46.684596</td>\n      <td>70.266553</td>\n      <td>45.467915</td>\n      <td>85.480170</td>\n      <td>219 215 204 196 204 211 212 200 180 168 178 19...</td>\n    </tr>\n    <tr>\n      <th>2</th>\n      <td>65.057053</td>\n      <td>34.909642</td>\n      <td>30.903789</td>\n      <td>34.909642</td>\n      <td>59.412000</td>\n      <td>36.320968</td>\n      <td>70.984421</td>\n      <td>36.320968</td>\n      <td>37.678105</td>\n      <td>36.320968</td>\n      <td>...</td>\n      <td>53.538947</td>\n      <td>60.822947</td>\n      <td>73.014316</td>\n      <td>33.726316</td>\n      <td>72.732000</td>\n      <td>47.274947</td>\n      <td>70.191789</td>\n      <td>47.274947</td>\n      <td>78.659368</td>\n      <td>144 142 159 180 188 188 184 180 167 132 84 59 ...</td>\n    </tr>\n    <tr>\n      <th>3</th>\n      <td>65.225739</td>\n      <td>37.261774</td>\n      <td>32.023096</td>\n      <td>37.261774</td>\n      <td>60.003339</td>\n      <td>39.127179</td>\n      <td>72.314713</td>\n      <td>38.380967</td>\n      <td>37.618643</td>\n      <td>38.754115</td>\n      <td>...</td>\n      <td>54.166539</td>\n      <td>65.598887</td>\n      <td>72.703722</td>\n      <td>37.245496</td>\n      <td>74.195478</td>\n      <td>50.303165</td>\n      <td>70.091687</td>\n      <td>51.561183</td>\n      <td>78.268383</td>\n      <td>193 192 193 194 194 194 193 192 168 111 50 12 ...</td>\n    </tr>\n    <tr>\n      <th>4</th>\n      <td>66.725301</td>\n      <td>39.621261</td>\n      <td>32.244810</td>\n      <td>38.042032</td>\n      <td>58.565890</td>\n      <td>39.621261</td>\n      <td>72.515926</td>\n      <td>39.884466</td>\n      <td>36.982380</td>\n      <td>39.094852</td>\n      <td>...</td>\n      <td>64.889521</td>\n      <td>60.671411</td>\n      <td>77.523239</td>\n      <td>31.191755</td>\n      <td>76.997301</td>\n      <td>44.962748</td>\n      <td>73.707387</td>\n      <td>44.227141</td>\n      <td>86.871166</td>\n      <td>147 148 160 196 215 214 216 217 219 220 206 18...</td>\n    </tr>\n    <tr>\n      <th>...</th>\n      <td>...</td>\n      <td>...</td>\n      <td>...</td>\n      <td>...</td>\n      <td>...</td>\n      <td>...</td>\n      <td>...</td>\n      <td>...</td>\n      <td>...</td>\n      <td>...</td>\n      <td>...</td>\n      <td>...</td>\n      <td>...</td>\n      <td>...</td>\n      <td>...</td>\n      <td>...</td>\n      <td>...</td>\n      <td>...</td>\n      <td>...</td>\n      <td>...</td>\n      <td>...</td>\n    </tr>\n    <tr>\n      <th>2135</th>\n      <td>67.180378</td>\n      <td>35.816373</td>\n      <td>33.239956</td>\n      <td>34.921932</td>\n      <td>59.347973</td>\n      <td>37.000904</td>\n      <td>72.667896</td>\n      <td>37.097600</td>\n      <td>39.404349</td>\n      <td>36.589944</td>\n      <td>...</td>\n      <td>60.065396</td>\n      <td>64.397610</td>\n      <td>73.248393</td>\n      <td>35.446431</td>\n      <td>74.014748</td>\n      <td>48.708626</td>\n      <td>76.760852</td>\n      <td>48.559612</td>\n      <td>77.335618</td>\n      <td>191 191 191 190 189 185 184 120 54 34 19 24 31...</td>\n    </tr>\n    <tr>\n      <th>2136</th>\n      <td>65.724490</td>\n      <td>36.301020</td>\n      <td>25.377551</td>\n      <td>37.311224</td>\n      <td>58.530612</td>\n      <td>37.739796</td>\n      <td>74.448980</td>\n      <td>37.525510</td>\n      <td>33.551020</td>\n      <td>38.107143</td>\n      <td>...</td>\n      <td>62.472789</td>\n      <td>66.928121</td>\n      <td>79.229046</td>\n      <td>28.015377</td>\n      <td>81.151722</td>\n      <td>48.771976</td>\n      <td>81.816774</td>\n      <td>49.287271</td>\n      <td>82.871156</td>\n      <td>19 19 19 18 13 7 3 4 3 1 3 9 11 12 12 13 10 9 ...</td>\n    </tr>\n    <tr>\n      <th>2137</th>\n      <td>68.430866</td>\n      <td>38.651975</td>\n      <td>28.895857</td>\n      <td>37.617027</td>\n      <td>61.659350</td>\n      <td>40.100902</td>\n      <td>75.586792</td>\n      <td>40.219182</td>\n      <td>37.665118</td>\n      <td>39.087245</td>\n      <td>...</td>\n      <td>63.289576</td>\n      <td>68.864397</td>\n      <td>77.495823</td>\n      <td>22.013981</td>\n      <td>77.368995</td>\n      <td>49.180628</td>\n      <td>79.043130</td>\n      <td>47.176739</td>\n      <td>89.544522</td>\n      <td>31 40 47 31 54 58 63 100 86 80 82 75 79 86 90 ...</td>\n    </tr>\n    <tr>\n      <th>2138</th>\n      <td>64.152180</td>\n      <td>30.691592</td>\n      <td>27.000898</td>\n      <td>40.868082</td>\n      <td>56.505624</td>\n      <td>34.126963</td>\n      <td>73.436776</td>\n      <td>28.556335</td>\n      <td>34.746122</td>\n      <td>40.506939</td>\n      <td>...</td>\n      <td>59.735799</td>\n      <td>73.730743</td>\n      <td>70.273886</td>\n      <td>38.777143</td>\n      <td>80.684286</td>\n      <td>58.042857</td>\n      <td>79.301429</td>\n      <td>58.611086</td>\n      <td>80.355543</td>\n      <td>7 1 5 1 3 20 12 0 5 8 6 18 13 9 8 12 12 11 4 8...</td>\n    </tr>\n    <tr>\n      <th>2139</th>\n      <td>66.683755</td>\n      <td>34.483429</td>\n      <td>30.784490</td>\n      <td>38.578939</td>\n      <td>59.255347</td>\n      <td>36.065143</td>\n      <td>73.942694</td>\n      <td>34.624653</td>\n      <td>37.478531</td>\n      <td>39.398041</td>\n      <td>...</td>\n      <td>59.269388</td>\n      <td>72.600433</td>\n      <td>71.862041</td>\n      <td>34.232759</td>\n      <td>77.339429</td>\n      <td>51.599453</td>\n      <td>75.963592</td>\n      <td>52.923371</td>\n      <td>82.661062</td>\n      <td>68 19 19 23 19 26 23 16 8 15 9 9 17 16 15 27 2...</td>\n    </tr>\n  </tbody>\n</table>\n<p>2140 rows × 31 columns</p>\n</div>"
     },
     "execution_count": 4,
     "metadata": {},
     "output_type": "execute_result"
    }
   ],
   "source": [
    "keyfacial_df"
   ]
  },
  {
   "cell_type": "code",
   "execution_count": 5,
   "metadata": {
    "colab": {
     "base_uri": "https://localhost:8080/"
    },
    "id": "9yFsN8SAtHum",
    "outputId": "72cdb29b-bedc-45c3-f1f7-58132799407b",
    "ExecuteTime": {
     "end_time": "2023-11-27T13:01:56.964105700Z",
     "start_time": "2023-11-27T13:01:56.710762100Z"
    }
   },
   "outputs": [
    {
     "name": "stdout",
     "output_type": "stream",
     "text": [
      "<class 'pandas.core.frame.DataFrame'>\n",
      "RangeIndex: 2140 entries, 0 to 2139\n",
      "Data columns (total 31 columns):\n",
      " #   Column                     Non-Null Count  Dtype  \n",
      "---  ------                     --------------  -----  \n",
      " 0   left_eye_center_x          2140 non-null   float64\n",
      " 1   left_eye_center_y          2140 non-null   float64\n",
      " 2   right_eye_center_x         2140 non-null   float64\n",
      " 3   right_eye_center_y         2140 non-null   float64\n",
      " 4   left_eye_inner_corner_x    2140 non-null   float64\n",
      " 5   left_eye_inner_corner_y    2140 non-null   float64\n",
      " 6   left_eye_outer_corner_x    2140 non-null   float64\n",
      " 7   left_eye_outer_corner_y    2140 non-null   float64\n",
      " 8   right_eye_inner_corner_x   2140 non-null   float64\n",
      " 9   right_eye_inner_corner_y   2140 non-null   float64\n",
      " 10  right_eye_outer_corner_x   2140 non-null   float64\n",
      " 11  right_eye_outer_corner_y   2140 non-null   float64\n",
      " 12  left_eyebrow_inner_end_x   2140 non-null   float64\n",
      " 13  left_eyebrow_inner_end_y   2140 non-null   float64\n",
      " 14  left_eyebrow_outer_end_x   2140 non-null   float64\n",
      " 15  left_eyebrow_outer_end_y   2140 non-null   float64\n",
      " 16  right_eyebrow_inner_end_x  2140 non-null   float64\n",
      " 17  right_eyebrow_inner_end_y  2140 non-null   float64\n",
      " 18  right_eyebrow_outer_end_x  2140 non-null   float64\n",
      " 19  right_eyebrow_outer_end_y  2140 non-null   float64\n",
      " 20  nose_tip_x                 2140 non-null   float64\n",
      " 21  nose_tip_y                 2140 non-null   float64\n",
      " 22  mouth_left_corner_x        2140 non-null   float64\n",
      " 23  mouth_left_corner_y        2140 non-null   float64\n",
      " 24  mouth_right_corner_x       2140 non-null   float64\n",
      " 25  mouth_right_corner_y       2140 non-null   float64\n",
      " 26  mouth_center_top_lip_x     2140 non-null   float64\n",
      " 27  mouth_center_top_lip_y     2140 non-null   float64\n",
      " 28  mouth_center_bottom_lip_x  2140 non-null   float64\n",
      " 29  mouth_center_bottom_lip_y  2140 non-null   float64\n",
      " 30  Image                      2140 non-null   object \n",
      "dtypes: float64(30), object(1)\n",
      "memory usage: 518.4+ KB\n"
     ]
    }
   ],
   "source": [
    "# Obtain relavant information about the dataframe\n",
    "keyfacial_df.info()"
   ]
  },
  {
   "cell_type": "code",
   "execution_count": 6,
   "metadata": {
    "colab": {
     "base_uri": "https://localhost:8080/"
    },
    "id": "AJhdlYRqtKVK",
    "outputId": "d8348f1b-00c1-4a40-b295-9267ef723710",
    "ExecuteTime": {
     "end_time": "2023-11-27T13:01:59.453682700Z",
     "start_time": "2023-11-27T13:01:59.256643500Z"
    }
   },
   "outputs": [
    {
     "data": {
      "text/plain": "left_eye_center_x            0\nleft_eye_center_y            0\nright_eye_center_x           0\nright_eye_center_y           0\nleft_eye_inner_corner_x      0\nleft_eye_inner_corner_y      0\nleft_eye_outer_corner_x      0\nleft_eye_outer_corner_y      0\nright_eye_inner_corner_x     0\nright_eye_inner_corner_y     0\nright_eye_outer_corner_x     0\nright_eye_outer_corner_y     0\nleft_eyebrow_inner_end_x     0\nleft_eyebrow_inner_end_y     0\nleft_eyebrow_outer_end_x     0\nleft_eyebrow_outer_end_y     0\nright_eyebrow_inner_end_x    0\nright_eyebrow_inner_end_y    0\nright_eyebrow_outer_end_x    0\nright_eyebrow_outer_end_y    0\nnose_tip_x                   0\nnose_tip_y                   0\nmouth_left_corner_x          0\nmouth_left_corner_y          0\nmouth_right_corner_x         0\nmouth_right_corner_y         0\nmouth_center_top_lip_x       0\nmouth_center_top_lip_y       0\nmouth_center_bottom_lip_x    0\nmouth_center_bottom_lip_y    0\nImage                        0\ndtype: int64"
     },
     "execution_count": 6,
     "metadata": {},
     "output_type": "execute_result"
    }
   ],
   "source": [
    "# Check if null values exist in the dataframe\n",
    "keyfacial_df.isnull().sum()"
   ]
  },
  {
   "cell_type": "code",
   "execution_count": 7,
   "metadata": {
    "colab": {
     "base_uri": "https://localhost:8080/"
    },
    "id": "u-s17cxKBvd3",
    "outputId": "e1426f74-a16f-457a-ea05-25a71891498c",
    "ExecuteTime": {
     "end_time": "2023-11-27T13:02:01.639788Z",
     "start_time": "2023-11-27T13:02:01.374721400Z"
    }
   },
   "outputs": [
    {
     "data": {
      "text/plain": "(2140,)"
     },
     "execution_count": 7,
     "metadata": {},
     "output_type": "execute_result"
    }
   ],
   "source": [
    "keyfacial_df['Image'].shape"
   ]
  },
  {
   "cell_type": "code",
   "execution_count": 11,
   "metadata": {
    "id": "qtGMT3ozr_g3"
   },
   "outputs": [
    {
     "name": "stderr",
     "output_type": "stream",
     "text": [
      "C:\\Users\\shaun.barrett\\AppData\\Local\\Temp\\ipykernel_21412\\3692939227.py:3: DeprecationWarning: The binary mode of fromstring is deprecated, as it behaves surprisingly on unicode inputs. Use frombuffer instead\n",
      "  keyfacial_df['Image'] = keyfacial_df['Image'].apply(lambda x: np.fromstring(x, dtype = int, sep = np.fromstring(' ')).reshape(96, 96))\n"
     ]
    },
    {
     "ename": "ValueError",
     "evalue": "string size must be a multiple of element size",
     "output_type": "error",
     "traceback": [
      "\u001B[1;31m---------------------------------------------------------------------------\u001B[0m",
      "\u001B[1;31mValueError\u001B[0m                                Traceback (most recent call last)",
      "Cell \u001B[1;32mIn[11], line 3\u001B[0m\n\u001B[0;32m      1\u001B[0m \u001B[38;5;66;03m# Since values for the image are given as space separated string, separate the values using ' ' as separator.\u001B[39;00m\n\u001B[0;32m      2\u001B[0m \u001B[38;5;66;03m# Then convert this into numpy array using np.fromstring and convert the obtained 1D array into 2D array of shape (96, 96)\u001B[39;00m\n\u001B[1;32m----> 3\u001B[0m keyfacial_df[\u001B[38;5;124m'\u001B[39m\u001B[38;5;124mImage\u001B[39m\u001B[38;5;124m'\u001B[39m] \u001B[38;5;241m=\u001B[39m \u001B[43mkeyfacial_df\u001B[49m\u001B[43m[\u001B[49m\u001B[38;5;124;43m'\u001B[39;49m\u001B[38;5;124;43mImage\u001B[39;49m\u001B[38;5;124;43m'\u001B[39;49m\u001B[43m]\u001B[49m\u001B[38;5;241;43m.\u001B[39;49m\u001B[43mapply\u001B[49m\u001B[43m(\u001B[49m\u001B[38;5;28;43;01mlambda\u001B[39;49;00m\u001B[43m \u001B[49m\u001B[43mx\u001B[49m\u001B[43m:\u001B[49m\u001B[43m \u001B[49m\u001B[43mnp\u001B[49m\u001B[38;5;241;43m.\u001B[39;49m\u001B[43mfromstring\u001B[49m\u001B[43m(\u001B[49m\u001B[43mx\u001B[49m\u001B[43m,\u001B[49m\u001B[43m \u001B[49m\u001B[43mdtype\u001B[49m\u001B[43m \u001B[49m\u001B[38;5;241;43m=\u001B[39;49m\u001B[43m \u001B[49m\u001B[38;5;28;43mint\u001B[39;49m\u001B[43m,\u001B[49m\u001B[43m \u001B[49m\u001B[43msep\u001B[49m\u001B[43m \u001B[49m\u001B[38;5;241;43m=\u001B[39;49m\u001B[43m \u001B[49m\u001B[43mnp\u001B[49m\u001B[38;5;241;43m.\u001B[39;49m\u001B[43mfromstring\u001B[49m\u001B[43m(\u001B[49m\u001B[38;5;124;43m'\u001B[39;49m\u001B[38;5;124;43m \u001B[39;49m\u001B[38;5;124;43m'\u001B[39;49m\u001B[43m)\u001B[49m\u001B[43m)\u001B[49m\u001B[38;5;241;43m.\u001B[39;49m\u001B[43mreshape\u001B[49m\u001B[43m(\u001B[49m\u001B[38;5;241;43m96\u001B[39;49m\u001B[43m,\u001B[49m\u001B[43m \u001B[49m\u001B[38;5;241;43m96\u001B[39;49m\u001B[43m)\u001B[49m\u001B[43m)\u001B[49m\n",
      "File \u001B[1;32m~\\AppData\\Local\\Packages\\PythonSoftwareFoundation.Python.3.9_qbz5n2kfra8p0\\LocalCache\\local-packages\\Python39\\site-packages\\pandas\\core\\series.py:4753\u001B[0m, in \u001B[0;36mSeries.apply\u001B[1;34m(self, func, convert_dtype, args, by_row, **kwargs)\u001B[0m\n\u001B[0;32m   4625\u001B[0m \u001B[38;5;28;01mdef\u001B[39;00m \u001B[38;5;21mapply\u001B[39m(\n\u001B[0;32m   4626\u001B[0m     \u001B[38;5;28mself\u001B[39m,\n\u001B[0;32m   4627\u001B[0m     func: AggFuncType,\n\u001B[1;32m   (...)\u001B[0m\n\u001B[0;32m   4632\u001B[0m     \u001B[38;5;241m*\u001B[39m\u001B[38;5;241m*\u001B[39mkwargs,\n\u001B[0;32m   4633\u001B[0m ) \u001B[38;5;241m-\u001B[39m\u001B[38;5;241m>\u001B[39m DataFrame \u001B[38;5;241m|\u001B[39m Series:\n\u001B[0;32m   4634\u001B[0m \u001B[38;5;250m    \u001B[39m\u001B[38;5;124;03m\"\"\"\u001B[39;00m\n\u001B[0;32m   4635\u001B[0m \u001B[38;5;124;03m    Invoke function on values of Series.\u001B[39;00m\n\u001B[0;32m   4636\u001B[0m \n\u001B[1;32m   (...)\u001B[0m\n\u001B[0;32m   4751\u001B[0m \u001B[38;5;124;03m    dtype: float64\u001B[39;00m\n\u001B[0;32m   4752\u001B[0m \u001B[38;5;124;03m    \"\"\"\u001B[39;00m\n\u001B[1;32m-> 4753\u001B[0m     \u001B[38;5;28;01mreturn\u001B[39;00m \u001B[43mSeriesApply\u001B[49m\u001B[43m(\u001B[49m\n\u001B[0;32m   4754\u001B[0m \u001B[43m        \u001B[49m\u001B[38;5;28;43mself\u001B[39;49m\u001B[43m,\u001B[49m\n\u001B[0;32m   4755\u001B[0m \u001B[43m        \u001B[49m\u001B[43mfunc\u001B[49m\u001B[43m,\u001B[49m\n\u001B[0;32m   4756\u001B[0m \u001B[43m        \u001B[49m\u001B[43mconvert_dtype\u001B[49m\u001B[38;5;241;43m=\u001B[39;49m\u001B[43mconvert_dtype\u001B[49m\u001B[43m,\u001B[49m\n\u001B[0;32m   4757\u001B[0m \u001B[43m        \u001B[49m\u001B[43mby_row\u001B[49m\u001B[38;5;241;43m=\u001B[39;49m\u001B[43mby_row\u001B[49m\u001B[43m,\u001B[49m\n\u001B[0;32m   4758\u001B[0m \u001B[43m        \u001B[49m\u001B[43margs\u001B[49m\u001B[38;5;241;43m=\u001B[39;49m\u001B[43margs\u001B[49m\u001B[43m,\u001B[49m\n\u001B[0;32m   4759\u001B[0m \u001B[43m        \u001B[49m\u001B[43mkwargs\u001B[49m\u001B[38;5;241;43m=\u001B[39;49m\u001B[43mkwargs\u001B[49m\u001B[43m,\u001B[49m\n\u001B[0;32m   4760\u001B[0m \u001B[43m    \u001B[49m\u001B[43m)\u001B[49m\u001B[38;5;241;43m.\u001B[39;49m\u001B[43mapply\u001B[49m\u001B[43m(\u001B[49m\u001B[43m)\u001B[49m\n",
      "File \u001B[1;32m~\\AppData\\Local\\Packages\\PythonSoftwareFoundation.Python.3.9_qbz5n2kfra8p0\\LocalCache\\local-packages\\Python39\\site-packages\\pandas\\core\\apply.py:1207\u001B[0m, in \u001B[0;36mSeriesApply.apply\u001B[1;34m(self)\u001B[0m\n\u001B[0;32m   1204\u001B[0m     \u001B[38;5;28;01mreturn\u001B[39;00m \u001B[38;5;28mself\u001B[39m\u001B[38;5;241m.\u001B[39mapply_compat()\n\u001B[0;32m   1206\u001B[0m \u001B[38;5;66;03m# self.func is Callable\u001B[39;00m\n\u001B[1;32m-> 1207\u001B[0m \u001B[38;5;28;01mreturn\u001B[39;00m \u001B[38;5;28;43mself\u001B[39;49m\u001B[38;5;241;43m.\u001B[39;49m\u001B[43mapply_standard\u001B[49m\u001B[43m(\u001B[49m\u001B[43m)\u001B[49m\n",
      "File \u001B[1;32m~\\AppData\\Local\\Packages\\PythonSoftwareFoundation.Python.3.9_qbz5n2kfra8p0\\LocalCache\\local-packages\\Python39\\site-packages\\pandas\\core\\apply.py:1287\u001B[0m, in \u001B[0;36mSeriesApply.apply_standard\u001B[1;34m(self)\u001B[0m\n\u001B[0;32m   1281\u001B[0m \u001B[38;5;66;03m# row-wise access\u001B[39;00m\n\u001B[0;32m   1282\u001B[0m \u001B[38;5;66;03m# apply doesn't have a `na_action` keyword and for backward compat reasons\u001B[39;00m\n\u001B[0;32m   1283\u001B[0m \u001B[38;5;66;03m# we need to give `na_action=\"ignore\"` for categorical data.\u001B[39;00m\n\u001B[0;32m   1284\u001B[0m \u001B[38;5;66;03m# TODO: remove the `na_action=\"ignore\"` when that default has been changed in\u001B[39;00m\n\u001B[0;32m   1285\u001B[0m \u001B[38;5;66;03m#  Categorical (GH51645).\u001B[39;00m\n\u001B[0;32m   1286\u001B[0m action \u001B[38;5;241m=\u001B[39m \u001B[38;5;124m\"\u001B[39m\u001B[38;5;124mignore\u001B[39m\u001B[38;5;124m\"\u001B[39m \u001B[38;5;28;01mif\u001B[39;00m \u001B[38;5;28misinstance\u001B[39m(obj\u001B[38;5;241m.\u001B[39mdtype, CategoricalDtype) \u001B[38;5;28;01melse\u001B[39;00m \u001B[38;5;28;01mNone\u001B[39;00m\n\u001B[1;32m-> 1287\u001B[0m mapped \u001B[38;5;241m=\u001B[39m \u001B[43mobj\u001B[49m\u001B[38;5;241;43m.\u001B[39;49m\u001B[43m_map_values\u001B[49m\u001B[43m(\u001B[49m\n\u001B[0;32m   1288\u001B[0m \u001B[43m    \u001B[49m\u001B[43mmapper\u001B[49m\u001B[38;5;241;43m=\u001B[39;49m\u001B[43mcurried\u001B[49m\u001B[43m,\u001B[49m\u001B[43m \u001B[49m\u001B[43mna_action\u001B[49m\u001B[38;5;241;43m=\u001B[39;49m\u001B[43maction\u001B[49m\u001B[43m,\u001B[49m\u001B[43m \u001B[49m\u001B[43mconvert\u001B[49m\u001B[38;5;241;43m=\u001B[39;49m\u001B[38;5;28;43mself\u001B[39;49m\u001B[38;5;241;43m.\u001B[39;49m\u001B[43mconvert_dtype\u001B[49m\n\u001B[0;32m   1289\u001B[0m \u001B[43m\u001B[49m\u001B[43m)\u001B[49m\n\u001B[0;32m   1291\u001B[0m \u001B[38;5;28;01mif\u001B[39;00m \u001B[38;5;28mlen\u001B[39m(mapped) \u001B[38;5;129;01mand\u001B[39;00m \u001B[38;5;28misinstance\u001B[39m(mapped[\u001B[38;5;241m0\u001B[39m], ABCSeries):\n\u001B[0;32m   1292\u001B[0m     \u001B[38;5;66;03m# GH#43986 Need to do list(mapped) in order to get treated as nested\u001B[39;00m\n\u001B[0;32m   1293\u001B[0m     \u001B[38;5;66;03m#  See also GH#25959 regarding EA support\u001B[39;00m\n\u001B[0;32m   1294\u001B[0m     \u001B[38;5;28;01mreturn\u001B[39;00m obj\u001B[38;5;241m.\u001B[39m_constructor_expanddim(\u001B[38;5;28mlist\u001B[39m(mapped), index\u001B[38;5;241m=\u001B[39mobj\u001B[38;5;241m.\u001B[39mindex)\n",
      "File \u001B[1;32m~\\AppData\\Local\\Packages\\PythonSoftwareFoundation.Python.3.9_qbz5n2kfra8p0\\LocalCache\\local-packages\\Python39\\site-packages\\pandas\\core\\base.py:921\u001B[0m, in \u001B[0;36mIndexOpsMixin._map_values\u001B[1;34m(self, mapper, na_action, convert)\u001B[0m\n\u001B[0;32m    918\u001B[0m \u001B[38;5;28;01mif\u001B[39;00m \u001B[38;5;28misinstance\u001B[39m(arr, ExtensionArray):\n\u001B[0;32m    919\u001B[0m     \u001B[38;5;28;01mreturn\u001B[39;00m arr\u001B[38;5;241m.\u001B[39mmap(mapper, na_action\u001B[38;5;241m=\u001B[39mna_action)\n\u001B[1;32m--> 921\u001B[0m \u001B[38;5;28;01mreturn\u001B[39;00m \u001B[43malgorithms\u001B[49m\u001B[38;5;241;43m.\u001B[39;49m\u001B[43mmap_array\u001B[49m\u001B[43m(\u001B[49m\u001B[43marr\u001B[49m\u001B[43m,\u001B[49m\u001B[43m \u001B[49m\u001B[43mmapper\u001B[49m\u001B[43m,\u001B[49m\u001B[43m \u001B[49m\u001B[43mna_action\u001B[49m\u001B[38;5;241;43m=\u001B[39;49m\u001B[43mna_action\u001B[49m\u001B[43m,\u001B[49m\u001B[43m \u001B[49m\u001B[43mconvert\u001B[49m\u001B[38;5;241;43m=\u001B[39;49m\u001B[43mconvert\u001B[49m\u001B[43m)\u001B[49m\n",
      "File \u001B[1;32m~\\AppData\\Local\\Packages\\PythonSoftwareFoundation.Python.3.9_qbz5n2kfra8p0\\LocalCache\\local-packages\\Python39\\site-packages\\pandas\\core\\algorithms.py:1814\u001B[0m, in \u001B[0;36mmap_array\u001B[1;34m(arr, mapper, na_action, convert)\u001B[0m\n\u001B[0;32m   1812\u001B[0m values \u001B[38;5;241m=\u001B[39m arr\u001B[38;5;241m.\u001B[39mastype(\u001B[38;5;28mobject\u001B[39m, copy\u001B[38;5;241m=\u001B[39m\u001B[38;5;28;01mFalse\u001B[39;00m)\n\u001B[0;32m   1813\u001B[0m \u001B[38;5;28;01mif\u001B[39;00m na_action \u001B[38;5;129;01mis\u001B[39;00m \u001B[38;5;28;01mNone\u001B[39;00m:\n\u001B[1;32m-> 1814\u001B[0m     \u001B[38;5;28;01mreturn\u001B[39;00m \u001B[43mlib\u001B[49m\u001B[38;5;241;43m.\u001B[39;49m\u001B[43mmap_infer\u001B[49m\u001B[43m(\u001B[49m\u001B[43mvalues\u001B[49m\u001B[43m,\u001B[49m\u001B[43m \u001B[49m\u001B[43mmapper\u001B[49m\u001B[43m,\u001B[49m\u001B[43m \u001B[49m\u001B[43mconvert\u001B[49m\u001B[38;5;241;43m=\u001B[39;49m\u001B[43mconvert\u001B[49m\u001B[43m)\u001B[49m\n\u001B[0;32m   1815\u001B[0m \u001B[38;5;28;01melse\u001B[39;00m:\n\u001B[0;32m   1816\u001B[0m     \u001B[38;5;28;01mreturn\u001B[39;00m lib\u001B[38;5;241m.\u001B[39mmap_infer_mask(\n\u001B[0;32m   1817\u001B[0m         values, mapper, mask\u001B[38;5;241m=\u001B[39misna(values)\u001B[38;5;241m.\u001B[39mview(np\u001B[38;5;241m.\u001B[39muint8), convert\u001B[38;5;241m=\u001B[39mconvert\n\u001B[0;32m   1818\u001B[0m     )\n",
      "File \u001B[1;32mlib.pyx:2920\u001B[0m, in \u001B[0;36mpandas._libs.lib.map_infer\u001B[1;34m()\u001B[0m\n",
      "Cell \u001B[1;32mIn[11], line 3\u001B[0m, in \u001B[0;36m<lambda>\u001B[1;34m(x)\u001B[0m\n\u001B[0;32m      1\u001B[0m \u001B[38;5;66;03m# Since values for the image are given as space separated string, separate the values using ' ' as separator.\u001B[39;00m\n\u001B[0;32m      2\u001B[0m \u001B[38;5;66;03m# Then convert this into numpy array using np.fromstring and convert the obtained 1D array into 2D array of shape (96, 96)\u001B[39;00m\n\u001B[1;32m----> 3\u001B[0m keyfacial_df[\u001B[38;5;124m'\u001B[39m\u001B[38;5;124mImage\u001B[39m\u001B[38;5;124m'\u001B[39m] \u001B[38;5;241m=\u001B[39m keyfacial_df[\u001B[38;5;124m'\u001B[39m\u001B[38;5;124mImage\u001B[39m\u001B[38;5;124m'\u001B[39m]\u001B[38;5;241m.\u001B[39mapply(\u001B[38;5;28;01mlambda\u001B[39;00m x: np\u001B[38;5;241m.\u001B[39mfromstring(x, dtype \u001B[38;5;241m=\u001B[39m \u001B[38;5;28mint\u001B[39m, sep \u001B[38;5;241m=\u001B[39m \u001B[43mnp\u001B[49m\u001B[38;5;241;43m.\u001B[39;49m\u001B[43mfromstring\u001B[49m\u001B[43m(\u001B[49m\u001B[38;5;124;43m'\u001B[39;49m\u001B[38;5;124;43m \u001B[39;49m\u001B[38;5;124;43m'\u001B[39;49m\u001B[43m)\u001B[49m)\u001B[38;5;241m.\u001B[39mreshape(\u001B[38;5;241m96\u001B[39m, \u001B[38;5;241m96\u001B[39m))\n",
      "\u001B[1;31mValueError\u001B[0m: string size must be a multiple of element size"
     ]
    }
   ],
   "source": [
    "# Since values for the image are given as space separated string, separate the values using ' ' as separator.\n",
    "# Then convert this into numpy array using np.fromstring and convert the obtained 1D array into 2D array of shape (96, 96)\n",
    "keyfacial_df['Image'] = keyfacial_df['Image'].apply(lambda x: np.fromstring(x, dtype = int, sep = np.fromstring(' ')).reshape(96, 96))"
   ]
  },
  {
   "cell_type": "code",
   "execution_count": 12,
   "metadata": {
    "colab": {
     "base_uri": "https://localhost:8080/"
    },
    "id": "KE1RIIy8r_fN",
    "outputId": "a5a0f621-69e2-4bfe-b570-0682b2258e8c",
    "ExecuteTime": {
     "end_time": "2023-11-27T13:18:23.829962800Z",
     "start_time": "2023-11-27T13:18:23.796444800Z"
    }
   },
   "outputs": [
    {
     "data": {
      "text/plain": "(96, 96)"
     },
     "execution_count": 12,
     "metadata": {},
     "output_type": "execute_result"
    }
   ],
   "source": [
    "# Obtain the Shape of the image\n",
    "keyfacial_df['Image'][0].shape"
   ]
  },
  {
   "cell_type": "markdown",
   "metadata": {
    "id": "AkADotpCdIfW"
   },
   "source": [
    "MINI CHALLENGE #1:\n",
    "- Obtain the average, minimum and maximum values for 'right_eye_center_x'"
   ]
  },
  {
   "cell_type": "code",
   "execution_count": 13,
   "metadata": {
    "colab": {
     "base_uri": "https://localhost:8080/",
     "height": 315
    },
    "id": "06r0LqnKflxU",
    "outputId": "60902d54-e7af-4f1e-c97b-a2fe860e3bd6",
    "ExecuteTime": {
     "end_time": "2023-11-27T13:18:30.282099300Z",
     "start_time": "2023-11-27T13:18:30.166569500Z"
    }
   },
   "outputs": [
    {
     "data": {
      "text/plain": "       left_eye_center_x  left_eye_center_y  right_eye_center_x  \\\ncount        2140.000000        2140.000000         2140.000000   \nmean           66.221549          36.842274           29.640269   \nstd             2.087683           2.294027            2.051575   \nmin            47.835757          23.832996           18.922611   \n25%            65.046300          35.468842           28.472224   \n50%            66.129065          36.913319           29.655440   \n75%            67.332093          38.286438           30.858673   \nmax            78.013082          46.132421           42.495172   \n\n       right_eye_center_y  left_eye_inner_corner_x  left_eye_inner_corner_y  \\\ncount         2140.000000              2140.000000              2140.000000   \nmean            37.063815                59.272128                37.856014   \nstd              2.234334                 2.005631                 2.034500   \nmin             24.773072                41.779381                27.190098   \n25%             35.818377                58.113054                36.607950   \n50%             37.048085                59.327154                37.845220   \n75%             38.333884                60.521492                39.195431   \nmax             45.980981                69.023030                47.190316   \n\n       left_eye_outer_corner_x  left_eye_outer_corner_y  \\\ncount              2140.000000              2140.000000   \nmean                 73.412473                37.640110   \nstd                   2.701639                 2.684162   \nmin                  52.947144                26.250023   \n25%                  71.741978                36.102409   \n50%                  73.240045                37.624207   \n75%                  74.978684                39.308331   \nmax                  87.032252                49.653825   \n\n       right_eye_inner_corner_x  right_eye_inner_corner_y  ...   nose_tip_x  \\\ncount               2140.000000               2140.000000  ...  2140.000000   \nmean                  36.603107                 37.920852  ...    47.952141   \nstd                    1.822784                  2.009505  ...     3.276053   \nmin                   24.112624                 26.250023  ...    24.472590   \n25%                   35.495730                 36.766783  ...    46.495330   \n50%                   36.620735                 37.920336  ...    47.900511   \n75%                   37.665280                 39.143921  ...    49.260657   \nmax                   47.293746                 44.887301  ...    65.279654   \n\n        nose_tip_y  mouth_left_corner_x  mouth_left_corner_y  \\\ncount  2140.000000          2140.000000          2140.000000   \nmean     57.253926            63.419076            75.887660   \nstd       4.528635             3.650131             4.438565   \nmin      41.558400            43.869480            57.023258   \n25%      54.466000            61.341291            72.874263   \n50%      57.638582            63.199057            75.682465   \n75%      60.303524            65.302398            78.774969   \nmax      75.992731            84.767123            94.673637   \n\n       mouth_right_corner_x  mouth_right_corner_y  mouth_center_top_lip_x  \\\ncount           2140.000000           2140.000000             2140.000000   \nmean              32.967365             76.134065               48.081325   \nstd                3.595103              4.259514                2.723274   \nmin                9.778137             56.690208               32.260312   \n25%               30.879288             73.280038               46.580004   \n50%               33.034022             75.941985               47.939031   \n75%               35.063575             78.884031               49.290000   \nmax               50.973348             93.443176               61.804506   \n\n       mouth_center_top_lip_y  mouth_center_bottom_lip_x  \\\ncount             2140.000000                2140.000000   \nmean                72.681125                  48.149654   \nstd                  5.108675                   3.032389   \nmin                 56.719043                  33.047605   \n25%                 69.271669                  46.492000   \n50%                 72.395978                  47.980854   \n75%                 75.840286                  49.551936   \nmax                 93.916338                  62.438095   \n\n       mouth_center_bottom_lip_y  \ncount                2140.000000  \nmean                   82.630412  \nstd                     4.813557  \nmin                    57.232296  \n25%                    79.417480  \n50%                    82.388899  \n75%                    85.697976  \nmax                    95.808983  \n\n[8 rows x 30 columns]",
      "text/html": "<div>\n<style scoped>\n    .dataframe tbody tr th:only-of-type {\n        vertical-align: middle;\n    }\n\n    .dataframe tbody tr th {\n        vertical-align: top;\n    }\n\n    .dataframe thead th {\n        text-align: right;\n    }\n</style>\n<table border=\"1\" class=\"dataframe\">\n  <thead>\n    <tr style=\"text-align: right;\">\n      <th></th>\n      <th>left_eye_center_x</th>\n      <th>left_eye_center_y</th>\n      <th>right_eye_center_x</th>\n      <th>right_eye_center_y</th>\n      <th>left_eye_inner_corner_x</th>\n      <th>left_eye_inner_corner_y</th>\n      <th>left_eye_outer_corner_x</th>\n      <th>left_eye_outer_corner_y</th>\n      <th>right_eye_inner_corner_x</th>\n      <th>right_eye_inner_corner_y</th>\n      <th>...</th>\n      <th>nose_tip_x</th>\n      <th>nose_tip_y</th>\n      <th>mouth_left_corner_x</th>\n      <th>mouth_left_corner_y</th>\n      <th>mouth_right_corner_x</th>\n      <th>mouth_right_corner_y</th>\n      <th>mouth_center_top_lip_x</th>\n      <th>mouth_center_top_lip_y</th>\n      <th>mouth_center_bottom_lip_x</th>\n      <th>mouth_center_bottom_lip_y</th>\n    </tr>\n  </thead>\n  <tbody>\n    <tr>\n      <th>count</th>\n      <td>2140.000000</td>\n      <td>2140.000000</td>\n      <td>2140.000000</td>\n      <td>2140.000000</td>\n      <td>2140.000000</td>\n      <td>2140.000000</td>\n      <td>2140.000000</td>\n      <td>2140.000000</td>\n      <td>2140.000000</td>\n      <td>2140.000000</td>\n      <td>...</td>\n      <td>2140.000000</td>\n      <td>2140.000000</td>\n      <td>2140.000000</td>\n      <td>2140.000000</td>\n      <td>2140.000000</td>\n      <td>2140.000000</td>\n      <td>2140.000000</td>\n      <td>2140.000000</td>\n      <td>2140.000000</td>\n      <td>2140.000000</td>\n    </tr>\n    <tr>\n      <th>mean</th>\n      <td>66.221549</td>\n      <td>36.842274</td>\n      <td>29.640269</td>\n      <td>37.063815</td>\n      <td>59.272128</td>\n      <td>37.856014</td>\n      <td>73.412473</td>\n      <td>37.640110</td>\n      <td>36.603107</td>\n      <td>37.920852</td>\n      <td>...</td>\n      <td>47.952141</td>\n      <td>57.253926</td>\n      <td>63.419076</td>\n      <td>75.887660</td>\n      <td>32.967365</td>\n      <td>76.134065</td>\n      <td>48.081325</td>\n      <td>72.681125</td>\n      <td>48.149654</td>\n      <td>82.630412</td>\n    </tr>\n    <tr>\n      <th>std</th>\n      <td>2.087683</td>\n      <td>2.294027</td>\n      <td>2.051575</td>\n      <td>2.234334</td>\n      <td>2.005631</td>\n      <td>2.034500</td>\n      <td>2.701639</td>\n      <td>2.684162</td>\n      <td>1.822784</td>\n      <td>2.009505</td>\n      <td>...</td>\n      <td>3.276053</td>\n      <td>4.528635</td>\n      <td>3.650131</td>\n      <td>4.438565</td>\n      <td>3.595103</td>\n      <td>4.259514</td>\n      <td>2.723274</td>\n      <td>5.108675</td>\n      <td>3.032389</td>\n      <td>4.813557</td>\n    </tr>\n    <tr>\n      <th>min</th>\n      <td>47.835757</td>\n      <td>23.832996</td>\n      <td>18.922611</td>\n      <td>24.773072</td>\n      <td>41.779381</td>\n      <td>27.190098</td>\n      <td>52.947144</td>\n      <td>26.250023</td>\n      <td>24.112624</td>\n      <td>26.250023</td>\n      <td>...</td>\n      <td>24.472590</td>\n      <td>41.558400</td>\n      <td>43.869480</td>\n      <td>57.023258</td>\n      <td>9.778137</td>\n      <td>56.690208</td>\n      <td>32.260312</td>\n      <td>56.719043</td>\n      <td>33.047605</td>\n      <td>57.232296</td>\n    </tr>\n    <tr>\n      <th>25%</th>\n      <td>65.046300</td>\n      <td>35.468842</td>\n      <td>28.472224</td>\n      <td>35.818377</td>\n      <td>58.113054</td>\n      <td>36.607950</td>\n      <td>71.741978</td>\n      <td>36.102409</td>\n      <td>35.495730</td>\n      <td>36.766783</td>\n      <td>...</td>\n      <td>46.495330</td>\n      <td>54.466000</td>\n      <td>61.341291</td>\n      <td>72.874263</td>\n      <td>30.879288</td>\n      <td>73.280038</td>\n      <td>46.580004</td>\n      <td>69.271669</td>\n      <td>46.492000</td>\n      <td>79.417480</td>\n    </tr>\n    <tr>\n      <th>50%</th>\n      <td>66.129065</td>\n      <td>36.913319</td>\n      <td>29.655440</td>\n      <td>37.048085</td>\n      <td>59.327154</td>\n      <td>37.845220</td>\n      <td>73.240045</td>\n      <td>37.624207</td>\n      <td>36.620735</td>\n      <td>37.920336</td>\n      <td>...</td>\n      <td>47.900511</td>\n      <td>57.638582</td>\n      <td>63.199057</td>\n      <td>75.682465</td>\n      <td>33.034022</td>\n      <td>75.941985</td>\n      <td>47.939031</td>\n      <td>72.395978</td>\n      <td>47.980854</td>\n      <td>82.388899</td>\n    </tr>\n    <tr>\n      <th>75%</th>\n      <td>67.332093</td>\n      <td>38.286438</td>\n      <td>30.858673</td>\n      <td>38.333884</td>\n      <td>60.521492</td>\n      <td>39.195431</td>\n      <td>74.978684</td>\n      <td>39.308331</td>\n      <td>37.665280</td>\n      <td>39.143921</td>\n      <td>...</td>\n      <td>49.260657</td>\n      <td>60.303524</td>\n      <td>65.302398</td>\n      <td>78.774969</td>\n      <td>35.063575</td>\n      <td>78.884031</td>\n      <td>49.290000</td>\n      <td>75.840286</td>\n      <td>49.551936</td>\n      <td>85.697976</td>\n    </tr>\n    <tr>\n      <th>max</th>\n      <td>78.013082</td>\n      <td>46.132421</td>\n      <td>42.495172</td>\n      <td>45.980981</td>\n      <td>69.023030</td>\n      <td>47.190316</td>\n      <td>87.032252</td>\n      <td>49.653825</td>\n      <td>47.293746</td>\n      <td>44.887301</td>\n      <td>...</td>\n      <td>65.279654</td>\n      <td>75.992731</td>\n      <td>84.767123</td>\n      <td>94.673637</td>\n      <td>50.973348</td>\n      <td>93.443176</td>\n      <td>61.804506</td>\n      <td>93.916338</td>\n      <td>62.438095</td>\n      <td>95.808983</td>\n    </tr>\n  </tbody>\n</table>\n<p>8 rows × 30 columns</p>\n</div>"
     },
     "execution_count": 13,
     "metadata": {},
     "output_type": "execute_result"
    }
   ],
   "source": [
    "keyfacial_df.describe()"
   ]
  },
  {
   "cell_type": "markdown",
   "metadata": {
    "id": "bNkYttG_tOKf"
   },
   "source": [
    "# TASK #3: PERFORM IMAGE VISUALIZATION"
   ]
  },
  {
   "cell_type": "code",
   "execution_count": 14,
   "metadata": {
    "colab": {
     "base_uri": "https://localhost:8080/",
     "height": 268
    },
    "id": "KpJujwjyr_dc",
    "outputId": "28bdf87e-5988-4211-e2a5-5d0dd0d14b77",
    "ExecuteTime": {
     "end_time": "2023-11-27T13:18:39.137715400Z",
     "start_time": "2023-11-27T13:18:36.433211700Z"
    }
   },
   "outputs": [
    {
     "ename": "InvalidIndexError",
     "evalue": "tf.Tensor(0, shape=(), dtype=int32)",
     "output_type": "error",
     "traceback": [
      "\u001B[1;31m---------------------------------------------------------------------------\u001B[0m",
      "\u001B[1;31mTypeError\u001B[0m                                 Traceback (most recent call last)",
      "File \u001B[1;32m~\\AppData\\Local\\Packages\\PythonSoftwareFoundation.Python.3.9_qbz5n2kfra8p0\\LocalCache\\local-packages\\Python39\\site-packages\\pandas\\core\\indexes\\base.py:3790\u001B[0m, in \u001B[0;36mIndex.get_loc\u001B[1;34m(self, key)\u001B[0m\n\u001B[0;32m   3789\u001B[0m \u001B[38;5;28;01mtry\u001B[39;00m:\n\u001B[1;32m-> 3790\u001B[0m     \u001B[38;5;28;01mreturn\u001B[39;00m \u001B[38;5;28;43mself\u001B[39;49m\u001B[38;5;241;43m.\u001B[39;49m\u001B[43m_engine\u001B[49m\u001B[38;5;241;43m.\u001B[39;49m\u001B[43mget_loc\u001B[49m\u001B[43m(\u001B[49m\u001B[43mcasted_key\u001B[49m\u001B[43m)\u001B[49m\n\u001B[0;32m   3791\u001B[0m \u001B[38;5;28;01mexcept\u001B[39;00m \u001B[38;5;167;01mKeyError\u001B[39;00m \u001B[38;5;28;01mas\u001B[39;00m err:\n",
      "File \u001B[1;32mindex.pyx:152\u001B[0m, in \u001B[0;36mpandas._libs.index.IndexEngine.get_loc\u001B[1;34m()\u001B[0m\n",
      "File \u001B[1;32mindex.pyx:158\u001B[0m, in \u001B[0;36mpandas._libs.index.IndexEngine.get_loc\u001B[1;34m()\u001B[0m\n",
      "\u001B[1;31mTypeError\u001B[0m: '0' is an invalid key",
      "\nDuring handling of the above exception, another exception occurred:\n",
      "\u001B[1;31mInvalidIndexError\u001B[0m                         Traceback (most recent call last)",
      "Cell \u001B[1;32mIn[14], line 10\u001B[0m\n\u001B[0;32m      8\u001B[0m plt\u001B[38;5;241m.\u001B[39mimshow(keyfacial_df[\u001B[38;5;124m'\u001B[39m\u001B[38;5;124mImage\u001B[39m\u001B[38;5;124m'\u001B[39m][i], cmap \u001B[38;5;241m=\u001B[39m \u001B[38;5;124m'\u001B[39m\u001B[38;5;124mgray\u001B[39m\u001B[38;5;124m'\u001B[39m)\n\u001B[0;32m      9\u001B[0m \u001B[38;5;28;01mfor\u001B[39;00m j \u001B[38;5;129;01min\u001B[39;00m \u001B[38;5;28mrange\u001B[39m(\u001B[38;5;241m1\u001B[39m, \u001B[38;5;241m31\u001B[39m, \u001B[38;5;241m2\u001B[39m):\n\u001B[1;32m---> 10\u001B[0m         plt\u001B[38;5;241m.\u001B[39mplot(\u001B[43mkeyfacial_df\u001B[49m\u001B[38;5;241;43m.\u001B[39;49m\u001B[43mloc\u001B[49m\u001B[43m[\u001B[49m\u001B[43mi\u001B[49m\u001B[43m]\u001B[49m\u001B[43m[\u001B[49m\u001B[43mj\u001B[49m\u001B[38;5;241;43m-\u001B[39;49m\u001B[38;5;241;43m1\u001B[39;49m\u001B[43m]\u001B[49m, keyfacial_df\u001B[38;5;241m.\u001B[39mloc[i][j], \u001B[38;5;124m'\u001B[39m\u001B[38;5;124mrx\u001B[39m\u001B[38;5;124m'\u001B[39m)\n",
      "File \u001B[1;32m~\\AppData\\Local\\Packages\\PythonSoftwareFoundation.Python.3.9_qbz5n2kfra8p0\\LocalCache\\local-packages\\Python39\\site-packages\\pandas\\core\\series.py:1072\u001B[0m, in \u001B[0;36mSeries.__getitem__\u001B[1;34m(self, key)\u001B[0m\n\u001B[0;32m   1069\u001B[0m     key \u001B[38;5;241m=\u001B[39m np\u001B[38;5;241m.\u001B[39masarray(key, dtype\u001B[38;5;241m=\u001B[39m\u001B[38;5;28mbool\u001B[39m)\n\u001B[0;32m   1070\u001B[0m     \u001B[38;5;28;01mreturn\u001B[39;00m \u001B[38;5;28mself\u001B[39m\u001B[38;5;241m.\u001B[39m_get_rows_with_mask(key)\n\u001B[1;32m-> 1072\u001B[0m \u001B[38;5;28;01mreturn\u001B[39;00m \u001B[38;5;28;43mself\u001B[39;49m\u001B[38;5;241;43m.\u001B[39;49m\u001B[43m_get_with\u001B[49m\u001B[43m(\u001B[49m\u001B[43mkey\u001B[49m\u001B[43m)\u001B[49m\n",
      "File \u001B[1;32m~\\AppData\\Local\\Packages\\PythonSoftwareFoundation.Python.3.9_qbz5n2kfra8p0\\LocalCache\\local-packages\\Python39\\site-packages\\pandas\\core\\series.py:1086\u001B[0m, in \u001B[0;36mSeries._get_with\u001B[1;34m(self, key)\u001B[0m\n\u001B[0;32m   1082\u001B[0m     \u001B[38;5;28;01mreturn\u001B[39;00m \u001B[38;5;28mself\u001B[39m\u001B[38;5;241m.\u001B[39m_get_values_tuple(key)\n\u001B[0;32m   1084\u001B[0m \u001B[38;5;28;01melif\u001B[39;00m \u001B[38;5;129;01mnot\u001B[39;00m is_list_like(key):\n\u001B[0;32m   1085\u001B[0m     \u001B[38;5;66;03m# e.g. scalars that aren't recognized by lib.is_scalar, GH#32684\u001B[39;00m\n\u001B[1;32m-> 1086\u001B[0m     \u001B[38;5;28;01mreturn\u001B[39;00m \u001B[38;5;28;43mself\u001B[39;49m\u001B[38;5;241;43m.\u001B[39;49m\u001B[43mloc\u001B[49m\u001B[43m[\u001B[49m\u001B[43mkey\u001B[49m\u001B[43m]\u001B[49m\n\u001B[0;32m   1088\u001B[0m \u001B[38;5;28;01mif\u001B[39;00m \u001B[38;5;129;01mnot\u001B[39;00m \u001B[38;5;28misinstance\u001B[39m(key, (\u001B[38;5;28mlist\u001B[39m, np\u001B[38;5;241m.\u001B[39mndarray, ExtensionArray, Series, Index)):\n\u001B[0;32m   1089\u001B[0m     key \u001B[38;5;241m=\u001B[39m \u001B[38;5;28mlist\u001B[39m(key)\n",
      "File \u001B[1;32m~\\AppData\\Local\\Packages\\PythonSoftwareFoundation.Python.3.9_qbz5n2kfra8p0\\LocalCache\\local-packages\\Python39\\site-packages\\pandas\\core\\indexing.py:1153\u001B[0m, in \u001B[0;36m_LocationIndexer.__getitem__\u001B[1;34m(self, key)\u001B[0m\n\u001B[0;32m   1150\u001B[0m axis \u001B[38;5;241m=\u001B[39m \u001B[38;5;28mself\u001B[39m\u001B[38;5;241m.\u001B[39maxis \u001B[38;5;129;01mor\u001B[39;00m \u001B[38;5;241m0\u001B[39m\n\u001B[0;32m   1152\u001B[0m maybe_callable \u001B[38;5;241m=\u001B[39m com\u001B[38;5;241m.\u001B[39mapply_if_callable(key, \u001B[38;5;28mself\u001B[39m\u001B[38;5;241m.\u001B[39mobj)\n\u001B[1;32m-> 1153\u001B[0m \u001B[38;5;28;01mreturn\u001B[39;00m \u001B[38;5;28;43mself\u001B[39;49m\u001B[38;5;241;43m.\u001B[39;49m\u001B[43m_getitem_axis\u001B[49m\u001B[43m(\u001B[49m\u001B[43mmaybe_callable\u001B[49m\u001B[43m,\u001B[49m\u001B[43m \u001B[49m\u001B[43maxis\u001B[49m\u001B[38;5;241;43m=\u001B[39;49m\u001B[43maxis\u001B[49m\u001B[43m)\u001B[49m\n",
      "File \u001B[1;32m~\\AppData\\Local\\Packages\\PythonSoftwareFoundation.Python.3.9_qbz5n2kfra8p0\\LocalCache\\local-packages\\Python39\\site-packages\\pandas\\core\\indexing.py:1393\u001B[0m, in \u001B[0;36m_LocIndexer._getitem_axis\u001B[1;34m(self, key, axis)\u001B[0m\n\u001B[0;32m   1391\u001B[0m \u001B[38;5;66;03m# fall thru to straight lookup\u001B[39;00m\n\u001B[0;32m   1392\u001B[0m \u001B[38;5;28mself\u001B[39m\u001B[38;5;241m.\u001B[39m_validate_key(key, axis)\n\u001B[1;32m-> 1393\u001B[0m \u001B[38;5;28;01mreturn\u001B[39;00m \u001B[38;5;28;43mself\u001B[39;49m\u001B[38;5;241;43m.\u001B[39;49m\u001B[43m_get_label\u001B[49m\u001B[43m(\u001B[49m\u001B[43mkey\u001B[49m\u001B[43m,\u001B[49m\u001B[43m \u001B[49m\u001B[43maxis\u001B[49m\u001B[38;5;241;43m=\u001B[39;49m\u001B[43maxis\u001B[49m\u001B[43m)\u001B[49m\n",
      "File \u001B[1;32m~\\AppData\\Local\\Packages\\PythonSoftwareFoundation.Python.3.9_qbz5n2kfra8p0\\LocalCache\\local-packages\\Python39\\site-packages\\pandas\\core\\indexing.py:1343\u001B[0m, in \u001B[0;36m_LocIndexer._get_label\u001B[1;34m(self, label, axis)\u001B[0m\n\u001B[0;32m   1341\u001B[0m \u001B[38;5;28;01mdef\u001B[39;00m \u001B[38;5;21m_get_label\u001B[39m(\u001B[38;5;28mself\u001B[39m, label, axis: AxisInt):\n\u001B[0;32m   1342\u001B[0m     \u001B[38;5;66;03m# GH#5567 this will fail if the label is not present in the axis.\u001B[39;00m\n\u001B[1;32m-> 1343\u001B[0m     \u001B[38;5;28;01mreturn\u001B[39;00m \u001B[38;5;28;43mself\u001B[39;49m\u001B[38;5;241;43m.\u001B[39;49m\u001B[43mobj\u001B[49m\u001B[38;5;241;43m.\u001B[39;49m\u001B[43mxs\u001B[49m\u001B[43m(\u001B[49m\u001B[43mlabel\u001B[49m\u001B[43m,\u001B[49m\u001B[43m \u001B[49m\u001B[43maxis\u001B[49m\u001B[38;5;241;43m=\u001B[39;49m\u001B[43maxis\u001B[49m\u001B[43m)\u001B[49m\n",
      "File \u001B[1;32m~\\AppData\\Local\\Packages\\PythonSoftwareFoundation.Python.3.9_qbz5n2kfra8p0\\LocalCache\\local-packages\\Python39\\site-packages\\pandas\\core\\generic.py:4236\u001B[0m, in \u001B[0;36mNDFrame.xs\u001B[1;34m(self, key, axis, level, drop_level)\u001B[0m\n\u001B[0;32m   4234\u001B[0m             new_index \u001B[38;5;241m=\u001B[39m index[loc]\n\u001B[0;32m   4235\u001B[0m \u001B[38;5;28;01melse\u001B[39;00m:\n\u001B[1;32m-> 4236\u001B[0m     loc \u001B[38;5;241m=\u001B[39m \u001B[43mindex\u001B[49m\u001B[38;5;241;43m.\u001B[39;49m\u001B[43mget_loc\u001B[49m\u001B[43m(\u001B[49m\u001B[43mkey\u001B[49m\u001B[43m)\u001B[49m\n\u001B[0;32m   4238\u001B[0m     \u001B[38;5;28;01mif\u001B[39;00m \u001B[38;5;28misinstance\u001B[39m(loc, np\u001B[38;5;241m.\u001B[39mndarray):\n\u001B[0;32m   4239\u001B[0m         \u001B[38;5;28;01mif\u001B[39;00m loc\u001B[38;5;241m.\u001B[39mdtype \u001B[38;5;241m==\u001B[39m np\u001B[38;5;241m.\u001B[39mbool_:\n",
      "File \u001B[1;32m~\\AppData\\Local\\Packages\\PythonSoftwareFoundation.Python.3.9_qbz5n2kfra8p0\\LocalCache\\local-packages\\Python39\\site-packages\\pandas\\core\\indexes\\base.py:3802\u001B[0m, in \u001B[0;36mIndex.get_loc\u001B[1;34m(self, key)\u001B[0m\n\u001B[0;32m   3797\u001B[0m     \u001B[38;5;28;01mraise\u001B[39;00m \u001B[38;5;167;01mKeyError\u001B[39;00m(key) \u001B[38;5;28;01mfrom\u001B[39;00m \u001B[38;5;21;01merr\u001B[39;00m\n\u001B[0;32m   3798\u001B[0m \u001B[38;5;28;01mexcept\u001B[39;00m \u001B[38;5;167;01mTypeError\u001B[39;00m:\n\u001B[0;32m   3799\u001B[0m     \u001B[38;5;66;03m# If we have a listlike key, _check_indexing_error will raise\u001B[39;00m\n\u001B[0;32m   3800\u001B[0m     \u001B[38;5;66;03m#  InvalidIndexError. Otherwise we fall through and re-raise\u001B[39;00m\n\u001B[0;32m   3801\u001B[0m     \u001B[38;5;66;03m#  the TypeError.\u001B[39;00m\n\u001B[1;32m-> 3802\u001B[0m     \u001B[38;5;28;43mself\u001B[39;49m\u001B[38;5;241;43m.\u001B[39;49m\u001B[43m_check_indexing_error\u001B[49m\u001B[43m(\u001B[49m\u001B[43mkey\u001B[49m\u001B[43m)\u001B[49m\n\u001B[0;32m   3803\u001B[0m     \u001B[38;5;28;01mraise\u001B[39;00m\n",
      "File \u001B[1;32m~\\AppData\\Local\\Packages\\PythonSoftwareFoundation.Python.3.9_qbz5n2kfra8p0\\LocalCache\\local-packages\\Python39\\site-packages\\pandas\\core\\indexes\\base.py:5974\u001B[0m, in \u001B[0;36mIndex._check_indexing_error\u001B[1;34m(self, key)\u001B[0m\n\u001B[0;32m   5970\u001B[0m \u001B[38;5;28;01mdef\u001B[39;00m \u001B[38;5;21m_check_indexing_error\u001B[39m(\u001B[38;5;28mself\u001B[39m, key):\n\u001B[0;32m   5971\u001B[0m     \u001B[38;5;28;01mif\u001B[39;00m \u001B[38;5;129;01mnot\u001B[39;00m is_scalar(key):\n\u001B[0;32m   5972\u001B[0m         \u001B[38;5;66;03m# if key is not a scalar, directly raise an error (the code below\u001B[39;00m\n\u001B[0;32m   5973\u001B[0m         \u001B[38;5;66;03m# would convert to numpy arrays and raise later any way) - GH29926\u001B[39;00m\n\u001B[1;32m-> 5974\u001B[0m         \u001B[38;5;28;01mraise\u001B[39;00m InvalidIndexError(key)\n",
      "\u001B[1;31mInvalidIndexError\u001B[0m: tf.Tensor(0, shape=(), dtype=int32)"
     ]
    },
    {
     "data": {
      "text/plain": "<Figure size 640x480 with 1 Axes>",
      "image/png": "[encoded data removed]"
     },
     "metadata": {},
     "output_type": "display_data"
    }
   ],
   "source": [
    "# Plot a random image from the dataset along with facial keypoints.\n",
    "# Image data is obtained from df['Image'] and plotted using plt.imshow\n",
    "# 15 x and y coordinates for the corresponding image\n",
    "# since x-coordinates are in even columns like 0,2,4,.. and y-coordinates are in odd columns like 1,3,5,..\n",
    "# we access their value using .loc command, which get the values for coordinates of the image based on the column it is refering to.\n",
    "\n",
    "i = np.random.randint(1, len(keyfacial_df))\n",
    "plt.imshow(keyfacial_df['Image'][i], cmap = 'gray')\n",
    "for j in range(1, 31, 2):\n",
    "        plt.plot(keyfacial_df.loc[i][j-1], keyfacial_df.loc[i][j], 'rx')\n"
   ]
  },
  {
   "cell_type": "code",
   "execution_count": 16,
   "metadata": {
    "colab": {
     "base_uri": "https://localhost:8080/",
     "height": 973
    },
    "id": "oSZfQwc3r_be",
    "outputId": "cab91986-4b52-4363-b121-08599dfb2763"
   },
   "outputs": [
    {
     "ename": "ValueError",
     "evalue": "num must be an integer with 1 <= num <= 16, not <tf.Tensor: shape=(), dtype=int32, numpy=1>",
     "output_type": "error",
     "traceback": [
      "\u001B[1;31m---------------------------------------------------------------------------\u001B[0m",
      "\u001B[1;31mValueError\u001B[0m                                Traceback (most recent call last)",
      "Cell \u001B[1;32mIn[16], line 5\u001B[0m\n\u001B[0;32m      2\u001B[0m fig \u001B[38;5;241m=\u001B[39m plt\u001B[38;5;241m.\u001B[39mfigure(figsize\u001B[38;5;241m=\u001B[39m(\u001B[38;5;241m20\u001B[39m, \u001B[38;5;241m20\u001B[39m))\n\u001B[0;32m      4\u001B[0m \u001B[38;5;28;01mfor\u001B[39;00m i \u001B[38;5;129;01min\u001B[39;00m \u001B[38;5;28mrange\u001B[39m(\u001B[38;5;241m16\u001B[39m):\n\u001B[1;32m----> 5\u001B[0m     ax \u001B[38;5;241m=\u001B[39m \u001B[43mfig\u001B[49m\u001B[38;5;241;43m.\u001B[39;49m\u001B[43madd_subplot\u001B[49m\u001B[43m(\u001B[49m\u001B[38;5;241;43m4\u001B[39;49m\u001B[43m,\u001B[49m\u001B[43m \u001B[49m\u001B[38;5;241;43m4\u001B[39;49m\u001B[43m,\u001B[49m\u001B[43m \u001B[49m\u001B[43mi\u001B[49m\u001B[43m \u001B[49m\u001B[38;5;241;43m+\u001B[39;49m\u001B[43m \u001B[49m\u001B[38;5;241;43m1\u001B[39;49m\u001B[43m)\u001B[49m\n\u001B[0;32m      6\u001B[0m     image \u001B[38;5;241m=\u001B[39m plt\u001B[38;5;241m.\u001B[39mimshow(keyfacial_df[\u001B[38;5;124m'\u001B[39m\u001B[38;5;124mImage\u001B[39m\u001B[38;5;124m'\u001B[39m][i],cmap \u001B[38;5;241m=\u001B[39m \u001B[38;5;124m'\u001B[39m\u001B[38;5;124mgray\u001B[39m\u001B[38;5;124m'\u001B[39m)\n\u001B[0;32m      7\u001B[0m     \u001B[38;5;28;01mfor\u001B[39;00m j \u001B[38;5;129;01min\u001B[39;00m \u001B[38;5;28mrange\u001B[39m(\u001B[38;5;241m1\u001B[39m,\u001B[38;5;241m31\u001B[39m,\u001B[38;5;241m2\u001B[39m):\n",
      "File \u001B[1;32m~\\AppData\\Local\\Packages\\PythonSoftwareFoundation.Python.3.9_qbz5n2kfra8p0\\LocalCache\\local-packages\\Python39\\site-packages\\matplotlib\\figure.py:782\u001B[0m, in \u001B[0;36mFigureBase.add_subplot\u001B[1;34m(self, *args, **kwargs)\u001B[0m\n\u001B[0;32m    780\u001B[0m         args \u001B[38;5;241m=\u001B[39m \u001B[38;5;28mtuple\u001B[39m(\u001B[38;5;28mmap\u001B[39m(\u001B[38;5;28mint\u001B[39m, \u001B[38;5;28mstr\u001B[39m(args[\u001B[38;5;241m0\u001B[39m])))\n\u001B[0;32m    781\u001B[0m     projection_class, pkw \u001B[38;5;241m=\u001B[39m \u001B[38;5;28mself\u001B[39m\u001B[38;5;241m.\u001B[39m_process_projection_requirements(\u001B[38;5;241m*\u001B[39m\u001B[38;5;241m*\u001B[39mkwargs)\n\u001B[1;32m--> 782\u001B[0m     ax \u001B[38;5;241m=\u001B[39m projection_class(\u001B[38;5;28mself\u001B[39m, \u001B[38;5;241m*\u001B[39margs, \u001B[38;5;241m*\u001B[39m\u001B[38;5;241m*\u001B[39mpkw)\n\u001B[0;32m    783\u001B[0m     key \u001B[38;5;241m=\u001B[39m (projection_class, pkw)\n\u001B[0;32m    784\u001B[0m \u001B[38;5;28;01mreturn\u001B[39;00m \u001B[38;5;28mself\u001B[39m\u001B[38;5;241m.\u001B[39m_add_axes_internal(ax, key)\n",
      "File \u001B[1;32m~\\AppData\\Local\\Packages\\PythonSoftwareFoundation.Python.3.9_qbz5n2kfra8p0\\LocalCache\\local-packages\\Python39\\site-packages\\matplotlib\\axes\\_base.py:639\u001B[0m, in \u001B[0;36m_AxesBase.__init__\u001B[1;34m(self, fig, facecolor, frameon, sharex, sharey, label, xscale, yscale, box_aspect, *args, **kwargs)\u001B[0m\n\u001B[0;32m    637\u001B[0m \u001B[38;5;28;01melse\u001B[39;00m:\n\u001B[0;32m    638\u001B[0m     \u001B[38;5;28mself\u001B[39m\u001B[38;5;241m.\u001B[39m_position \u001B[38;5;241m=\u001B[39m \u001B[38;5;28mself\u001B[39m\u001B[38;5;241m.\u001B[39m_originalPosition \u001B[38;5;241m=\u001B[39m mtransforms\u001B[38;5;241m.\u001B[39mBbox\u001B[38;5;241m.\u001B[39munit()\n\u001B[1;32m--> 639\u001B[0m     subplotspec \u001B[38;5;241m=\u001B[39m \u001B[43mSubplotSpec\u001B[49m\u001B[38;5;241;43m.\u001B[39;49m\u001B[43m_from_subplot_args\u001B[49m\u001B[43m(\u001B[49m\u001B[43mfig\u001B[49m\u001B[43m,\u001B[49m\u001B[43m \u001B[49m\u001B[43margs\u001B[49m\u001B[43m)\u001B[49m\n\u001B[0;32m    640\u001B[0m \u001B[38;5;28;01mif\u001B[39;00m \u001B[38;5;28mself\u001B[39m\u001B[38;5;241m.\u001B[39m_position\u001B[38;5;241m.\u001B[39mwidth \u001B[38;5;241m<\u001B[39m \u001B[38;5;241m0\u001B[39m \u001B[38;5;129;01mor\u001B[39;00m \u001B[38;5;28mself\u001B[39m\u001B[38;5;241m.\u001B[39m_position\u001B[38;5;241m.\u001B[39mheight \u001B[38;5;241m<\u001B[39m \u001B[38;5;241m0\u001B[39m:\n\u001B[0;32m    641\u001B[0m     \u001B[38;5;28;01mraise\u001B[39;00m \u001B[38;5;167;01mValueError\u001B[39;00m(\u001B[38;5;124m'\u001B[39m\u001B[38;5;124mWidth and height specified must be non-negative\u001B[39m\u001B[38;5;124m'\u001B[39m)\n",
      "File \u001B[1;32m~\\AppData\\Local\\Packages\\PythonSoftwareFoundation.Python.3.9_qbz5n2kfra8p0\\LocalCache\\local-packages\\Python39\\site-packages\\matplotlib\\gridspec.py:599\u001B[0m, in \u001B[0;36mSubplotSpec._from_subplot_args\u001B[1;34m(figure, args)\u001B[0m\n\u001B[0;32m    597\u001B[0m \u001B[38;5;28;01melse\u001B[39;00m:\n\u001B[0;32m    598\u001B[0m     \u001B[38;5;28;01mif\u001B[39;00m \u001B[38;5;129;01mnot\u001B[39;00m \u001B[38;5;28misinstance\u001B[39m(num, Integral) \u001B[38;5;129;01mor\u001B[39;00m num \u001B[38;5;241m<\u001B[39m \u001B[38;5;241m1\u001B[39m \u001B[38;5;129;01mor\u001B[39;00m num \u001B[38;5;241m>\u001B[39m rows\u001B[38;5;241m*\u001B[39mcols:\n\u001B[1;32m--> 599\u001B[0m         \u001B[38;5;28;01mraise\u001B[39;00m \u001B[38;5;167;01mValueError\u001B[39;00m(\n\u001B[0;32m    600\u001B[0m             \u001B[38;5;124mf\u001B[39m\u001B[38;5;124m\"\u001B[39m\u001B[38;5;124mnum must be an integer with 1 <= num <= \u001B[39m\u001B[38;5;132;01m{\u001B[39;00mrows\u001B[38;5;241m*\u001B[39mcols\u001B[38;5;132;01m}\u001B[39;00m\u001B[38;5;124m, \u001B[39m\u001B[38;5;124m\"\u001B[39m\n\u001B[0;32m    601\u001B[0m             \u001B[38;5;124mf\u001B[39m\u001B[38;5;124m\"\u001B[39m\u001B[38;5;124mnot \u001B[39m\u001B[38;5;132;01m{\u001B[39;00mnum\u001B[38;5;132;01m!r}\u001B[39;00m\u001B[38;5;124m\"\u001B[39m\n\u001B[0;32m    602\u001B[0m         )\n\u001B[0;32m    603\u001B[0m     i \u001B[38;5;241m=\u001B[39m j \u001B[38;5;241m=\u001B[39m num\n\u001B[0;32m    604\u001B[0m \u001B[38;5;28;01mreturn\u001B[39;00m gs[i\u001B[38;5;241m-\u001B[39m\u001B[38;5;241m1\u001B[39m:j]\n",
      "\u001B[1;31mValueError\u001B[0m: num must be an integer with 1 <= num <= 16, not <tf.Tensor: shape=(), dtype=int32, numpy=1>"
     ]
    },
    {
     "data": {
      "text/plain": "<Figure size 2000x2000 with 0 Axes>"
     },
     "metadata": {},
     "output_type": "display_data"
    }
   ],
   "source": [
    "# Let's view more images in a grid format\n",
    "fig = plt.figure(figsize=(20, 20))\n",
    "\n",
    "for i in range(16):\n",
    "    ax = fig.add_subplot(4, 4, i + 1)\n",
    "    image = plt.imshow(keyfacial_df['Image'][i],cmap = 'gray')\n",
    "    for j in range(1,31,2):\n",
    "        plt.plot(keyfacial_df.loc[i][j-1], keyfacial_df.loc[i][j], 'rx')\n"
   ]
  },
  {
   "cell_type": "markdown",
   "metadata": {
    "id": "tBJERZH_fzg0"
   },
   "source": [
    "MINI CHALLENGE #2:\n",
    "- Perform a sanity check on the data by randomly visualizing 64 new images along with their cooresponding key points"
   ]
  },
  {
   "cell_type": "code",
   "execution_count": 17,
   "metadata": {
    "colab": {
     "base_uri": "https://localhost:8080/",
     "height": 971
    },
    "id": "tPbtjUqHhYTX",
    "outputId": "f1ec8458-2a61-4cb5-d25b-3a8c3e0e0550",
    "ExecuteTime": {
     "end_time": "2023-11-27T13:20:34.634392700Z",
     "start_time": "2023-11-27T13:20:34.476352700Z"
    }
   },
   "outputs": [
    {
     "ename": "ValueError",
     "evalue": "num must be an integer with 1 <= num <= 64, not <tf.Tensor: shape=(), dtype=int32, numpy=1>",
     "output_type": "error",
     "traceback": [
      "\u001B[1;31m---------------------------------------------------------------------------\u001B[0m",
      "\u001B[1;31mValueError\u001B[0m                                Traceback (most recent call last)",
      "Cell \u001B[1;32mIn[17], line 7\u001B[0m\n\u001B[0;32m      5\u001B[0m \u001B[38;5;28;01mfor\u001B[39;00m i \u001B[38;5;129;01min\u001B[39;00m \u001B[38;5;28mrange\u001B[39m(\u001B[38;5;241m64\u001B[39m):\n\u001B[0;32m      6\u001B[0m     k \u001B[38;5;241m=\u001B[39m random\u001B[38;5;241m.\u001B[39mrandint(\u001B[38;5;241m1\u001B[39m, \u001B[38;5;28mlen\u001B[39m(keyfacial_df))\n\u001B[1;32m----> 7\u001B[0m     ax \u001B[38;5;241m=\u001B[39m \u001B[43mfig\u001B[49m\u001B[38;5;241;43m.\u001B[39;49m\u001B[43madd_subplot\u001B[49m\u001B[43m(\u001B[49m\u001B[38;5;241;43m8\u001B[39;49m\u001B[43m,\u001B[49m\u001B[43m \u001B[49m\u001B[38;5;241;43m8\u001B[39;49m\u001B[43m,\u001B[49m\u001B[43m \u001B[49m\u001B[43mi\u001B[49m\u001B[43m \u001B[49m\u001B[38;5;241;43m+\u001B[39;49m\u001B[43m \u001B[49m\u001B[38;5;241;43m1\u001B[39;49m\u001B[43m)\u001B[49m\n\u001B[0;32m      8\u001B[0m     image \u001B[38;5;241m=\u001B[39m plt\u001B[38;5;241m.\u001B[39mimshow(keyfacial_df[\u001B[38;5;124m'\u001B[39m\u001B[38;5;124mImage\u001B[39m\u001B[38;5;124m'\u001B[39m][k],cmap \u001B[38;5;241m=\u001B[39m \u001B[38;5;124m'\u001B[39m\u001B[38;5;124mgray\u001B[39m\u001B[38;5;124m'\u001B[39m)\n\u001B[0;32m      9\u001B[0m     \u001B[38;5;28;01mfor\u001B[39;00m j \u001B[38;5;129;01min\u001B[39;00m \u001B[38;5;28mrange\u001B[39m(\u001B[38;5;241m1\u001B[39m,\u001B[38;5;241m31\u001B[39m,\u001B[38;5;241m2\u001B[39m):\n",
      "File \u001B[1;32m~\\AppData\\Local\\Packages\\PythonSoftwareFoundation.Python.3.9_qbz5n2kfra8p0\\LocalCache\\local-packages\\Python39\\site-packages\\matplotlib\\figure.py:782\u001B[0m, in \u001B[0;36mFigureBase.add_subplot\u001B[1;34m(self, *args, **kwargs)\u001B[0m\n\u001B[0;32m    780\u001B[0m         args \u001B[38;5;241m=\u001B[39m \u001B[38;5;28mtuple\u001B[39m(\u001B[38;5;28mmap\u001B[39m(\u001B[38;5;28mint\u001B[39m, \u001B[38;5;28mstr\u001B[39m(args[\u001B[38;5;241m0\u001B[39m])))\n\u001B[0;32m    781\u001B[0m     projection_class, pkw \u001B[38;5;241m=\u001B[39m \u001B[38;5;28mself\u001B[39m\u001B[38;5;241m.\u001B[39m_process_projection_requirements(\u001B[38;5;241m*\u001B[39m\u001B[38;5;241m*\u001B[39mkwargs)\n\u001B[1;32m--> 782\u001B[0m     ax \u001B[38;5;241m=\u001B[39m projection_class(\u001B[38;5;28mself\u001B[39m, \u001B[38;5;241m*\u001B[39margs, \u001B[38;5;241m*\u001B[39m\u001B[38;5;241m*\u001B[39mpkw)\n\u001B[0;32m    783\u001B[0m     key \u001B[38;5;241m=\u001B[39m (projection_class, pkw)\n\u001B[0;32m    784\u001B[0m \u001B[38;5;28;01mreturn\u001B[39;00m \u001B[38;5;28mself\u001B[39m\u001B[38;5;241m.\u001B[39m_add_axes_internal(ax, key)\n",
      "File \u001B[1;32m~\\AppData\\Local\\Packages\\PythonSoftwareFoundation.Python.3.9_qbz5n2kfra8p0\\LocalCache\\local-packages\\Python39\\site-packages\\matplotlib\\axes\\_base.py:639\u001B[0m, in \u001B[0;36m_AxesBase.__init__\u001B[1;34m(self, fig, facecolor, frameon, sharex, sharey, label, xscale, yscale, box_aspect, *args, **kwargs)\u001B[0m\n\u001B[0;32m    637\u001B[0m \u001B[38;5;28;01melse\u001B[39;00m:\n\u001B[0;32m    638\u001B[0m     \u001B[38;5;28mself\u001B[39m\u001B[38;5;241m.\u001B[39m_position \u001B[38;5;241m=\u001B[39m \u001B[38;5;28mself\u001B[39m\u001B[38;5;241m.\u001B[39m_originalPosition \u001B[38;5;241m=\u001B[39m mtransforms\u001B[38;5;241m.\u001B[39mBbox\u001B[38;5;241m.\u001B[39munit()\n\u001B[1;32m--> 639\u001B[0m     subplotspec \u001B[38;5;241m=\u001B[39m \u001B[43mSubplotSpec\u001B[49m\u001B[38;5;241;43m.\u001B[39;49m\u001B[43m_from_subplot_args\u001B[49m\u001B[43m(\u001B[49m\u001B[43mfig\u001B[49m\u001B[43m,\u001B[49m\u001B[43m \u001B[49m\u001B[43margs\u001B[49m\u001B[43m)\u001B[49m\n\u001B[0;32m    640\u001B[0m \u001B[38;5;28;01mif\u001B[39;00m \u001B[38;5;28mself\u001B[39m\u001B[38;5;241m.\u001B[39m_position\u001B[38;5;241m.\u001B[39mwidth \u001B[38;5;241m<\u001B[39m \u001B[38;5;241m0\u001B[39m \u001B[38;5;129;01mor\u001B[39;00m \u001B[38;5;28mself\u001B[39m\u001B[38;5;241m.\u001B[39m_position\u001B[38;5;241m.\u001B[39mheight \u001B[38;5;241m<\u001B[39m \u001B[38;5;241m0\u001B[39m:\n\u001B[0;32m    641\u001B[0m     \u001B[38;5;28;01mraise\u001B[39;00m \u001B[38;5;167;01mValueError\u001B[39;00m(\u001B[38;5;124m'\u001B[39m\u001B[38;5;124mWidth and height specified must be non-negative\u001B[39m\u001B[38;5;124m'\u001B[39m)\n",
      "File \u001B[1;32m~\\AppData\\Local\\Packages\\PythonSoftwareFoundation.Python.3.9_qbz5n2kfra8p0\\LocalCache\\local-packages\\Python39\\site-packages\\matplotlib\\gridspec.py:599\u001B[0m, in \u001B[0;36mSubplotSpec._from_subplot_args\u001B[1;34m(figure, args)\u001B[0m\n\u001B[0;32m    597\u001B[0m \u001B[38;5;28;01melse\u001B[39;00m:\n\u001B[0;32m    598\u001B[0m     \u001B[38;5;28;01mif\u001B[39;00m \u001B[38;5;129;01mnot\u001B[39;00m \u001B[38;5;28misinstance\u001B[39m(num, Integral) \u001B[38;5;129;01mor\u001B[39;00m num \u001B[38;5;241m<\u001B[39m \u001B[38;5;241m1\u001B[39m \u001B[38;5;129;01mor\u001B[39;00m num \u001B[38;5;241m>\u001B[39m rows\u001B[38;5;241m*\u001B[39mcols:\n\u001B[1;32m--> 599\u001B[0m         \u001B[38;5;28;01mraise\u001B[39;00m \u001B[38;5;167;01mValueError\u001B[39;00m(\n\u001B[0;32m    600\u001B[0m             \u001B[38;5;124mf\u001B[39m\u001B[38;5;124m\"\u001B[39m\u001B[38;5;124mnum must be an integer with 1 <= num <= \u001B[39m\u001B[38;5;132;01m{\u001B[39;00mrows\u001B[38;5;241m*\u001B[39mcols\u001B[38;5;132;01m}\u001B[39;00m\u001B[38;5;124m, \u001B[39m\u001B[38;5;124m\"\u001B[39m\n\u001B[0;32m    601\u001B[0m             \u001B[38;5;124mf\u001B[39m\u001B[38;5;124m\"\u001B[39m\u001B[38;5;124mnot \u001B[39m\u001B[38;5;132;01m{\u001B[39;00mnum\u001B[38;5;132;01m!r}\u001B[39;00m\u001B[38;5;124m\"\u001B[39m\n\u001B[0;32m    602\u001B[0m         )\n\u001B[0;32m    603\u001B[0m     i \u001B[38;5;241m=\u001B[39m j \u001B[38;5;241m=\u001B[39m num\n\u001B[0;32m    604\u001B[0m \u001B[38;5;28;01mreturn\u001B[39;00m gs[i\u001B[38;5;241m-\u001B[39m\u001B[38;5;241m1\u001B[39m:j]\n",
      "\u001B[1;31mValueError\u001B[0m: num must be an integer with 1 <= num <= 64, not <tf.Tensor: shape=(), dtype=int32, numpy=1>"
     ]
    },
    {
     "data": {
      "text/plain": "<Figure size 2000x2000 with 0 Axes>"
     },
     "metadata": {},
     "output_type": "display_data"
    }
   ],
   "source": [
    "import random\n",
    "# Let's view more images in a grid format\n",
    "fig = plt.figure(figsize=(20, 20))\n",
    "\n",
    "for i in range(64):\n",
    "    k = random.randint(1, len(keyfacial_df))\n",
    "    ax = fig.add_subplot(8, 8, i + 1)\n",
    "    image = plt.imshow(keyfacial_df['Image'][k],cmap = 'gray')\n",
    "    for j in range(1,31,2):\n",
    "        plt.plot(keyfacial_df.loc[k][j-1], keyfacial_df.loc[k][j], 'rx')\n"
   ]
  },
  {
   "cell_type": "markdown",
   "metadata": {
    "id": "wbqDwd1mteJ4"
   },
   "source": [
    "# TASK #4: PERFORM IMAGE AUGMENTATION"
   ]
  },
  {
   "cell_type": "code",
   "execution_count": 18,
   "metadata": {
    "id": "H3TLq1UbtazX",
    "ExecuteTime": {
     "end_time": "2023-11-27T13:20:40.710777500Z",
     "start_time": "2023-11-27T13:20:40.555708800Z"
    }
   },
   "outputs": [],
   "source": [
    "# Create a new copy of the dataframe\n",
    "import copy\n",
    "keyfacial_df_copy = copy.copy(keyfacial_df)"
   ]
  },
  {
   "cell_type": "code",
   "execution_count": 19,
   "metadata": {
    "colab": {
     "base_uri": "https://localhost:8080/",
     "height": 274
    },
    "id": "ypyn10X7tbrb",
    "outputId": "f82352c3-09e3-410f-8adc-a4b5236e1a1e",
    "ExecuteTime": {
     "end_time": "2023-11-27T13:20:45.858879200Z",
     "start_time": "2023-11-27T13:20:45.658808500Z"
    }
   },
   "outputs": [
    {
     "data": {
      "text/plain": "Index(['left_eye_center_x', 'left_eye_center_y', 'right_eye_center_x',\n       'right_eye_center_y', 'left_eye_inner_corner_x',\n       'left_eye_inner_corner_y', 'left_eye_outer_corner_x',\n       'left_eye_outer_corner_y', 'right_eye_inner_corner_x',\n       'right_eye_inner_corner_y', 'right_eye_outer_corner_x',\n       'right_eye_outer_corner_y', 'left_eyebrow_inner_end_x',\n       'left_eyebrow_inner_end_y', 'left_eyebrow_outer_end_x',\n       'left_eyebrow_outer_end_y', 'right_eyebrow_inner_end_x',\n       'right_eyebrow_inner_end_y', 'right_eyebrow_outer_end_x',\n       'right_eyebrow_outer_end_y', 'nose_tip_x', 'nose_tip_y',\n       'mouth_left_corner_x', 'mouth_left_corner_y', 'mouth_right_corner_x',\n       'mouth_right_corner_y', 'mouth_center_top_lip_x',\n       'mouth_center_top_lip_y', 'mouth_center_bottom_lip_x',\n       'mouth_center_bottom_lip_y'],\n      dtype='object')"
     },
     "execution_count": 19,
     "metadata": {},
     "output_type": "execute_result"
    }
   ],
   "source": [
    "# Obtain the columns in the dataframe\n",
    "\n",
    "columns = keyfacial_df_copy.columns[:-1]\n",
    "columns"
   ]
  },
  {
   "cell_type": "code",
   "execution_count": 20,
   "metadata": {
    "id": "hyFb3o1ztbyr",
    "ExecuteTime": {
     "end_time": "2023-11-27T13:20:49.547707600Z",
     "start_time": "2023-11-27T13:20:49.228777400Z"
    }
   },
   "outputs": [
    {
     "ename": "AttributeError",
     "evalue": "'str' object has no attribute 'ndim'",
     "output_type": "error",
     "traceback": [
      "\u001B[1;31m---------------------------------------------------------------------------\u001B[0m",
      "\u001B[1;31mAttributeError\u001B[0m                            Traceback (most recent call last)",
      "Cell \u001B[1;32mIn[20], line 8\u001B[0m\n\u001B[0;32m      6\u001B[0m \u001B[38;5;28;01mfor\u001B[39;00m i \u001B[38;5;129;01min\u001B[39;00m \u001B[38;5;28mrange\u001B[39m(\u001B[38;5;28mlen\u001B[39m(columns)):\n\u001B[0;32m      7\u001B[0m   \u001B[38;5;28;01mif\u001B[39;00m i\u001B[38;5;241m%\u001B[39m\u001B[38;5;241m2\u001B[39m \u001B[38;5;241m==\u001B[39m \u001B[38;5;241m0\u001B[39m:\n\u001B[1;32m----> 8\u001B[0m     keyfacial_df_copy[columns[i]] \u001B[38;5;241m=\u001B[39m keyfacial_df_copy[\u001B[43mcolumns\u001B[49m\u001B[43m[\u001B[49m\u001B[43mi\u001B[49m\u001B[43m]\u001B[49m]\u001B[38;5;241m.\u001B[39mapply(\u001B[38;5;28;01mlambda\u001B[39;00m x: \u001B[38;5;241m96.\u001B[39m \u001B[38;5;241m-\u001B[39m \u001B[38;5;28mfloat\u001B[39m(x) )\n",
      "File \u001B[1;32m~\\AppData\\Local\\Packages\\PythonSoftwareFoundation.Python.3.9_qbz5n2kfra8p0\\LocalCache\\local-packages\\Python39\\site-packages\\pandas\\core\\indexes\\base.py:5384\u001B[0m, in \u001B[0;36mIndex.__getitem__\u001B[1;34m(self, key)\u001B[0m\n\u001B[0;32m   5382\u001B[0m result \u001B[38;5;241m=\u001B[39m getitem(key)\n\u001B[0;32m   5383\u001B[0m \u001B[38;5;66;03m# Because we ruled out integer above, we always get an arraylike here\u001B[39;00m\n\u001B[1;32m-> 5384\u001B[0m \u001B[38;5;28;01mif\u001B[39;00m \u001B[43mresult\u001B[49m\u001B[38;5;241;43m.\u001B[39;49m\u001B[43mndim\u001B[49m \u001B[38;5;241m>\u001B[39m \u001B[38;5;241m1\u001B[39m:\n\u001B[0;32m   5385\u001B[0m     disallow_ndim_indexing(result)\n\u001B[0;32m   5387\u001B[0m \u001B[38;5;66;03m# NB: Using _constructor._simple_new would break if MultiIndex\u001B[39;00m\n\u001B[0;32m   5388\u001B[0m \u001B[38;5;66;03m#  didn't override __getitem__\u001B[39;00m\n",
      "\u001B[1;31mAttributeError\u001B[0m: 'str' object has no attribute 'ndim'"
     ]
    }
   ],
   "source": [
    "# Horizontal Flip - flip the images along y axis\n",
    "keyfacial_df_copy['Image'] = keyfacial_df_copy['Image'].apply(lambda x: np.flip(x, axis = 1))\n",
    "\n",
    "# since we are flipping horizontally, y coordinate values would be the same\n",
    "# Only x coordiante values would change, all we have to do is to subtract our initial x-coordinate values from width of the image(96)\n",
    "for i in range(len(columns)):\n",
    "  if i%2 == 0:\n",
    "    keyfacial_df_copy[columns[i]] = keyfacial_df_copy[columns[i]].apply(lambda x: 96. - float(x) )"
   ]
  },
  {
   "cell_type": "code",
   "execution_count": 21,
   "metadata": {
    "colab": {
     "base_uri": "https://localhost:8080/",
     "height": 268
    },
    "id": "fIM1786rtb37",
    "outputId": "d94ebc0e-3be7-4b24-e256-ffaf0047bf1b",
    "ExecuteTime": {
     "end_time": "2023-11-27T13:20:54.994568200Z",
     "start_time": "2023-11-27T13:20:54.039174400Z"
    }
   },
   "outputs": [
    {
     "ename": "InvalidIndexError",
     "evalue": "tf.Tensor(0, shape=(), dtype=int32)",
     "output_type": "error",
     "traceback": [
      "\u001B[1;31m---------------------------------------------------------------------------\u001B[0m",
      "\u001B[1;31mTypeError\u001B[0m                                 Traceback (most recent call last)",
      "File \u001B[1;32m~\\AppData\\Local\\Packages\\PythonSoftwareFoundation.Python.3.9_qbz5n2kfra8p0\\LocalCache\\local-packages\\Python39\\site-packages\\pandas\\core\\indexes\\base.py:3790\u001B[0m, in \u001B[0;36mIndex.get_loc\u001B[1;34m(self, key)\u001B[0m\n\u001B[0;32m   3789\u001B[0m \u001B[38;5;28;01mtry\u001B[39;00m:\n\u001B[1;32m-> 3790\u001B[0m     \u001B[38;5;28;01mreturn\u001B[39;00m \u001B[38;5;28;43mself\u001B[39;49m\u001B[38;5;241;43m.\u001B[39;49m\u001B[43m_engine\u001B[49m\u001B[38;5;241;43m.\u001B[39;49m\u001B[43mget_loc\u001B[49m\u001B[43m(\u001B[49m\u001B[43mcasted_key\u001B[49m\u001B[43m)\u001B[49m\n\u001B[0;32m   3791\u001B[0m \u001B[38;5;28;01mexcept\u001B[39;00m \u001B[38;5;167;01mKeyError\u001B[39;00m \u001B[38;5;28;01mas\u001B[39;00m err:\n",
      "File \u001B[1;32mindex.pyx:152\u001B[0m, in \u001B[0;36mpandas._libs.index.IndexEngine.get_loc\u001B[1;34m()\u001B[0m\n",
      "File \u001B[1;32mindex.pyx:158\u001B[0m, in \u001B[0;36mpandas._libs.index.IndexEngine.get_loc\u001B[1;34m()\u001B[0m\n",
      "\u001B[1;31mTypeError\u001B[0m: '0' is an invalid key",
      "\nDuring handling of the above exception, another exception occurred:\n",
      "\u001B[1;31mInvalidIndexError\u001B[0m                         Traceback (most recent call last)",
      "Cell \u001B[1;32mIn[21], line 4\u001B[0m\n\u001B[0;32m      2\u001B[0m plt\u001B[38;5;241m.\u001B[39mimshow(keyfacial_df[\u001B[38;5;124m'\u001B[39m\u001B[38;5;124mImage\u001B[39m\u001B[38;5;124m'\u001B[39m][\u001B[38;5;241m0\u001B[39m], cmap \u001B[38;5;241m=\u001B[39m \u001B[38;5;124m'\u001B[39m\u001B[38;5;124mgray\u001B[39m\u001B[38;5;124m'\u001B[39m)\n\u001B[0;32m      3\u001B[0m \u001B[38;5;28;01mfor\u001B[39;00m j \u001B[38;5;129;01min\u001B[39;00m \u001B[38;5;28mrange\u001B[39m(\u001B[38;5;241m1\u001B[39m, \u001B[38;5;241m31\u001B[39m, \u001B[38;5;241m2\u001B[39m):\n\u001B[1;32m----> 4\u001B[0m         plt\u001B[38;5;241m.\u001B[39mplot(\u001B[43mkeyfacial_df\u001B[49m\u001B[38;5;241;43m.\u001B[39;49m\u001B[43mloc\u001B[49m\u001B[43m[\u001B[49m\u001B[38;5;241;43m0\u001B[39;49m\u001B[43m]\u001B[49m\u001B[43m[\u001B[49m\u001B[43mj\u001B[49m\u001B[38;5;241;43m-\u001B[39;49m\u001B[38;5;241;43m1\u001B[39;49m\u001B[43m]\u001B[49m, keyfacial_df\u001B[38;5;241m.\u001B[39mloc[\u001B[38;5;241m0\u001B[39m][j], \u001B[38;5;124m'\u001B[39m\u001B[38;5;124mrx\u001B[39m\u001B[38;5;124m'\u001B[39m)\n",
      "File \u001B[1;32m~\\AppData\\Local\\Packages\\PythonSoftwareFoundation.Python.3.9_qbz5n2kfra8p0\\LocalCache\\local-packages\\Python39\\site-packages\\pandas\\core\\series.py:1072\u001B[0m, in \u001B[0;36mSeries.__getitem__\u001B[1;34m(self, key)\u001B[0m\n\u001B[0;32m   1069\u001B[0m     key \u001B[38;5;241m=\u001B[39m np\u001B[38;5;241m.\u001B[39masarray(key, dtype\u001B[38;5;241m=\u001B[39m\u001B[38;5;28mbool\u001B[39m)\n\u001B[0;32m   1070\u001B[0m     \u001B[38;5;28;01mreturn\u001B[39;00m \u001B[38;5;28mself\u001B[39m\u001B[38;5;241m.\u001B[39m_get_rows_with_mask(key)\n\u001B[1;32m-> 1072\u001B[0m \u001B[38;5;28;01mreturn\u001B[39;00m \u001B[38;5;28;43mself\u001B[39;49m\u001B[38;5;241;43m.\u001B[39;49m\u001B[43m_get_with\u001B[49m\u001B[43m(\u001B[49m\u001B[43mkey\u001B[49m\u001B[43m)\u001B[49m\n",
      "File \u001B[1;32m~\\AppData\\Local\\Packages\\PythonSoftwareFoundation.Python.3.9_qbz5n2kfra8p0\\LocalCache\\local-packages\\Python39\\site-packages\\pandas\\core\\series.py:1086\u001B[0m, in \u001B[0;36mSeries._get_with\u001B[1;34m(self, key)\u001B[0m\n\u001B[0;32m   1082\u001B[0m     \u001B[38;5;28;01mreturn\u001B[39;00m \u001B[38;5;28mself\u001B[39m\u001B[38;5;241m.\u001B[39m_get_values_tuple(key)\n\u001B[0;32m   1084\u001B[0m \u001B[38;5;28;01melif\u001B[39;00m \u001B[38;5;129;01mnot\u001B[39;00m is_list_like(key):\n\u001B[0;32m   1085\u001B[0m     \u001B[38;5;66;03m# e.g. scalars that aren't recognized by lib.is_scalar, GH#32684\u001B[39;00m\n\u001B[1;32m-> 1086\u001B[0m     \u001B[38;5;28;01mreturn\u001B[39;00m \u001B[38;5;28;43mself\u001B[39;49m\u001B[38;5;241;43m.\u001B[39;49m\u001B[43mloc\u001B[49m\u001B[43m[\u001B[49m\u001B[43mkey\u001B[49m\u001B[43m]\u001B[49m\n\u001B[0;32m   1088\u001B[0m \u001B[38;5;28;01mif\u001B[39;00m \u001B[38;5;129;01mnot\u001B[39;00m \u001B[38;5;28misinstance\u001B[39m(key, (\u001B[38;5;28mlist\u001B[39m, np\u001B[38;5;241m.\u001B[39mndarray, ExtensionArray, Series, Index)):\n\u001B[0;32m   1089\u001B[0m     key \u001B[38;5;241m=\u001B[39m \u001B[38;5;28mlist\u001B[39m(key)\n",
      "File \u001B[1;32m~\\AppData\\Local\\Packages\\PythonSoftwareFoundation.Python.3.9_qbz5n2kfra8p0\\LocalCache\\local-packages\\Python39\\site-packages\\pandas\\core\\indexing.py:1153\u001B[0m, in \u001B[0;36m_LocationIndexer.__getitem__\u001B[1;34m(self, key)\u001B[0m\n\u001B[0;32m   1150\u001B[0m axis \u001B[38;5;241m=\u001B[39m \u001B[38;5;28mself\u001B[39m\u001B[38;5;241m.\u001B[39maxis \u001B[38;5;129;01mor\u001B[39;00m \u001B[38;5;241m0\u001B[39m\n\u001B[0;32m   1152\u001B[0m maybe_callable \u001B[38;5;241m=\u001B[39m com\u001B[38;5;241m.\u001B[39mapply_if_callable(key, \u001B[38;5;28mself\u001B[39m\u001B[38;5;241m.\u001B[39mobj)\n\u001B[1;32m-> 1153\u001B[0m \u001B[38;5;28;01mreturn\u001B[39;00m \u001B[38;5;28;43mself\u001B[39;49m\u001B[38;5;241;43m.\u001B[39;49m\u001B[43m_getitem_axis\u001B[49m\u001B[43m(\u001B[49m\u001B[43mmaybe_callable\u001B[49m\u001B[43m,\u001B[49m\u001B[43m \u001B[49m\u001B[43maxis\u001B[49m\u001B[38;5;241;43m=\u001B[39;49m\u001B[43maxis\u001B[49m\u001B[43m)\u001B[49m\n",
      "File \u001B[1;32m~\\AppData\\Local\\Packages\\PythonSoftwareFoundation.Python.3.9_qbz5n2kfra8p0\\LocalCache\\local-packages\\Python39\\site-packages\\pandas\\core\\indexing.py:1393\u001B[0m, in \u001B[0;36m_LocIndexer._getitem_axis\u001B[1;34m(self, key, axis)\u001B[0m\n\u001B[0;32m   1391\u001B[0m \u001B[38;5;66;03m# fall thru to straight lookup\u001B[39;00m\n\u001B[0;32m   1392\u001B[0m \u001B[38;5;28mself\u001B[39m\u001B[38;5;241m.\u001B[39m_validate_key(key, axis)\n\u001B[1;32m-> 1393\u001B[0m \u001B[38;5;28;01mreturn\u001B[39;00m \u001B[38;5;28;43mself\u001B[39;49m\u001B[38;5;241;43m.\u001B[39;49m\u001B[43m_get_label\u001B[49m\u001B[43m(\u001B[49m\u001B[43mkey\u001B[49m\u001B[43m,\u001B[49m\u001B[43m \u001B[49m\u001B[43maxis\u001B[49m\u001B[38;5;241;43m=\u001B[39;49m\u001B[43maxis\u001B[49m\u001B[43m)\u001B[49m\n",
      "File \u001B[1;32m~\\AppData\\Local\\Packages\\PythonSoftwareFoundation.Python.3.9_qbz5n2kfra8p0\\LocalCache\\local-packages\\Python39\\site-packages\\pandas\\core\\indexing.py:1343\u001B[0m, in \u001B[0;36m_LocIndexer._get_label\u001B[1;34m(self, label, axis)\u001B[0m\n\u001B[0;32m   1341\u001B[0m \u001B[38;5;28;01mdef\u001B[39;00m \u001B[38;5;21m_get_label\u001B[39m(\u001B[38;5;28mself\u001B[39m, label, axis: AxisInt):\n\u001B[0;32m   1342\u001B[0m     \u001B[38;5;66;03m# GH#5567 this will fail if the label is not present in the axis.\u001B[39;00m\n\u001B[1;32m-> 1343\u001B[0m     \u001B[38;5;28;01mreturn\u001B[39;00m \u001B[38;5;28;43mself\u001B[39;49m\u001B[38;5;241;43m.\u001B[39;49m\u001B[43mobj\u001B[49m\u001B[38;5;241;43m.\u001B[39;49m\u001B[43mxs\u001B[49m\u001B[43m(\u001B[49m\u001B[43mlabel\u001B[49m\u001B[43m,\u001B[49m\u001B[43m \u001B[49m\u001B[43maxis\u001B[49m\u001B[38;5;241;43m=\u001B[39;49m\u001B[43maxis\u001B[49m\u001B[43m)\u001B[49m\n",
      "File \u001B[1;32m~\\AppData\\Local\\Packages\\PythonSoftwareFoundation.Python.3.9_qbz5n2kfra8p0\\LocalCache\\local-packages\\Python39\\site-packages\\pandas\\core\\generic.py:4236\u001B[0m, in \u001B[0;36mNDFrame.xs\u001B[1;34m(self, key, axis, level, drop_level)\u001B[0m\n\u001B[0;32m   4234\u001B[0m             new_index \u001B[38;5;241m=\u001B[39m index[loc]\n\u001B[0;32m   4235\u001B[0m \u001B[38;5;28;01melse\u001B[39;00m:\n\u001B[1;32m-> 4236\u001B[0m     loc \u001B[38;5;241m=\u001B[39m \u001B[43mindex\u001B[49m\u001B[38;5;241;43m.\u001B[39;49m\u001B[43mget_loc\u001B[49m\u001B[43m(\u001B[49m\u001B[43mkey\u001B[49m\u001B[43m)\u001B[49m\n\u001B[0;32m   4238\u001B[0m     \u001B[38;5;28;01mif\u001B[39;00m \u001B[38;5;28misinstance\u001B[39m(loc, np\u001B[38;5;241m.\u001B[39mndarray):\n\u001B[0;32m   4239\u001B[0m         \u001B[38;5;28;01mif\u001B[39;00m loc\u001B[38;5;241m.\u001B[39mdtype \u001B[38;5;241m==\u001B[39m np\u001B[38;5;241m.\u001B[39mbool_:\n",
      "File \u001B[1;32m~\\AppData\\Local\\Packages\\PythonSoftwareFoundation.Python.3.9_qbz5n2kfra8p0\\LocalCache\\local-packages\\Python39\\site-packages\\pandas\\core\\indexes\\base.py:3802\u001B[0m, in \u001B[0;36mIndex.get_loc\u001B[1;34m(self, key)\u001B[0m\n\u001B[0;32m   3797\u001B[0m     \u001B[38;5;28;01mraise\u001B[39;00m \u001B[38;5;167;01mKeyError\u001B[39;00m(key) \u001B[38;5;28;01mfrom\u001B[39;00m \u001B[38;5;21;01merr\u001B[39;00m\n\u001B[0;32m   3798\u001B[0m \u001B[38;5;28;01mexcept\u001B[39;00m \u001B[38;5;167;01mTypeError\u001B[39;00m:\n\u001B[0;32m   3799\u001B[0m     \u001B[38;5;66;03m# If we have a listlike key, _check_indexing_error will raise\u001B[39;00m\n\u001B[0;32m   3800\u001B[0m     \u001B[38;5;66;03m#  InvalidIndexError. Otherwise we fall through and re-raise\u001B[39;00m\n\u001B[0;32m   3801\u001B[0m     \u001B[38;5;66;03m#  the TypeError.\u001B[39;00m\n\u001B[1;32m-> 3802\u001B[0m     \u001B[38;5;28;43mself\u001B[39;49m\u001B[38;5;241;43m.\u001B[39;49m\u001B[43m_check_indexing_error\u001B[49m\u001B[43m(\u001B[49m\u001B[43mkey\u001B[49m\u001B[43m)\u001B[49m\n\u001B[0;32m   3803\u001B[0m     \u001B[38;5;28;01mraise\u001B[39;00m\n",
      "File \u001B[1;32m~\\AppData\\Local\\Packages\\PythonSoftwareFoundation.Python.3.9_qbz5n2kfra8p0\\LocalCache\\local-packages\\Python39\\site-packages\\pandas\\core\\indexes\\base.py:5974\u001B[0m, in \u001B[0;36mIndex._check_indexing_error\u001B[1;34m(self, key)\u001B[0m\n\u001B[0;32m   5970\u001B[0m \u001B[38;5;28;01mdef\u001B[39;00m \u001B[38;5;21m_check_indexing_error\u001B[39m(\u001B[38;5;28mself\u001B[39m, key):\n\u001B[0;32m   5971\u001B[0m     \u001B[38;5;28;01mif\u001B[39;00m \u001B[38;5;129;01mnot\u001B[39;00m is_scalar(key):\n\u001B[0;32m   5972\u001B[0m         \u001B[38;5;66;03m# if key is not a scalar, directly raise an error (the code below\u001B[39;00m\n\u001B[0;32m   5973\u001B[0m         \u001B[38;5;66;03m# would convert to numpy arrays and raise later any way) - GH29926\u001B[39;00m\n\u001B[1;32m-> 5974\u001B[0m         \u001B[38;5;28;01mraise\u001B[39;00m InvalidIndexError(key)\n",
      "\u001B[1;31mInvalidIndexError\u001B[0m: tf.Tensor(0, shape=(), dtype=int32)"
     ]
    },
    {
     "data": {
      "text/plain": "<Figure size 640x480 with 1 Axes>",
      "image/png": "[encoded data removed]"
     },
     "metadata": {},
     "output_type": "display_data"
    }
   ],
   "source": [
    "# Show the Original image\n",
    "plt.imshow(keyfacial_df['Image'][0], cmap = 'gray')\n",
    "for j in range(1, 31, 2):\n",
    "        plt.plot(keyfacial_df.loc[0][j-1], keyfacial_df.loc[0][j], 'rx')"
   ]
  },
  {
   "cell_type": "code",
   "execution_count": 22,
   "metadata": {
    "colab": {
     "base_uri": "https://localhost:8080/",
     "height": 268
    },
    "id": "1kVUp-UMtbwg",
    "outputId": "2222ecba-1531-49fd-9454-f5fb901f039d",
    "ExecuteTime": {
     "end_time": "2023-11-27T13:20:59.949169100Z",
     "start_time": "2023-11-27T13:20:59.145893800Z"
    }
   },
   "outputs": [
    {
     "ename": "InvalidIndexError",
     "evalue": "tf.Tensor(0, shape=(), dtype=int32)",
     "output_type": "error",
     "traceback": [
      "\u001B[1;31m---------------------------------------------------------------------------\u001B[0m",
      "\u001B[1;31mTypeError\u001B[0m                                 Traceback (most recent call last)",
      "File \u001B[1;32m~\\AppData\\Local\\Packages\\PythonSoftwareFoundation.Python.3.9_qbz5n2kfra8p0\\LocalCache\\local-packages\\Python39\\site-packages\\pandas\\core\\indexes\\base.py:3790\u001B[0m, in \u001B[0;36mIndex.get_loc\u001B[1;34m(self, key)\u001B[0m\n\u001B[0;32m   3789\u001B[0m \u001B[38;5;28;01mtry\u001B[39;00m:\n\u001B[1;32m-> 3790\u001B[0m     \u001B[38;5;28;01mreturn\u001B[39;00m \u001B[38;5;28;43mself\u001B[39;49m\u001B[38;5;241;43m.\u001B[39;49m\u001B[43m_engine\u001B[49m\u001B[38;5;241;43m.\u001B[39;49m\u001B[43mget_loc\u001B[49m\u001B[43m(\u001B[49m\u001B[43mcasted_key\u001B[49m\u001B[43m)\u001B[49m\n\u001B[0;32m   3791\u001B[0m \u001B[38;5;28;01mexcept\u001B[39;00m \u001B[38;5;167;01mKeyError\u001B[39;00m \u001B[38;5;28;01mas\u001B[39;00m err:\n",
      "File \u001B[1;32mindex.pyx:152\u001B[0m, in \u001B[0;36mpandas._libs.index.IndexEngine.get_loc\u001B[1;34m()\u001B[0m\n",
      "File \u001B[1;32mindex.pyx:158\u001B[0m, in \u001B[0;36mpandas._libs.index.IndexEngine.get_loc\u001B[1;34m()\u001B[0m\n",
      "\u001B[1;31mTypeError\u001B[0m: '0' is an invalid key",
      "\nDuring handling of the above exception, another exception occurred:\n",
      "\u001B[1;31mInvalidIndexError\u001B[0m                         Traceback (most recent call last)",
      "Cell \u001B[1;32mIn[22], line 4\u001B[0m\n\u001B[0;32m      2\u001B[0m plt\u001B[38;5;241m.\u001B[39mimshow(keyfacial_df_copy[\u001B[38;5;124m'\u001B[39m\u001B[38;5;124mImage\u001B[39m\u001B[38;5;124m'\u001B[39m][\u001B[38;5;241m0\u001B[39m],cmap\u001B[38;5;241m=\u001B[39m\u001B[38;5;124m'\u001B[39m\u001B[38;5;124mgray\u001B[39m\u001B[38;5;124m'\u001B[39m)\n\u001B[0;32m      3\u001B[0m \u001B[38;5;28;01mfor\u001B[39;00m j \u001B[38;5;129;01min\u001B[39;00m \u001B[38;5;28mrange\u001B[39m(\u001B[38;5;241m1\u001B[39m, \u001B[38;5;241m31\u001B[39m, \u001B[38;5;241m2\u001B[39m):\n\u001B[1;32m----> 4\u001B[0m         plt\u001B[38;5;241m.\u001B[39mplot(\u001B[43mkeyfacial_df_copy\u001B[49m\u001B[38;5;241;43m.\u001B[39;49m\u001B[43mloc\u001B[49m\u001B[43m[\u001B[49m\u001B[38;5;241;43m0\u001B[39;49m\u001B[43m]\u001B[49m\u001B[43m[\u001B[49m\u001B[43mj\u001B[49m\u001B[38;5;241;43m-\u001B[39;49m\u001B[38;5;241;43m1\u001B[39;49m\u001B[43m]\u001B[49m, keyfacial_df_copy\u001B[38;5;241m.\u001B[39mloc[\u001B[38;5;241m0\u001B[39m][j], \u001B[38;5;124m'\u001B[39m\u001B[38;5;124mrx\u001B[39m\u001B[38;5;124m'\u001B[39m)\n",
      "File \u001B[1;32m~\\AppData\\Local\\Packages\\PythonSoftwareFoundation.Python.3.9_qbz5n2kfra8p0\\LocalCache\\local-packages\\Python39\\site-packages\\pandas\\core\\series.py:1072\u001B[0m, in \u001B[0;36mSeries.__getitem__\u001B[1;34m(self, key)\u001B[0m\n\u001B[0;32m   1069\u001B[0m     key \u001B[38;5;241m=\u001B[39m np\u001B[38;5;241m.\u001B[39masarray(key, dtype\u001B[38;5;241m=\u001B[39m\u001B[38;5;28mbool\u001B[39m)\n\u001B[0;32m   1070\u001B[0m     \u001B[38;5;28;01mreturn\u001B[39;00m \u001B[38;5;28mself\u001B[39m\u001B[38;5;241m.\u001B[39m_get_rows_with_mask(key)\n\u001B[1;32m-> 1072\u001B[0m \u001B[38;5;28;01mreturn\u001B[39;00m \u001B[38;5;28;43mself\u001B[39;49m\u001B[38;5;241;43m.\u001B[39;49m\u001B[43m_get_with\u001B[49m\u001B[43m(\u001B[49m\u001B[43mkey\u001B[49m\u001B[43m)\u001B[49m\n",
      "File \u001B[1;32m~\\AppData\\Local\\Packages\\PythonSoftwareFoundation.Python.3.9_qbz5n2kfra8p0\\LocalCache\\local-packages\\Python39\\site-packages\\pandas\\core\\series.py:1086\u001B[0m, in \u001B[0;36mSeries._get_with\u001B[1;34m(self, key)\u001B[0m\n\u001B[0;32m   1082\u001B[0m     \u001B[38;5;28;01mreturn\u001B[39;00m \u001B[38;5;28mself\u001B[39m\u001B[38;5;241m.\u001B[39m_get_values_tuple(key)\n\u001B[0;32m   1084\u001B[0m \u001B[38;5;28;01melif\u001B[39;00m \u001B[38;5;129;01mnot\u001B[39;00m is_list_like(key):\n\u001B[0;32m   1085\u001B[0m     \u001B[38;5;66;03m# e.g. scalars that aren't recognized by lib.is_scalar, GH#32684\u001B[39;00m\n\u001B[1;32m-> 1086\u001B[0m     \u001B[38;5;28;01mreturn\u001B[39;00m \u001B[38;5;28;43mself\u001B[39;49m\u001B[38;5;241;43m.\u001B[39;49m\u001B[43mloc\u001B[49m\u001B[43m[\u001B[49m\u001B[43mkey\u001B[49m\u001B[43m]\u001B[49m\n\u001B[0;32m   1088\u001B[0m \u001B[38;5;28;01mif\u001B[39;00m \u001B[38;5;129;01mnot\u001B[39;00m \u001B[38;5;28misinstance\u001B[39m(key, (\u001B[38;5;28mlist\u001B[39m, np\u001B[38;5;241m.\u001B[39mndarray, ExtensionArray, Series, Index)):\n\u001B[0;32m   1089\u001B[0m     key \u001B[38;5;241m=\u001B[39m \u001B[38;5;28mlist\u001B[39m(key)\n",
      "File \u001B[1;32m~\\AppData\\Local\\Packages\\PythonSoftwareFoundation.Python.3.9_qbz5n2kfra8p0\\LocalCache\\local-packages\\Python39\\site-packages\\pandas\\core\\indexing.py:1153\u001B[0m, in \u001B[0;36m_LocationIndexer.__getitem__\u001B[1;34m(self, key)\u001B[0m\n\u001B[0;32m   1150\u001B[0m axis \u001B[38;5;241m=\u001B[39m \u001B[38;5;28mself\u001B[39m\u001B[38;5;241m.\u001B[39maxis \u001B[38;5;129;01mor\u001B[39;00m \u001B[38;5;241m0\u001B[39m\n\u001B[0;32m   1152\u001B[0m maybe_callable \u001B[38;5;241m=\u001B[39m com\u001B[38;5;241m.\u001B[39mapply_if_callable(key, \u001B[38;5;28mself\u001B[39m\u001B[38;5;241m.\u001B[39mobj)\n\u001B[1;32m-> 1153\u001B[0m \u001B[38;5;28;01mreturn\u001B[39;00m \u001B[38;5;28;43mself\u001B[39;49m\u001B[38;5;241;43m.\u001B[39;49m\u001B[43m_getitem_axis\u001B[49m\u001B[43m(\u001B[49m\u001B[43mmaybe_callable\u001B[49m\u001B[43m,\u001B[49m\u001B[43m \u001B[49m\u001B[43maxis\u001B[49m\u001B[38;5;241;43m=\u001B[39;49m\u001B[43maxis\u001B[49m\u001B[43m)\u001B[49m\n",
      "File \u001B[1;32m~\\AppData\\Local\\Packages\\PythonSoftwareFoundation.Python.3.9_qbz5n2kfra8p0\\LocalCache\\local-packages\\Python39\\site-packages\\pandas\\core\\indexing.py:1393\u001B[0m, in \u001B[0;36m_LocIndexer._getitem_axis\u001B[1;34m(self, key, axis)\u001B[0m\n\u001B[0;32m   1391\u001B[0m \u001B[38;5;66;03m# fall thru to straight lookup\u001B[39;00m\n\u001B[0;32m   1392\u001B[0m \u001B[38;5;28mself\u001B[39m\u001B[38;5;241m.\u001B[39m_validate_key(key, axis)\n\u001B[1;32m-> 1393\u001B[0m \u001B[38;5;28;01mreturn\u001B[39;00m \u001B[38;5;28;43mself\u001B[39;49m\u001B[38;5;241;43m.\u001B[39;49m\u001B[43m_get_label\u001B[49m\u001B[43m(\u001B[49m\u001B[43mkey\u001B[49m\u001B[43m,\u001B[49m\u001B[43m \u001B[49m\u001B[43maxis\u001B[49m\u001B[38;5;241;43m=\u001B[39;49m\u001B[43maxis\u001B[49m\u001B[43m)\u001B[49m\n",
      "File \u001B[1;32m~\\AppData\\Local\\Packages\\PythonSoftwareFoundation.Python.3.9_qbz5n2kfra8p0\\LocalCache\\local-packages\\Python39\\site-packages\\pandas\\core\\indexing.py:1343\u001B[0m, in \u001B[0;36m_LocIndexer._get_label\u001B[1;34m(self, label, axis)\u001B[0m\n\u001B[0;32m   1341\u001B[0m \u001B[38;5;28;01mdef\u001B[39;00m \u001B[38;5;21m_get_label\u001B[39m(\u001B[38;5;28mself\u001B[39m, label, axis: AxisInt):\n\u001B[0;32m   1342\u001B[0m     \u001B[38;5;66;03m# GH#5567 this will fail if the label is not present in the axis.\u001B[39;00m\n\u001B[1;32m-> 1343\u001B[0m     \u001B[38;5;28;01mreturn\u001B[39;00m \u001B[38;5;28;43mself\u001B[39;49m\u001B[38;5;241;43m.\u001B[39;49m\u001B[43mobj\u001B[49m\u001B[38;5;241;43m.\u001B[39;49m\u001B[43mxs\u001B[49m\u001B[43m(\u001B[49m\u001B[43mlabel\u001B[49m\u001B[43m,\u001B[49m\u001B[43m \u001B[49m\u001B[43maxis\u001B[49m\u001B[38;5;241;43m=\u001B[39;49m\u001B[43maxis\u001B[49m\u001B[43m)\u001B[49m\n",
      "File \u001B[1;32m~\\AppData\\Local\\Packages\\PythonSoftwareFoundation.Python.3.9_qbz5n2kfra8p0\\LocalCache\\local-packages\\Python39\\site-packages\\pandas\\core\\generic.py:4236\u001B[0m, in \u001B[0;36mNDFrame.xs\u001B[1;34m(self, key, axis, level, drop_level)\u001B[0m\n\u001B[0;32m   4234\u001B[0m             new_index \u001B[38;5;241m=\u001B[39m index[loc]\n\u001B[0;32m   4235\u001B[0m \u001B[38;5;28;01melse\u001B[39;00m:\n\u001B[1;32m-> 4236\u001B[0m     loc \u001B[38;5;241m=\u001B[39m \u001B[43mindex\u001B[49m\u001B[38;5;241;43m.\u001B[39;49m\u001B[43mget_loc\u001B[49m\u001B[43m(\u001B[49m\u001B[43mkey\u001B[49m\u001B[43m)\u001B[49m\n\u001B[0;32m   4238\u001B[0m     \u001B[38;5;28;01mif\u001B[39;00m \u001B[38;5;28misinstance\u001B[39m(loc, np\u001B[38;5;241m.\u001B[39mndarray):\n\u001B[0;32m   4239\u001B[0m         \u001B[38;5;28;01mif\u001B[39;00m loc\u001B[38;5;241m.\u001B[39mdtype \u001B[38;5;241m==\u001B[39m np\u001B[38;5;241m.\u001B[39mbool_:\n",
      "File \u001B[1;32m~\\AppData\\Local\\Packages\\PythonSoftwareFoundation.Python.3.9_qbz5n2kfra8p0\\LocalCache\\local-packages\\Python39\\site-packages\\pandas\\core\\indexes\\base.py:3802\u001B[0m, in \u001B[0;36mIndex.get_loc\u001B[1;34m(self, key)\u001B[0m\n\u001B[0;32m   3797\u001B[0m     \u001B[38;5;28;01mraise\u001B[39;00m \u001B[38;5;167;01mKeyError\u001B[39;00m(key) \u001B[38;5;28;01mfrom\u001B[39;00m \u001B[38;5;21;01merr\u001B[39;00m\n\u001B[0;32m   3798\u001B[0m \u001B[38;5;28;01mexcept\u001B[39;00m \u001B[38;5;167;01mTypeError\u001B[39;00m:\n\u001B[0;32m   3799\u001B[0m     \u001B[38;5;66;03m# If we have a listlike key, _check_indexing_error will raise\u001B[39;00m\n\u001B[0;32m   3800\u001B[0m     \u001B[38;5;66;03m#  InvalidIndexError. Otherwise we fall through and re-raise\u001B[39;00m\n\u001B[0;32m   3801\u001B[0m     \u001B[38;5;66;03m#  the TypeError.\u001B[39;00m\n\u001B[1;32m-> 3802\u001B[0m     \u001B[38;5;28;43mself\u001B[39;49m\u001B[38;5;241;43m.\u001B[39;49m\u001B[43m_check_indexing_error\u001B[49m\u001B[43m(\u001B[49m\u001B[43mkey\u001B[49m\u001B[43m)\u001B[49m\n\u001B[0;32m   3803\u001B[0m     \u001B[38;5;28;01mraise\u001B[39;00m\n",
      "File \u001B[1;32m~\\AppData\\Local\\Packages\\PythonSoftwareFoundation.Python.3.9_qbz5n2kfra8p0\\LocalCache\\local-packages\\Python39\\site-packages\\pandas\\core\\indexes\\base.py:5974\u001B[0m, in \u001B[0;36mIndex._check_indexing_error\u001B[1;34m(self, key)\u001B[0m\n\u001B[0;32m   5970\u001B[0m \u001B[38;5;28;01mdef\u001B[39;00m \u001B[38;5;21m_check_indexing_error\u001B[39m(\u001B[38;5;28mself\u001B[39m, key):\n\u001B[0;32m   5971\u001B[0m     \u001B[38;5;28;01mif\u001B[39;00m \u001B[38;5;129;01mnot\u001B[39;00m is_scalar(key):\n\u001B[0;32m   5972\u001B[0m         \u001B[38;5;66;03m# if key is not a scalar, directly raise an error (the code below\u001B[39;00m\n\u001B[0;32m   5973\u001B[0m         \u001B[38;5;66;03m# would convert to numpy arrays and raise later any way) - GH29926\u001B[39;00m\n\u001B[1;32m-> 5974\u001B[0m         \u001B[38;5;28;01mraise\u001B[39;00m InvalidIndexError(key)\n",
      "\u001B[1;31mInvalidIndexError\u001B[0m: tf.Tensor(0, shape=(), dtype=int32)"
     ]
    },
    {
     "data": {
      "text/plain": "<Figure size 640x480 with 1 Axes>",
      "image/png": "[encoded data removed]"
     },
     "metadata": {},
     "output_type": "display_data"
    }
   ],
   "source": [
    "# Show the Horizontally flipped image\n",
    "plt.imshow(keyfacial_df_copy['Image'][0],cmap='gray')\n",
    "for j in range(1, 31, 2):\n",
    "        plt.plot(keyfacial_df_copy.loc[0][j-1], keyfacial_df_copy.loc[0][j], 'rx')"
   ]
  },
  {
   "cell_type": "code",
   "execution_count": 23,
   "metadata": {
    "id": "-g67tKjwtbua",
    "ExecuteTime": {
     "end_time": "2023-11-27T13:21:04.596282Z",
     "start_time": "2023-11-27T13:21:04.372893Z"
    }
   },
   "outputs": [],
   "source": [
    "# Concatenate the original dataframe with the augmented dataframe\n",
    "augmented_df = np.concatenate((keyfacial_df, keyfacial_df_copy))"
   ]
  },
  {
   "cell_type": "code",
   "execution_count": 24,
   "metadata": {
    "colab": {
     "base_uri": "https://localhost:8080/",
     "height": 34
    },
    "id": "IRag8bteDzVl",
    "outputId": "77c84ab4-7f33-464c-f528-198580bec335",
    "ExecuteTime": {
     "end_time": "2023-11-27T13:21:14.390598800Z",
     "start_time": "2023-11-27T13:21:14.320417100Z"
    }
   },
   "outputs": [
    {
     "data": {
      "text/plain": "(4280, 31)"
     },
     "execution_count": 24,
     "metadata": {},
     "output_type": "execute_result"
    }
   ],
   "source": [
    "augmented_df.shape"
   ]
  },
  {
   "cell_type": "code",
   "execution_count": 25,
   "metadata": {
    "colab": {
     "base_uri": "https://localhost:8080/",
     "height": 34
    },
    "id": "COzWKpthtvRW",
    "outputId": "e2288d12-8506-4e09-fd40-3cab2e82dcfe",
    "ExecuteTime": {
     "end_time": "2023-11-27T13:21:19.537976300Z",
     "start_time": "2023-11-27T13:21:18.942515400Z"
    }
   },
   "outputs": [
    {
     "data": {
      "text/plain": "(6420, 31)"
     },
     "execution_count": 25,
     "metadata": {},
     "output_type": "execute_result"
    }
   ],
   "source": [
    "# Randomingly increasing the brightness of the images\n",
    "# We multiply pixel values by random values between 1.5 and 2 to increase the brightness of the image\n",
    "# we clip the value between 0 and 255\n",
    "\n",
    "# import random\n",
    "\n",
    "keyfacial_df_copy = copy.copy(keyfacial_df)\n",
    "keyfacial_df_copy['Image'] = keyfacial_df_copy['Image'].apply(lambda x:np.clip(random.uniform(1.5, 2)* x, 0.0, 255.0))\n",
    "augmented_df = np.concatenate((augmented_df, keyfacial_df_copy))\n",
    "augmented_df.shape"
   ]
  },
  {
   "cell_type": "code",
   "execution_count": 27,
   "metadata": {
    "colab": {
     "base_uri": "https://localhost:8080/",
     "height": 268
    },
    "id": "S_Pvd2qqtvkF",
    "outputId": "718ed0b2-9ed4-4243-d04e-49eb654373d8",
    "ExecuteTime": {
     "end_time": "2023-11-27T13:21:54.227955400Z",
     "start_time": "2023-11-27T13:21:53.446548500Z"
    }
   },
   "outputs": [
    {
     "ename": "InvalidIndexError",
     "evalue": "tf.Tensor(0, shape=(), dtype=int32)",
     "output_type": "error",
     "traceback": [
      "\u001B[1;31m---------------------------------------------------------------------------\u001B[0m",
      "\u001B[1;31mTypeError\u001B[0m                                 Traceback (most recent call last)",
      "File \u001B[1;32m~\\AppData\\Local\\Packages\\PythonSoftwareFoundation.Python.3.9_qbz5n2kfra8p0\\LocalCache\\local-packages\\Python39\\site-packages\\pandas\\core\\indexes\\base.py:3790\u001B[0m, in \u001B[0;36mIndex.get_loc\u001B[1;34m(self, key)\u001B[0m\n\u001B[0;32m   3789\u001B[0m \u001B[38;5;28;01mtry\u001B[39;00m:\n\u001B[1;32m-> 3790\u001B[0m     \u001B[38;5;28;01mreturn\u001B[39;00m \u001B[38;5;28;43mself\u001B[39;49m\u001B[38;5;241;43m.\u001B[39;49m\u001B[43m_engine\u001B[49m\u001B[38;5;241;43m.\u001B[39;49m\u001B[43mget_loc\u001B[49m\u001B[43m(\u001B[49m\u001B[43mcasted_key\u001B[49m\u001B[43m)\u001B[49m\n\u001B[0;32m   3791\u001B[0m \u001B[38;5;28;01mexcept\u001B[39;00m \u001B[38;5;167;01mKeyError\u001B[39;00m \u001B[38;5;28;01mas\u001B[39;00m err:\n",
      "File \u001B[1;32mindex.pyx:152\u001B[0m, in \u001B[0;36mpandas._libs.index.IndexEngine.get_loc\u001B[1;34m()\u001B[0m\n",
      "File \u001B[1;32mindex.pyx:158\u001B[0m, in \u001B[0;36mpandas._libs.index.IndexEngine.get_loc\u001B[1;34m()\u001B[0m\n",
      "\u001B[1;31mTypeError\u001B[0m: '0' is an invalid key",
      "\nDuring handling of the above exception, another exception occurred:\n",
      "\u001B[1;31mInvalidIndexError\u001B[0m                         Traceback (most recent call last)",
      "Cell \u001B[1;32mIn[27], line 5\u001B[0m\n\u001B[0;32m      3\u001B[0m plt\u001B[38;5;241m.\u001B[39mimshow(keyfacial_df_copy[\u001B[38;5;124m'\u001B[39m\u001B[38;5;124mImage\u001B[39m\u001B[38;5;124m'\u001B[39m][\u001B[38;5;241m0\u001B[39m], cmap\u001B[38;5;241m=\u001B[39m\u001B[38;5;124m'\u001B[39m\u001B[38;5;124mgray\u001B[39m\u001B[38;5;124m'\u001B[39m)\n\u001B[0;32m      4\u001B[0m \u001B[38;5;28;01mfor\u001B[39;00m j \u001B[38;5;129;01min\u001B[39;00m \u001B[38;5;28mrange\u001B[39m(\u001B[38;5;241m1\u001B[39m, \u001B[38;5;241m31\u001B[39m, \u001B[38;5;241m2\u001B[39m):\n\u001B[1;32m----> 5\u001B[0m         plt\u001B[38;5;241m.\u001B[39mplot(\u001B[43mkeyfacial_df_copy\u001B[49m\u001B[38;5;241;43m.\u001B[39;49m\u001B[43mloc\u001B[49m\u001B[43m[\u001B[49m\u001B[38;5;241;43m0\u001B[39;49m\u001B[43m]\u001B[49m\u001B[43m[\u001B[49m\u001B[43mj\u001B[49m\u001B[38;5;241;43m-\u001B[39;49m\u001B[38;5;241;43m1\u001B[39;49m\u001B[43m]\u001B[49m, keyfacial_df_copy\u001B[38;5;241m.\u001B[39mloc[\u001B[38;5;241m0\u001B[39m][j], \u001B[38;5;124m'\u001B[39m\u001B[38;5;124mrx\u001B[39m\u001B[38;5;124m'\u001B[39m)\n",
      "File \u001B[1;32m~\\AppData\\Local\\Packages\\PythonSoftwareFoundation.Python.3.9_qbz5n2kfra8p0\\LocalCache\\local-packages\\Python39\\site-packages\\pandas\\core\\series.py:1072\u001B[0m, in \u001B[0;36mSeries.__getitem__\u001B[1;34m(self, key)\u001B[0m\n\u001B[0;32m   1069\u001B[0m     key \u001B[38;5;241m=\u001B[39m np\u001B[38;5;241m.\u001B[39masarray(key, dtype\u001B[38;5;241m=\u001B[39m\u001B[38;5;28mbool\u001B[39m)\n\u001B[0;32m   1070\u001B[0m     \u001B[38;5;28;01mreturn\u001B[39;00m \u001B[38;5;28mself\u001B[39m\u001B[38;5;241m.\u001B[39m_get_rows_with_mask(key)\n\u001B[1;32m-> 1072\u001B[0m \u001B[38;5;28;01mreturn\u001B[39;00m \u001B[38;5;28;43mself\u001B[39;49m\u001B[38;5;241;43m.\u001B[39;49m\u001B[43m_get_with\u001B[49m\u001B[43m(\u001B[49m\u001B[43mkey\u001B[49m\u001B[43m)\u001B[49m\n",
      "File \u001B[1;32m~\\AppData\\Local\\Packages\\PythonSoftwareFoundation.Python.3.9_qbz5n2kfra8p0\\LocalCache\\local-packages\\Python39\\site-packages\\pandas\\core\\series.py:1086\u001B[0m, in \u001B[0;36mSeries._get_with\u001B[1;34m(self, key)\u001B[0m\n\u001B[0;32m   1082\u001B[0m     \u001B[38;5;28;01mreturn\u001B[39;00m \u001B[38;5;28mself\u001B[39m\u001B[38;5;241m.\u001B[39m_get_values_tuple(key)\n\u001B[0;32m   1084\u001B[0m \u001B[38;5;28;01melif\u001B[39;00m \u001B[38;5;129;01mnot\u001B[39;00m is_list_like(key):\n\u001B[0;32m   1085\u001B[0m     \u001B[38;5;66;03m# e.g. scalars that aren't recognized by lib.is_scalar, GH#32684\u001B[39;00m\n\u001B[1;32m-> 1086\u001B[0m     \u001B[38;5;28;01mreturn\u001B[39;00m \u001B[38;5;28;43mself\u001B[39;49m\u001B[38;5;241;43m.\u001B[39;49m\u001B[43mloc\u001B[49m\u001B[43m[\u001B[49m\u001B[43mkey\u001B[49m\u001B[43m]\u001B[49m\n\u001B[0;32m   1088\u001B[0m \u001B[38;5;28;01mif\u001B[39;00m \u001B[38;5;129;01mnot\u001B[39;00m \u001B[38;5;28misinstance\u001B[39m(key, (\u001B[38;5;28mlist\u001B[39m, np\u001B[38;5;241m.\u001B[39mndarray, ExtensionArray, Series, Index)):\n\u001B[0;32m   1089\u001B[0m     key \u001B[38;5;241m=\u001B[39m \u001B[38;5;28mlist\u001B[39m(key)\n",
      "File \u001B[1;32m~\\AppData\\Local\\Packages\\PythonSoftwareFoundation.Python.3.9_qbz5n2kfra8p0\\LocalCache\\local-packages\\Python39\\site-packages\\pandas\\core\\indexing.py:1153\u001B[0m, in \u001B[0;36m_LocationIndexer.__getitem__\u001B[1;34m(self, key)\u001B[0m\n\u001B[0;32m   1150\u001B[0m axis \u001B[38;5;241m=\u001B[39m \u001B[38;5;28mself\u001B[39m\u001B[38;5;241m.\u001B[39maxis \u001B[38;5;129;01mor\u001B[39;00m \u001B[38;5;241m0\u001B[39m\n\u001B[0;32m   1152\u001B[0m maybe_callable \u001B[38;5;241m=\u001B[39m com\u001B[38;5;241m.\u001B[39mapply_if_callable(key, \u001B[38;5;28mself\u001B[39m\u001B[38;5;241m.\u001B[39mobj)\n\u001B[1;32m-> 1153\u001B[0m \u001B[38;5;28;01mreturn\u001B[39;00m \u001B[38;5;28;43mself\u001B[39;49m\u001B[38;5;241;43m.\u001B[39;49m\u001B[43m_getitem_axis\u001B[49m\u001B[43m(\u001B[49m\u001B[43mmaybe_callable\u001B[49m\u001B[43m,\u001B[49m\u001B[43m \u001B[49m\u001B[43maxis\u001B[49m\u001B[38;5;241;43m=\u001B[39;49m\u001B[43maxis\u001B[49m\u001B[43m)\u001B[49m\n",
      "File \u001B[1;32m~\\AppData\\Local\\Packages\\PythonSoftwareFoundation.Python.3.9_qbz5n2kfra8p0\\LocalCache\\local-packages\\Python39\\site-packages\\pandas\\core\\indexing.py:1393\u001B[0m, in \u001B[0;36m_LocIndexer._getitem_axis\u001B[1;34m(self, key, axis)\u001B[0m\n\u001B[0;32m   1391\u001B[0m \u001B[38;5;66;03m# fall thru to straight lookup\u001B[39;00m\n\u001B[0;32m   1392\u001B[0m \u001B[38;5;28mself\u001B[39m\u001B[38;5;241m.\u001B[39m_validate_key(key, axis)\n\u001B[1;32m-> 1393\u001B[0m \u001B[38;5;28;01mreturn\u001B[39;00m \u001B[38;5;28;43mself\u001B[39;49m\u001B[38;5;241;43m.\u001B[39;49m\u001B[43m_get_label\u001B[49m\u001B[43m(\u001B[49m\u001B[43mkey\u001B[49m\u001B[43m,\u001B[49m\u001B[43m \u001B[49m\u001B[43maxis\u001B[49m\u001B[38;5;241;43m=\u001B[39;49m\u001B[43maxis\u001B[49m\u001B[43m)\u001B[49m\n",
      "File \u001B[1;32m~\\AppData\\Local\\Packages\\PythonSoftwareFoundation.Python.3.9_qbz5n2kfra8p0\\LocalCache\\local-packages\\Python39\\site-packages\\pandas\\core\\indexing.py:1343\u001B[0m, in \u001B[0;36m_LocIndexer._get_label\u001B[1;34m(self, label, axis)\u001B[0m\n\u001B[0;32m   1341\u001B[0m \u001B[38;5;28;01mdef\u001B[39;00m \u001B[38;5;21m_get_label\u001B[39m(\u001B[38;5;28mself\u001B[39m, label, axis: AxisInt):\n\u001B[0;32m   1342\u001B[0m     \u001B[38;5;66;03m# GH#5567 this will fail if the label is not present in the axis.\u001B[39;00m\n\u001B[1;32m-> 1343\u001B[0m     \u001B[38;5;28;01mreturn\u001B[39;00m \u001B[38;5;28;43mself\u001B[39;49m\u001B[38;5;241;43m.\u001B[39;49m\u001B[43mobj\u001B[49m\u001B[38;5;241;43m.\u001B[39;49m\u001B[43mxs\u001B[49m\u001B[43m(\u001B[49m\u001B[43mlabel\u001B[49m\u001B[43m,\u001B[49m\u001B[43m \u001B[49m\u001B[43maxis\u001B[49m\u001B[38;5;241;43m=\u001B[39;49m\u001B[43maxis\u001B[49m\u001B[43m)\u001B[49m\n",
      "File \u001B[1;32m~\\AppData\\Local\\Packages\\PythonSoftwareFoundation.Python.3.9_qbz5n2kfra8p0\\LocalCache\\local-packages\\Python39\\site-packages\\pandas\\core\\generic.py:4236\u001B[0m, in \u001B[0;36mNDFrame.xs\u001B[1;34m(self, key, axis, level, drop_level)\u001B[0m\n\u001B[0;32m   4234\u001B[0m             new_index \u001B[38;5;241m=\u001B[39m index[loc]\n\u001B[0;32m   4235\u001B[0m \u001B[38;5;28;01melse\u001B[39;00m:\n\u001B[1;32m-> 4236\u001B[0m     loc \u001B[38;5;241m=\u001B[39m \u001B[43mindex\u001B[49m\u001B[38;5;241;43m.\u001B[39;49m\u001B[43mget_loc\u001B[49m\u001B[43m(\u001B[49m\u001B[43mkey\u001B[49m\u001B[43m)\u001B[49m\n\u001B[0;32m   4238\u001B[0m     \u001B[38;5;28;01mif\u001B[39;00m \u001B[38;5;28misinstance\u001B[39m(loc, np\u001B[38;5;241m.\u001B[39mndarray):\n\u001B[0;32m   4239\u001B[0m         \u001B[38;5;28;01mif\u001B[39;00m loc\u001B[38;5;241m.\u001B[39mdtype \u001B[38;5;241m==\u001B[39m np\u001B[38;5;241m.\u001B[39mbool_:\n",
      "File \u001B[1;32m~\\AppData\\Local\\Packages\\PythonSoftwareFoundation.Python.3.9_qbz5n2kfra8p0\\LocalCache\\local-packages\\Python39\\site-packages\\pandas\\core\\indexes\\base.py:3802\u001B[0m, in \u001B[0;36mIndex.get_loc\u001B[1;34m(self, key)\u001B[0m\n\u001B[0;32m   3797\u001B[0m     \u001B[38;5;28;01mraise\u001B[39;00m \u001B[38;5;167;01mKeyError\u001B[39;00m(key) \u001B[38;5;28;01mfrom\u001B[39;00m \u001B[38;5;21;01merr\u001B[39;00m\n\u001B[0;32m   3798\u001B[0m \u001B[38;5;28;01mexcept\u001B[39;00m \u001B[38;5;167;01mTypeError\u001B[39;00m:\n\u001B[0;32m   3799\u001B[0m     \u001B[38;5;66;03m# If we have a listlike key, _check_indexing_error will raise\u001B[39;00m\n\u001B[0;32m   3800\u001B[0m     \u001B[38;5;66;03m#  InvalidIndexError. Otherwise we fall through and re-raise\u001B[39;00m\n\u001B[0;32m   3801\u001B[0m     \u001B[38;5;66;03m#  the TypeError.\u001B[39;00m\n\u001B[1;32m-> 3802\u001B[0m     \u001B[38;5;28;43mself\u001B[39;49m\u001B[38;5;241;43m.\u001B[39;49m\u001B[43m_check_indexing_error\u001B[49m\u001B[43m(\u001B[49m\u001B[43mkey\u001B[49m\u001B[43m)\u001B[49m\n\u001B[0;32m   3803\u001B[0m     \u001B[38;5;28;01mraise\u001B[39;00m\n",
      "File \u001B[1;32m~\\AppData\\Local\\Packages\\PythonSoftwareFoundation.Python.3.9_qbz5n2kfra8p0\\LocalCache\\local-packages\\Python39\\site-packages\\pandas\\core\\indexes\\base.py:5974\u001B[0m, in \u001B[0;36mIndex._check_indexing_error\u001B[1;34m(self, key)\u001B[0m\n\u001B[0;32m   5970\u001B[0m \u001B[38;5;28;01mdef\u001B[39;00m \u001B[38;5;21m_check_indexing_error\u001B[39m(\u001B[38;5;28mself\u001B[39m, key):\n\u001B[0;32m   5971\u001B[0m     \u001B[38;5;28;01mif\u001B[39;00m \u001B[38;5;129;01mnot\u001B[39;00m is_scalar(key):\n\u001B[0;32m   5972\u001B[0m         \u001B[38;5;66;03m# if key is not a scalar, directly raise an error (the code below\u001B[39;00m\n\u001B[0;32m   5973\u001B[0m         \u001B[38;5;66;03m# would convert to numpy arrays and raise later any way) - GH29926\u001B[39;00m\n\u001B[1;32m-> 5974\u001B[0m         \u001B[38;5;28;01mraise\u001B[39;00m InvalidIndexError(key)\n",
      "\u001B[1;31mInvalidIndexError\u001B[0m: tf.Tensor(0, shape=(), dtype=int32)"
     ]
    },
    {
     "data": {
      "text/plain": "<Figure size 640x480 with 1 Axes>",
      "image/png": "[encoded data removed]"
     },
     "metadata": {},
     "output_type": "display_data"
    }
   ],
   "source": [
    "# Show Image with increased brightness\n",
    "\n",
    "plt.imshow(keyfacial_df_copy['Image'][0], cmap='gray')\n",
    "for j in range(1, 31, 2):\n",
    "        plt.plot(keyfacial_df_copy.loc[0][j-1], keyfacial_df_copy.loc[0][j], 'rx')"
   ]
  },
  {
   "cell_type": "markdown",
   "metadata": {
    "id": "mm0qhrGNdcY9"
   },
   "source": [
    "MINI CHALLENGE #3:\n",
    "- Augment images by flipping them vertically\n",
    "(Hint: Flip along x-axis and note that if we are flipping along x-axis, x co-ordinates won't change)"
   ]
  },
  {
   "cell_type": "code",
   "execution_count": null,
   "metadata": {
    "id": "iQV4Lwr6dkmK"
   },
   "outputs": [],
   "source": [
    "keyfacial_df_copy = copy.copy(keyfacial_df)"
   ]
  },
  {
   "cell_type": "code",
   "execution_count": null,
   "metadata": {
    "id": "X607yQkqCBd9"
   },
   "outputs": [],
   "source": [
    "keyfacial_df_copy['Image'] = keyfacial_df_copy['Image'].apply(lambda x: np.flip(x, axis = 0))\n",
    "for i in range(len(columns)):\n",
    "  if i%2 == 1:\n",
    "    keyfacial_df_copy[columns[i]] = keyfacial_df_copy[columns[i]].apply(lambda x: 96. - float(x) )"
   ]
  },
  {
   "cell_type": "markdown",
   "metadata": {
    "id": "olFC4fPRixLm"
   },
   "source": [
    "MINI CHALLENGE #4:\n",
    "- Perform a sanity check and visualize sample images"
   ]
  },
  {
   "cell_type": "code",
   "execution_count": null,
   "metadata": {
    "colab": {
     "base_uri": "https://localhost:8080/",
     "height": 268
    },
    "id": "ERhDcD2XiP4u",
    "outputId": "79f474ee-fa7d-47d2-c7f5-8b9e8d067e0f"
   },
   "outputs": [],
   "source": [
    "plt.imshow(keyfacial_df_copy['Image'][0], cmap='gray')\n",
    "for j in range(1, 31, 2):\n",
    "        plt.plot(keyfacial_df_copy.loc[0][j-1], keyfacial_df_copy.loc[0][j], 'rx')"
   ]
  },
  {
   "cell_type": "code",
   "execution_count": null,
   "metadata": {
    "id": "Mv4RFiu4iP2c"
   },
   "outputs": [],
   "source": []
  },
  {
   "cell_type": "markdown",
   "metadata": {
    "id": "tz56c0e0t71Y"
   },
   "source": [
    "# TASK #5: PERFORM DATA NORMALIZATION AND TRAINING DATA PREPARATION"
   ]
  },
  {
   "cell_type": "code",
   "execution_count": null,
   "metadata": {
    "colab": {
     "base_uri": "https://localhost:8080/",
     "height": 34
    },
    "id": "sNdOOb0Ctvei",
    "outputId": "d63638c6-e303-459c-96f0-e6ae8ccfe14d"
   },
   "outputs": [],
   "source": [
    "# Obtain the value of images which is present in the 31st column (since index start from 0, we refer to 31st column by 30)\n",
    "img = augmented_df[:,30]\n",
    "\n",
    "# Normalize the images\n",
    "img = img/255.\n",
    "\n",
    "# Create an empty array of shape (x, 96, 96, 1) to feed the model\n",
    "X = np.empty((len(img), 96, 96, 1))\n",
    "\n",
    "# Iterate through the img list and add image values to the empty array after expanding it's dimension from (96, 96) to (96, 96, 1)\n",
    "for i in range(len(img)):\n",
    "  X[i,] = np.expand_dims(img[i], axis = 2)\n",
    "\n",
    "# Convert the array type to float32\n",
    "X = np.asarray(X).astype(np.float32)\n",
    "X.shape"
   ]
  },
  {
   "cell_type": "code",
   "execution_count": null,
   "metadata": {
    "colab": {
     "base_uri": "https://localhost:8080/",
     "height": 34
    },
    "id": "hPNN-RKftvcF",
    "outputId": "3e810284-1c1d-455b-e6a1-cbca2d4d7cd1"
   },
   "outputs": [],
   "source": [
    "# Obtain the value of x & y coordinates which are to used as target.\n",
    "y = augmented_df[:,:30]\n",
    "y = np.asarray(y).astype(np.float32)\n",
    "y.shape"
   ]
  },
  {
   "cell_type": "code",
   "execution_count": null,
   "metadata": {
    "id": "cl7FHUUMtvZr"
   },
   "outputs": [],
   "source": [
    "# Split the data into train and test data\n",
    "X_train, X_test, y_train, y_test = train_test_split(X, y, test_size = 0.2)"
   ]
  },
  {
   "cell_type": "markdown",
   "metadata": {
    "id": "HN2fmPwrd4CZ"
   },
   "source": [
    "MINI CHALLENGE #5:\n",
    "- Try a different value for 'test_size' and verify that the split was successful"
   ]
  },
  {
   "cell_type": "code",
   "execution_count": null,
   "metadata": {
    "colab": {
     "base_uri": "https://localhost:8080/",
     "height": 34
    },
    "id": "rQmZG5fxkU9d",
    "outputId": "1e6bcdbf-811b-4ed0-be18-1232707447ca"
   },
   "outputs": [],
   "source": [
    "X_train.shape"
   ]
  },
  {
   "cell_type": "code",
   "execution_count": null,
   "metadata": {
    "colab": {
     "base_uri": "https://localhost:8080/",
     "height": 34
    },
    "id": "xe_63C3PFiIC",
    "outputId": "4db2f8e7-fdf2-486c-eb70-dc35ccc2e9f3"
   },
   "outputs": [],
   "source": [
    "X_test.shape"
   ]
  },
  {
   "cell_type": "markdown",
   "metadata": {
    "id": "ZO5Gj9SuVsNl"
   },
   "source": [
    "# TASK #6: UNDERSTAND THE THEORY AND INTUITION BEHIND NEURAL NETWORKS"
   ]
  },
  {
   "cell_type": "markdown",
   "metadata": {
    "id": "l82oD8xWktf4"
   },
   "source": [
    "MINI CHALLENGE #6:\n",
    "- List at least 3 types of activation functions, which type is preferred in the hidden layers?"
   ]
  },
  {
   "cell_type": "code",
   "execution_count": null,
   "metadata": {
    "id": "CqewaqxuoAki"
   },
   "outputs": [],
   "source": []
  },
  {
   "cell_type": "markdown",
   "metadata": {
    "id": "oVjBgYLRoBOC"
   },
   "source": [
    "MINI CHALLENGE #7:\n",
    "- List at least 3 different neural networks architectures and their applications."
   ]
  },
  {
   "cell_type": "code",
   "execution_count": null,
   "metadata": {
    "id": "y8I3pVH-ks1a"
   },
   "outputs": [],
   "source": []
  },
  {
   "cell_type": "markdown",
   "metadata": {
    "id": "Fd5FRPK0XYXJ"
   },
   "source": [
    "# TASK #7: UNDERSTAND NEURAL NETWORKS TRAINING PROCESS AND GRADIENT DESCENT ALGORITHM"
   ]
  },
  {
   "cell_type": "markdown",
   "metadata": {
    "id": "KIwlzHjym4zj"
   },
   "source": [
    "MINI CHALLENGE #8:\n",
    "- What happen when you set the learning rate to the extremes (i.e.: very small value and very large value)? How can you achieve the best of both worlds?"
   ]
  },
  {
   "cell_type": "code",
   "execution_count": null,
   "metadata": {
    "id": "40cFtAm3na__"
   },
   "outputs": [],
   "source": []
  },
  {
   "cell_type": "markdown",
   "metadata": {
    "id": "rEZKldSlZBNG"
   },
   "source": [
    "# TASK #8: UNDERSTAND THE THEORY AND INTUITION BEHIND CONVOLUTIONAL NEURAL NETWORKS AND RESNETS"
   ]
  },
  {
   "cell_type": "markdown",
   "metadata": {
    "id": "yJ_z82VFtoSy"
   },
   "source": [
    "MINI CHALLENGE #9:\n",
    "- What's the performance of ResNets compared to AlexNet in ImageNet dataset?"
   ]
  },
  {
   "cell_type": "code",
   "execution_count": null,
   "metadata": {
    "id": "sP2G_du-tnlV"
   },
   "outputs": [],
   "source": []
  },
  {
   "cell_type": "markdown",
   "metadata": {
    "id": "yIXkiaHBuNrg"
   },
   "source": [
    "# TASK #9: BUILD DEEP RESIDUAL NEURAL NETWORK KEY FACIAL POINTS DETECTION MODEL"
   ]
  },
  {
   "cell_type": "code",
   "execution_count": null,
   "metadata": {
    "id": "7lCAPjVotvXi"
   },
   "outputs": [],
   "source": [
    "from keras.layers import Conv2D, MaxPool2D, BatchNormalization, Activation, Add\n",
    "\n",
    "\n",
    "def res_block(X, filter, stage):\n",
    "\n",
    "  # Convolutional_block\n",
    "  X_copy = X\n",
    "\n",
    "  f1 , f2, f3 = filter\n",
    "\n",
    "  # Main Path\n",
    "  X = Conv2D(f1, (1,1),strides = (1,1), name ='res_'+str(stage)+'_conv_a', kernel_initializer= glorot_uniform(seed = 0))(X)\n",
    "  X = MaxPool2D((2,2))(X)\n",
    "  X = BatchNormalization(axis =3, name = 'bn_'+str(stage)+'_conv_a')(X)\n",
    "  X = Activation('relu')(X)\n",
    "\n",
    "  X = Conv2D(f2, kernel_size = (3,3), strides =(1,1), padding = 'same', name ='res_'+str(stage)+'_conv_b', kernel_initializer= glorot_uniform(seed = 0))(X)\n",
    "  X = BatchNormalization(axis =3, name = 'bn_'+str(stage)+'_conv_b')(X)\n",
    "  X = Activation('relu')(X)\n",
    "\n",
    "  X = Conv2D(f3, kernel_size = (1,1), strides =(1,1),name ='res_'+str(stage)+'_conv_c', kernel_initializer= glorot_uniform(seed = 0))(X)\n",
    "  X = BatchNormalization(axis =3, name = 'bn_'+str(stage)+'_conv_c')(X)\n",
    "\n",
    "\n",
    "  # Short path\n",
    "  X_copy = Conv2D(f3, kernel_size = (1,1), strides =(1,1),name ='res_'+str(stage)+'_conv_copy', kernel_initializer= glorot_uniform(seed = 0))(X_copy)\n",
    "  X_copy = MaxPool2D((2,2))(X_copy)\n",
    "  X_copy = BatchNormalization(axis =3, name = 'bn_'+str(stage)+'_conv_copy')(X_copy)\n",
    "\n",
    "  # ADD\n",
    "  X = Add()([X,X_copy])\n",
    "  X = Activation('relu')(X)\n",
    "\n",
    "  # Identity Block 1\n",
    "  X_copy = X\n",
    "\n",
    "\n",
    "  # Main Path\n",
    "  X = Conv2D(f1, (1,1),strides = (1,1), name ='res_'+str(stage)+'_identity_1_a', kernel_initializer= glorot_uniform(seed = 0))(X)\n",
    "  X = BatchNormalization(axis =3, name = 'bn_'+str(stage)+'_identity_1_a')(X)\n",
    "  X = Activation('relu')(X)\n",
    "\n",
    "  X = Conv2D(f2, kernel_size = (3,3), strides =(1,1), padding = 'same', name ='res_'+str(stage)+'_identity_1_b', kernel_initializer= glorot_uniform(seed = 0))(X)\n",
    "  X = BatchNormalization(axis =3, name = 'bn_'+str(stage)+'_identity_1_b')(X)\n",
    "  X = Activation('relu')(X)\n",
    "\n",
    "  X = Conv2D(f3, kernel_size = (1,1), strides =(1,1),name ='res_'+str(stage)+'_identity_1_c', kernel_initializer= glorot_uniform(seed = 0))(X)\n",
    "  X = BatchNormalization(axis =3, name = 'bn_'+str(stage)+'_identity_1_c')(X)\n",
    "\n",
    "  # ADD\n",
    "  X = Add()([X,X_copy])\n",
    "  X = Activation('relu')(X)\n",
    "\n",
    "  # Identity Block 2\n",
    "  X_copy = X\n",
    "\n",
    "\n",
    "  # Main Path\n",
    "  X = Conv2D(f1, (1,1),strides = (1,1), name ='res_'+str(stage)+'_identity_2_a', kernel_initializer= glorot_uniform(seed = 0))(X)\n",
    "  X = BatchNormalization(axis =3, name = 'bn_'+str(stage)+'_identity_2_a')(X)\n",
    "  X = Activation('relu')(X)\n",
    "\n",
    "  X = Conv2D(f2, kernel_size = (3,3), strides =(1,1), padding = 'same', name ='res_'+str(stage)+'_identity_2_b', kernel_initializer= glorot_uniform(seed = 0))(X)\n",
    "  X = BatchNormalization(axis =3, name = 'bn_'+str(stage)+'_identity_2_b')(X)\n",
    "  X = Activation('relu')(X)\n",
    "\n",
    "  X = Conv2D(f3, kernel_size = (1,1), strides =(1,1),name ='res_'+str(stage)+'_identity_2_c', kernel_initializer= glorot_uniform(seed = 0))(X)\n",
    "  X = BatchNormalization(axis =3, name = 'bn_'+str(stage)+'_identity_2_c')(X)\n",
    "\n",
    "  # ADD\n",
    "  X = Add()([X,X_copy])\n",
    "  X = Activation('relu')(X)\n",
    "\n",
    "  return X"
   ]
  },
  {
   "cell_type": "code",
   "execution_count": null,
   "metadata": {
    "colab": {
     "base_uri": "https://localhost:8080/",
     "height": 1000
    },
    "id": "NB9dPqlTtvVH",
    "outputId": "69199dfe-415c-4161-d598-39a5f1e71d6e"
   },
   "outputs": [],
   "source": [
    "from keras.layers import ZeroPadding2D, AveragePooling2D, Flatten, Dense, Dropout\n",
    "\n",
    "from keras.layers import MaxPooling2D\n",
    "\n",
    "input_shape = (96, 96, 1)\n",
    "\n",
    "# Input tensor shape\n",
    "X_input = Input(input_shape)\n",
    "\n",
    "# Zero-padding\n",
    "X = ZeroPadding2D((3,3))(X_input)\n",
    "\n",
    "# 1 - stage\n",
    "X = Conv2D(64, (7,7), strides= (2,2), name = 'conv1', kernel_initializer= glorot_uniform(seed = 0))(X)\n",
    "X = BatchNormalization(axis =3, name = 'bn_conv1')(X)\n",
    "X = Activation('relu')(X)\n",
    "X = MaxPooling2D((3,3), strides= (2,2))(X)\n",
    "\n",
    "# 2 - stage\n",
    "X = res_block(X, filter= [64,64,256], stage= 2)\n",
    "\n",
    "# 3 - stage\n",
    "X = res_block(X, filter= [128,128,512], stage= 3)\n",
    "\n",
    "\n",
    "# Average Pooling\n",
    "X = AveragePooling2D((2,2), name = 'Averagea_Pooling')(X)\n",
    "\n",
    "# Final layer\n",
    "X = Flatten()(X)\n",
    "X = Dense(4096, activation = 'relu')(X)\n",
    "X = Dropout(0.2)(X)\n",
    "X = Dense(2048, activation = 'relu')(X)\n",
    "X = Dropout(0.1)(X)\n",
    "X = Dense(30, activation = 'relu')(X)\n",
    "\n",
    "\n",
    "model_1_facialKeyPoints = Model( inputs= X_input, outputs = X)\n",
    "model_1_facialKeyPoints.summary()"
   ]
  },
  {
   "cell_type": "markdown",
   "metadata": {
    "id": "uEND_oH7mANd"
   },
   "source": [
    "MINI CHALLENGE #10:\n",
    "- Experiment with changing the network architecture by removing 2 MaxPooling layers from the Res Block and train the model\n",
    "- Try to add 'X = res_block(X, filter= [256,256,1024], stage= 4)' Block after stage #3 block.\n",
    "- What did you observe? Comment on your answer"
   ]
  },
  {
   "cell_type": "markdown",
   "metadata": {
    "id": "IJCLhas0ulnq"
   },
   "source": [
    "# TASK #10: COMPILE AND TRAIN KEY FACIAL POINTS DETECTION DEEP LEARNING MODEL"
   ]
  },
  {
   "cell_type": "code",
   "execution_count": null,
   "metadata": {
    "id": "mr662N98upOP"
   },
   "outputs": [],
   "source": [
    "# import tensorflow\n",
    "import keras\n",
    "\n",
    "adam = keras.optimizers.Adam(learning_rate = 0.0001, beta_1 = 0.9, beta_2 = 0.999, amsgrad = False)\n",
    "model_1_facialKeyPoints.compile(loss = \"mean_squared_error\", optimizer = adam , metrics = ['accuracy'])\n",
    "# Check this out for more information on Adam optimizer: https://www.tensorflow.org/api_docs/python/tf/keras/optimizers/Adam"
   ]
  },
  {
   "cell_type": "code",
   "execution_count": null,
   "metadata": {
    "id": "2pj-gfDCusny"
   },
   "outputs": [],
   "source": [
    "# save the best model with least validation loss\n",
    "checkpointer = ModelCheckpoint(filepath = \"FacialKeyPoints_weights.hdf5\", verbose = 1, save_best_only = True)"
   ]
  },
  {
   "cell_type": "code",
   "execution_count": null,
   "metadata": {
    "colab": {
     "base_uri": "https://localhost:8080/",
     "height": 360
    },
    "id": "IvWHFJyousme",
    "outputId": "e7904147-7520-4a38-b647-6d9de2f7203f"
   },
   "outputs": [],
   "source": [
    "history = model_1_facialKeyPoints.fit(X_train, y_train, batch_size = 32, epochs = 2, validation_split = 0.05, callbacks=[checkpointer])"
   ]
  },
  {
   "cell_type": "code",
   "execution_count": null,
   "metadata": {
    "id": "2VLk1ZKPusjM"
   },
   "outputs": [],
   "source": [
    "# save the model architecture to json file for future use\n",
    "\n",
    "model_json = model_1_facialKeyPoints.to_json()\n",
    "with open(\"FacialKeyPoints-model.json\",\"w\") as json_file:\n",
    "  json_file.write(model_json)\n"
   ]
  },
  {
   "cell_type": "markdown",
   "metadata": {
    "id": "G_p7ramEeMGa"
   },
   "source": [
    "MINI CHALLENGE #11:\n",
    "- Experiment with changing the batch size and validation split value and retrain the model (Take Home)"
   ]
  },
  {
   "cell_type": "code",
   "execution_count": null,
   "metadata": {
    "id": "GynkMge9eNd_"
   },
   "outputs": [],
   "source": []
  },
  {
   "cell_type": "markdown",
   "metadata": {
    "id": "c-cVW8K62Pai"
   },
   "source": [
    "# TASK #11: ASSESS TRAINED KEY FACIAL POINTS DETECTION MODEL PERFORMANCE"
   ]
  },
  {
   "cell_type": "code",
   "execution_count": null,
   "metadata": {
    "id": "-iGWmYbdu2mF"
   },
   "outputs": [],
   "source": [
    "with open('detection.json', 'r') as json_file:\n",
    "    json_savedModel= json_file.read()\n",
    "\n",
    "# load the model architecture\n",
    "model_1_facialKeyPoints = keras.models.model_from_json(json_savedModel)\n",
    "model_1_facialKeyPoints.load_weights('weights_keypoint.hdf5')\n",
    "adam = keras.optimizers.Adam(learning_rate=0.0001, beta_1=0.9, beta_2=0.999, amsgrad=False)\n",
    "model_1_facialKeyPoints.compile(loss=\"mean_squared_error\", optimizer= adam , metrics = ['accuracy'])"
   ]
  },
  {
   "cell_type": "code",
   "execution_count": null,
   "metadata": {
    "colab": {
     "base_uri": "https://localhost:8080/",
     "height": 51
    },
    "id": "-XuTiBexu2j5",
    "outputId": "24e18055-a006-442b-9cee-6b6910c15bf3"
   },
   "outputs": [],
   "source": [
    "# Evaluate the model\n",
    "\n",
    "result = model_1_facialKeyPoints.evaluate(X_test, y_test)\n",
    "print(\"Accuracy : {}\".format(result[1]))"
   ]
  },
  {
   "cell_type": "code",
   "execution_count": null,
   "metadata": {
    "colab": {
     "base_uri": "https://localhost:8080/",
     "height": 182
    },
    "id": "NA-LZmf-u2iE",
    "outputId": "e887257c-3129-45fd-85ca-cd05821dc8c0"
   },
   "outputs": [],
   "source": [
    "# Get the model keys\n",
    "history.history.keys()"
   ]
  },
  {
   "cell_type": "code",
   "execution_count": null,
   "metadata": {
    "id": "TJfpDL2xu2cV"
   },
   "outputs": [],
   "source": [
    "# Plot the training artifacts\n",
    "\n",
    "plt.plot(history.history['loss'])\n",
    "plt.plot(history.history['val_loss'])\n",
    "plt.title('Model loss')\n",
    "plt.ylabel('loss')\n",
    "plt.xlabel('epoch')\n",
    "plt.legend(['train_loss','val_loss'], loc = 'upper right')\n",
    "plt.show()"
   ]
  },
  {
   "cell_type": "markdown",
   "metadata": {
    "id": "HvTWqbOI2tty"
   },
   "source": [
    "# PART 2. FACIAL EXPRESSION DETECTION\n",
    "Source: https://www.kaggle.com/c/challenges-in-representation-learning-facial-expression-recognition-challenge/data"
   ]
  },
  {
   "cell_type": "markdown",
   "metadata": {
    "id": "wIKg0ZXk3DWl"
   },
   "source": [
    "# TASK #12: IMPORT & EXPLORE DATASET FOR FACIAL EXPRESSION DETECTION"
   ]
  },
  {
   "cell_type": "code",
   "execution_count": null,
   "metadata": {
    "id": "u_NT8ASSu2aT"
   },
   "outputs": [],
   "source": [
    "# read the csv files for the facial expression data\n",
    "facialexpression_df = pd.read_csv('icml_face_data.csv')"
   ]
  },
  {
   "cell_type": "code",
   "execution_count": null,
   "metadata": {
    "colab": {
     "base_uri": "https://localhost:8080/",
     "height": 417
    },
    "id": "CTiebNB2u2YP",
    "outputId": "2adaef39-dbea-46f4-8297-99e5ce65fe49"
   },
   "outputs": [],
   "source": [
    "facialexpression_df"
   ]
  },
  {
   "cell_type": "code",
   "execution_count": null,
   "metadata": {
    "colab": {
     "base_uri": "https://localhost:8080/",
     "height": 155
    },
    "id": "yGIesU_F0AMm",
    "outputId": "76754a0e-4d69-482b-8e97-7f60738d57cf"
   },
   "outputs": [],
   "source": [
    "facialexpression_df[' pixels'][0] # String format"
   ]
  },
  {
   "cell_type": "code",
   "execution_count": null,
   "metadata": {
    "id": "MMLQbIEh3Ma6"
   },
   "outputs": [],
   "source": [
    "# function to convert pixel values in string format to array format\n",
    "\n",
    "def string2array(x):\n",
    "  return np.array(x.split(' ')).reshape(48, 48).astype('float32')"
   ]
  },
  {
   "cell_type": "code",
   "execution_count": null,
   "metadata": {
    "id": "RkUHXFoU3MYq"
   },
   "outputs": [],
   "source": [
    "# Resize images from (48, 48) to (96, 96)\n",
    "\n",
    "def resize(x):\n",
    "\n",
    "  img = x.reshape(48, 48)\n",
    "  return cv2.resize(img, dsize=(96, 96), interpolation = cv2.INTER_CUBIC)"
   ]
  },
  {
   "cell_type": "code",
   "execution_count": null,
   "metadata": {
    "id": "GexILbbK3MWK"
   },
   "outputs": [],
   "source": [
    "facialexpression_df[' pixels'] = facialexpression_df[' pixels'].apply(lambda x: string2array(x))"
   ]
  },
  {
   "cell_type": "code",
   "execution_count": null,
   "metadata": {
    "id": "RZr0wp553MUp"
   },
   "outputs": [],
   "source": [
    "facialexpression_df[' pixels'] = facialexpression_df[' pixels'].apply(lambda x: resize(x))"
   ]
  },
  {
   "cell_type": "code",
   "execution_count": null,
   "metadata": {
    "colab": {
     "base_uri": "https://localhost:8080/",
     "height": 202
    },
    "id": "2Rbv7ZyC3MSM",
    "outputId": "f63a490d-7b87-4a03-aa70-3ead4ef60674"
   },
   "outputs": [],
   "source": [
    "facialexpression_df.head()"
   ]
  },
  {
   "cell_type": "code",
   "execution_count": null,
   "metadata": {
    "colab": {
     "base_uri": "https://localhost:8080/",
     "height": 35
    },
    "id": "gkreBNCT3MPu",
    "outputId": "7c2d0e5a-8417-4b95-aa83-b000988c7de3"
   },
   "outputs": [],
   "source": [
    "# check the shape of data_frame\n",
    "facialexpression_df.shape"
   ]
  },
  {
   "cell_type": "code",
   "execution_count": null,
   "metadata": {
    "colab": {
     "base_uri": "https://localhost:8080/",
     "height": 69
    },
    "id": "gkQQp5gy3MNa",
    "outputId": "6c81a7fe-e24a-403a-a6b7-876eeeddbb8f"
   },
   "outputs": [],
   "source": [
    "# check for the presence of null values in the data frame\n",
    "facialexpression_df.isnull().sum()"
   ]
  },
  {
   "cell_type": "code",
   "execution_count": null,
   "metadata": {
    "id": "G-BzW6jL3MK0"
   },
   "outputs": [],
   "source": [
    "label_to_text = {0:'anger', 1:'disgust', 2:'sad', 3:'happiness', 4: 'surprise'}"
   ]
  },
  {
   "cell_type": "markdown",
   "metadata": {
    "id": "0ceohXF_1QIk"
   },
   "source": [
    "MINI CHALLENGE #12:\n",
    "- Visualize the first image in the dataframe and make sure that the image is not distorted by resizing or reshaping operations"
   ]
  },
  {
   "cell_type": "code",
   "execution_count": null,
   "metadata": {
    "colab": {
     "base_uri": "https://localhost:8080/",
     "height": 285
    },
    "id": "_xm9oL5k1ED6",
    "outputId": "08f5e158-931e-4092-99e1-2a1954bf251e"
   },
   "outputs": [],
   "source": [
    "plt.imshow(facialexpression_df[' pixels'][0], cmap = 'gray')"
   ]
  },
  {
   "cell_type": "markdown",
   "metadata": {
    "id": "5JtBq4Ys3m5A"
   },
   "source": [
    "# TASK #13: VISUALIZE IMAGES AND PLOT LABELS"
   ]
  },
  {
   "cell_type": "code",
   "execution_count": null,
   "metadata": {
    "colab": {
     "base_uri": "https://localhost:8080/",
     "height": 1000
    },
    "id": "tZmIbWvE3rJM",
    "outputId": "53e3c424-1954-448b-ab66-c445be8a31a0"
   },
   "outputs": [],
   "source": [
    "emotions = [0, 1, 2, 3, 4]\n",
    "\n",
    "for i in emotions:\n",
    "  data = facialexpression_df[facialexpression_df['emotion'] == i][:1]\n",
    "  img = data[' pixels'].item()\n",
    "  img = img.reshape(96, 96)\n",
    "  plt.figure()\n",
    "  plt.title(label_to_text[i])\n",
    "  plt.imshow(img, cmap = 'gray')"
   ]
  },
  {
   "cell_type": "markdown",
   "metadata": {
    "id": "bQj1t3mt1t7_"
   },
   "source": [
    "MINI CHALLENGE #13:\n",
    "- Plot bar chart to outline how many samples (images) are present per emotion"
   ]
  },
  {
   "cell_type": "code",
   "execution_count": null,
   "metadata": {
    "colab": {
     "base_uri": "https://localhost:8080/",
     "height": 35
    },
    "id": "Mqd57PASp_tl",
    "outputId": "de84107a-d2eb-4098-cd4a-8ac14fc15eed"
   },
   "outputs": [],
   "source": [
    "facialexpression_df.emotion.value_counts().index"
   ]
  },
  {
   "cell_type": "code",
   "execution_count": null,
   "metadata": {
    "colab": {
     "base_uri": "https://localhost:8080/",
     "height": 121
    },
    "id": "bMnwhXw_qGyq",
    "outputId": "765406ad-1af1-44a1-8c14-a3b9ef35ac3d"
   },
   "outputs": [],
   "source": [
    "facialexpression_df.emotion.value_counts()"
   ]
  },
  {
   "cell_type": "code",
   "execution_count": null,
   "metadata": {
    "colab": {
     "base_uri": "https://localhost:8080/",
     "height": 609
    },
    "id": "oxAbaC1g3pNP",
    "outputId": "5134bece-e7f5-469a-ab96-fe39bbd0a379"
   },
   "outputs": [],
   "source": [
    "plt.figure(figsize = (10,10))\n",
    "sns.barplot(x = facialexpression_df.emotion.value_counts().index, y = facialexpression_df.emotion.value_counts())"
   ]
  },
  {
   "cell_type": "markdown",
   "metadata": {
    "id": "Ib_YTklF3wGy"
   },
   "source": [
    "# TASK #14: PERFORM DATA PREPARATION AND IMAGE AUGMENTATION"
   ]
  },
  {
   "cell_type": "code",
   "execution_count": null,
   "metadata": {
    "id": "HgzxfltG3rHt"
   },
   "outputs": [],
   "source": [
    "# split the dataframe in to features and labels\n",
    "from keras.utils import to_categorical\n",
    "\n",
    "X = facialexpression_df[' pixels']\n",
    "y = to_categorical(facialexpression_df['emotion'])\n"
   ]
  },
  {
   "cell_type": "code",
   "execution_count": null,
   "metadata": {
    "colab": {
     "base_uri": "https://localhost:8080/",
     "height": 243
    },
    "id": "gx91bryj0zu_",
    "outputId": "eaba1e27-665d-440c-b22c-559b997a7351"
   },
   "outputs": [],
   "source": [
    "X[0]"
   ]
  },
  {
   "cell_type": "code",
   "execution_count": null,
   "metadata": {
    "colab": {
     "base_uri": "https://localhost:8080/",
     "height": 139
    },
    "id": "WNDkM9ZL0-kP",
    "outputId": "7aaa8efc-6dc1-4084-8478-c014753258ce"
   },
   "outputs": [],
   "source": [
    "y"
   ]
  },
  {
   "cell_type": "code",
   "execution_count": null,
   "metadata": {
    "colab": {
     "base_uri": "https://localhost:8080/",
     "height": 35
    },
    "id": "pfPslLye0wgZ",
    "outputId": "62728d77-a9bc-44dd-b005-9fe1779214fc"
   },
   "outputs": [],
   "source": [
    "\n",
    "X = np.stack(X, axis = 0)\n",
    "X = X.reshape(24568, 96, 96, 1)\n",
    "\n",
    "print(X.shape, y.shape)"
   ]
  },
  {
   "cell_type": "code",
   "execution_count": null,
   "metadata": {
    "id": "Q1zcH-d83rGF"
   },
   "outputs": [],
   "source": [
    "# split the dataframe in to train, test and validation data frames\n",
    "\n",
    "from sklearn.model_selection import train_test_split\n",
    "\n",
    "X_train, X_Test, y_train, y_Test = train_test_split(X, y, test_size = 0.1, shuffle = True)\n",
    "X_val, X_Test, y_val, y_Test = train_test_split(X_Test, y_Test, test_size = 0.5, shuffle = True)\n"
   ]
  },
  {
   "cell_type": "code",
   "execution_count": null,
   "metadata": {
    "colab": {
     "base_uri": "https://localhost:8080/",
     "height": 35
    },
    "id": "kkLQt43f3rE2",
    "outputId": "4e0537e0-0d96-4d03-8f09-65313f848084"
   },
   "outputs": [],
   "source": [
    "print(X_val.shape, y_val.shape)"
   ]
  },
  {
   "cell_type": "code",
   "execution_count": null,
   "metadata": {
    "colab": {
     "base_uri": "https://localhost:8080/",
     "height": 35
    },
    "id": "Febj9BnO1xaA",
    "outputId": "26a469f2-b9d8-4f6b-bd98-37d56624ad0c"
   },
   "outputs": [],
   "source": [
    "print(X_Test.shape, y_Test.shape)"
   ]
  },
  {
   "cell_type": "code",
   "execution_count": null,
   "metadata": {
    "colab": {
     "base_uri": "https://localhost:8080/",
     "height": 35
    },
    "id": "YDH4-6h211dj",
    "outputId": "c4a24b71-7cf3-4cef-c65d-62a38adb5bfd"
   },
   "outputs": [],
   "source": [
    "print(X_train.shape, y_train.shape)"
   ]
  },
  {
   "cell_type": "code",
   "execution_count": null,
   "metadata": {
    "id": "jDAFSti14MUD"
   },
   "outputs": [],
   "source": [
    "# image pre-processing\n",
    "\n",
    "X_train = X_train/255\n",
    "X_val   = X_val /255\n",
    "X_Test  = X_Test/255"
   ]
  },
  {
   "cell_type": "code",
   "execution_count": null,
   "metadata": {
    "colab": {
     "base_uri": "https://localhost:8080/",
     "height": 1000
    },
    "id": "Wh8hASOZ1_GG",
    "outputId": "b3241255-89ac-41dd-9db8-9ad0f33464e8"
   },
   "outputs": [],
   "source": [
    "X_train"
   ]
  },
  {
   "cell_type": "code",
   "execution_count": null,
   "metadata": {
    "id": "_IgiiGW64MRm"
   },
   "outputs": [],
   "source": [
    "train_datagen = ImageDataGenerator(\n",
    "rotation_range = 15,\n",
    "    width_shift_range = 0.1,\n",
    "    height_shift_range = 0.1,\n",
    "    shear_range = 0.1,\n",
    "    zoom_range = 0.1,\n",
    "    horizontal_flip = True,\n",
    "    fill_mode = \"nearest\")\n"
   ]
  },
  {
   "cell_type": "markdown",
   "metadata": {
    "id": "MQArvQk23k2g"
   },
   "source": [
    "MINI CHALLENGE #14:\n",
    "- Try at least 2 additional data augmentation techniques"
   ]
  },
  {
   "cell_type": "code",
   "execution_count": null,
   "metadata": {
    "id": "-NyS_hKR3j_I"
   },
   "outputs": [],
   "source": []
  },
  {
   "cell_type": "markdown",
   "metadata": {
    "id": "t5yyM1UF4Xv2"
   },
   "source": [
    "# TASK #15: BUILD AND TRAIN DEEP LEARNING MODEL FOR FACIAL EXPRESSION CLASSIFICATION"
   ]
  },
  {
   "cell_type": "code",
   "execution_count": null,
   "metadata": {
    "colab": {
     "base_uri": "https://localhost:8080/",
     "height": 1000
    },
    "id": "5iYII6C24MQD",
    "outputId": "1fcb68f3-8b7e-4257-ded2-432beb1d9cbe"
   },
   "outputs": [],
   "source": [
    "input_shape = (96, 96, 1)\n",
    "\n",
    "# Input tensor shape\n",
    "X_input = Input(input_shape)\n",
    "\n",
    "# Zero-padding\n",
    "X = ZeroPadding2D((3, 3))(X_input)\n",
    "\n",
    "# 1 - stage\n",
    "X = Conv2D(64, (7, 7), strides= (2, 2), name = 'conv1', kernel_initializer= glorot_uniform(seed = 0))(X)\n",
    "X = BatchNormalization(axis =3, name = 'bn_conv1')(X)\n",
    "X = Activation('relu')(X)\n",
    "X = MaxPooling2D((3, 3), strides= (2, 2))(X)\n",
    "\n",
    "# 2 - stage\n",
    "X = res_block(X, filter= [64, 64, 256], stage= 2)\n",
    "\n",
    "# 3 - stage\n",
    "X = res_block(X, filter= [128, 128, 512], stage= 3)\n",
    "\n",
    "# 4 - stage\n",
    "# X = res_block(X, filter= [256, 256, 1024], stage= 4)\n",
    "\n",
    "# Average Pooling\n",
    "X = AveragePooling2D((4, 4), name = 'Averagea_Pooling')(X)\n",
    "\n",
    "# Final layer\n",
    "X = Flatten()(X)\n",
    "X = Dense(5, activation = 'softmax', name = 'Dense_final', kernel_initializer= glorot_uniform(seed=0))(X)\n",
    "\n",
    "model_2_emotion = Model( inputs= X_input, outputs = X, name = 'Resnet18')\n",
    "\n",
    "model_2_emotion.summary()"
   ]
  },
  {
   "cell_type": "code",
   "execution_count": null,
   "metadata": {
    "id": "4SHnD2aX4MLJ"
   },
   "outputs": [],
   "source": [
    "# train the network\n",
    "model_2_emotion.compile(optimizer = \"Adam\", loss = \"categorical_crossentropy\", metrics = [\"accuracy\"])"
   ]
  },
  {
   "cell_type": "code",
   "execution_count": null,
   "metadata": {
    "id": "0ubSY9CQ4MJG"
   },
   "outputs": [],
   "source": [
    "# Recall that the first facial key points model was saved as follows: FacialKeyPoints_weights.hdf5 and FacialKeyPoints-model.json\n",
    "\n",
    "# using early stopping to exit training if validation loss is not decreasing even after certain epochs (patience)\n",
    "earlystopping = EarlyStopping(monitor = 'val_loss', mode = 'min', verbose = 1, patience = 20)\n",
    "\n",
    "# save the best model with lower validation loss\n",
    "checkpointer = ModelCheckpoint(filepath = \"FacialExpression_weights.hdf5\", verbose = 1, save_best_only=True)"
   ]
  },
  {
   "cell_type": "code",
   "execution_count": null,
   "metadata": {
    "colab": {
     "base_uri": "https://localhost:8080/",
     "height": 156
    },
    "id": "iqjpKgHK3q_n",
    "outputId": "72843016-3f28-4693-c89b-3660d9317523"
   },
   "outputs": [],
   "source": [
    "history = model_2_emotion.fit(train_datagen.flow(X_train, y_train, batch_size=64),\n",
    "\tvalidation_data=(X_val, y_val), steps_per_epoch=len(X_train) // 64,\n",
    "\tepochs= 2, callbacks=[checkpointer, earlystopping])"
   ]
  },
  {
   "cell_type": "code",
   "execution_count": null,
   "metadata": {
    "id": "oJe9up3A4zUI"
   },
   "outputs": [],
   "source": [
    "# saving the model architecture to json file for future use\n",
    "\n",
    "model_json = model_2_emotion.to_json()\n",
    "with open(\"FacialExpression-model.json\",\"w\") as json_file:\n",
    "  json_file.write(model_json)"
   ]
  },
  {
   "cell_type": "markdown",
   "metadata": {
    "id": "uS71oV-j2ZXh"
   },
   "source": [
    "MINI CHALLENGE #15:\n",
    "- Experiment with various batch size, patience, optimizers, and network architecture to improve network performance (Take home)"
   ]
  },
  {
   "cell_type": "code",
   "execution_count": null,
   "metadata": {
    "id": "MREPeVkF2Y3i"
   },
   "outputs": [],
   "source": []
  },
  {
   "cell_type": "markdown",
   "metadata": {
    "id": "XrkNZ8Yua2J_"
   },
   "source": [
    "# TASK #16: UNDERSTAND HOW TO ASSESS CLASSIFIER MODELS (CONFUSION MATRIX, ACCURACY, PRECISION, AND RECALL)"
   ]
  },
  {
   "cell_type": "markdown",
   "metadata": {
    "id": "tMw9HpK9NZ8y"
   },
   "source": [
    "![alt text](https://drive.google.com/uc?id=1__5rAZ0LoQJzTkPKIaMmspeBY9CEB_YE)"
   ]
  },
  {
   "cell_type": "markdown",
   "metadata": {
    "id": "lvzzVpohNZ58"
   },
   "source": [
    "![alt text](https://drive.google.com/uc?id=1EDT2wThkKiH2WRuOVVXf_n_Jixb27BjB)"
   ]
  },
  {
   "cell_type": "markdown",
   "metadata": {
    "id": "oK6scQQZNZ3a"
   },
   "source": [
    "![alt text](https://drive.google.com/uc?id=1SwXf4hlCLEJVbAI8H4tcDO5FCEGf7h1o)"
   ]
  },
  {
   "cell_type": "markdown",
   "metadata": {
    "id": "0LxpMt2h5AIi"
   },
   "source": [
    "# TASK #17: ASSESS THE PERFORMANCE OF TRAINED FACIAL EXPRESSION CLASSIFIER MODEL"
   ]
  },
  {
   "cell_type": "code",
   "execution_count": null,
   "metadata": {
    "id": "QKtc94LP4zSj"
   },
   "outputs": [],
   "source": [
    "with open('emotion.json', 'r') as json_file:\n",
    "    json_savedModel= json_file.read()\n",
    "\n",
    "# load the model architecture\n",
    "model_2_emotion = keras.models.model_from_json(json_savedModel)\n",
    "model_2_emotion.load_weights('weights_emotions.hdf5')\n",
    "model_2_emotion.compile(optimizer = \"Adam\", loss = \"categorical_crossentropy\", metrics = [\"accuracy\"])"
   ]
  },
  {
   "cell_type": "code",
   "execution_count": null,
   "metadata": {
    "colab": {
     "base_uri": "https://localhost:8080/",
     "height": 52
    },
    "id": "NJoYkZWw43zv",
    "outputId": "18720dad-ec90-44a3-ac4a-bebe08198e67"
   },
   "outputs": [],
   "source": [
    "score = model_2_emotion.evaluate(X_Test, y_Test)\n",
    "print('Test Accuracy: {}'.format(score[1]))"
   ]
  },
  {
   "cell_type": "code",
   "execution_count": null,
   "metadata": {
    "colab": {
     "base_uri": "https://localhost:8080/",
     "height": 35
    },
    "id": "M27CZcLm4zQk",
    "outputId": "ffb0aff4-e1a5-4d77-e187-f0bd3f7d082d"
   },
   "outputs": [],
   "source": [
    "history.history.keys()"
   ]
  },
  {
   "cell_type": "code",
   "execution_count": null,
   "metadata": {
    "id": "a2WZ3__e5Kxp"
   },
   "outputs": [],
   "source": [
    "accuracy = history.history['accuracy']\n",
    "val_accuracy = history.history['val_accuracy']\n",
    "loss = history.history['loss']\n",
    "val_loss = history.history['val_loss']"
   ]
  },
  {
   "cell_type": "code",
   "execution_count": null,
   "metadata": {
    "colab": {
     "base_uri": "https://localhost:8080/",
     "height": 299
    },
    "id": "sEO2vCRh5Kpz",
    "outputId": "071744c3-9fa9-4f85-9f52-518a83f507ee"
   },
   "outputs": [],
   "source": [
    "epochs = range(len(accuracy))\n",
    "\n",
    "plt.plot(epochs, accuracy, 'bo', label='Training Accuracy')\n",
    "plt.plot(epochs, val_accuracy, 'b', label='Validation Accuracy')\n",
    "plt.title('Training and Validation Accuracy')\n",
    "plt.legend()"
   ]
  },
  {
   "cell_type": "code",
   "execution_count": null,
   "metadata": {
    "colab": {
     "base_uri": "https://localhost:8080/",
     "height": 299
    },
    "id": "k9WS5-Bv5KoD",
    "outputId": "d43125bb-9b5e-42fa-999f-592569dd4900"
   },
   "outputs": [],
   "source": [
    "plt.plot(epochs, loss, 'ro', label='Training loss')\n",
    "plt.plot(epochs, val_loss, 'r', label='Validation loss')\n",
    "plt.title('Training and Validation loss')\n",
    "plt.legend()"
   ]
  },
  {
   "cell_type": "code",
   "execution_count": null,
   "metadata": {
    "id": "Oduf0Q8n5Kl-"
   },
   "outputs": [],
   "source": [
    "# predicted_classes = model.predict_classes(X_test)\n",
    "predicted_classes = np.argmax(model_2_emotion.predict(X_Test), axis=-1)\n",
    "y_true = np.argmax(y_Test, axis=-1)"
   ]
  },
  {
   "cell_type": "code",
   "execution_count": null,
   "metadata": {
    "colab": {
     "base_uri": "https://localhost:8080/",
     "height": 35
    },
    "id": "E5Yp58fm5Kkj",
    "outputId": "2bb18ef5-32e2-4604-af55-5c320fb0f8b6"
   },
   "outputs": [],
   "source": [
    "y_true.shape"
   ]
  },
  {
   "cell_type": "code",
   "execution_count": null,
   "metadata": {
    "colab": {
     "base_uri": "https://localhost:8080/",
     "height": 609
    },
    "id": "cLdhjhBb5KeD",
    "outputId": "152d627c-a65d-4ec2-f00a-8bb9b10d26bb"
   },
   "outputs": [],
   "source": [
    "from sklearn.metrics import confusion_matrix\n",
    "cm = confusion_matrix(y_true, predicted_classes)\n",
    "plt.figure(figsize = (10, 10))\n",
    "sns.heatmap(cm, annot = True, cbar = False)"
   ]
  },
  {
   "cell_type": "markdown",
   "metadata": {
    "id": "DTQGje8f6ug0"
   },
   "source": [
    "MINI CHALLENGE #16:\n",
    "- Print out a grid of 25 images along with their predicted/true label\n",
    "- Print out the classification report and analyze precision and recall"
   ]
  },
  {
   "cell_type": "code",
   "execution_count": null,
   "metadata": {
    "colab": {
     "base_uri": "https://localhost:8080/",
     "height": 1000
    },
    "id": "YuLsavNIGQqA",
    "outputId": "9b59d259-929d-43a1-c53c-942112a56072"
   },
   "outputs": [],
   "source": [
    "L = 5\n",
    "W = 5\n",
    "\n",
    "fig, axes = plt.subplots(L, W, figsize = (24, 24))\n",
    "axes = axes.ravel()\n",
    "\n",
    "for i in np.arange(0, L*W):\n",
    "    axes[i].imshow(X_test[i].reshape(96,96), cmap = 'gray')\n",
    "    axes[i].set_title('Prediction = {}\\n True = {}'.format(label_to_text[predicted_classes[i]], label_to_text[y_true[i]]))\n",
    "    axes[i].axis('off')\n",
    "\n",
    "plt.subplots_adjust(wspace = 1)"
   ]
  },
  {
   "cell_type": "code",
   "execution_count": null,
   "metadata": {
    "colab": {
     "base_uri": "https://localhost:8080/",
     "height": 225
    },
    "id": "2yT4LdSCGuDJ",
    "outputId": "e92e5e69-eebe-4501-ab46-58a33b734430"
   },
   "outputs": [],
   "source": [
    "from sklearn.metrics import classification_report\n",
    "print(classification_report(y_true, predicted_classes))"
   ]
  },
  {
   "cell_type": "markdown",
   "metadata": {
    "id": "c_Gm-Vap7Wv0"
   },
   "source": [
    "# PART 3. COMBINE BOTH FACIAL EXPRESSION AND KEY POINTS DETECTION MODELS"
   ]
  },
  {
   "cell_type": "markdown",
   "metadata": {
    "id": "E_kdiO4o7IPc"
   },
   "source": [
    "# TASK #18: COMBINE BOTH MODELS (1) FACIAL KEY POINTS DETECTION AND (2) FACIAL EXPRESSION MODELS"
   ]
  },
  {
   "cell_type": "code",
   "execution_count": null,
   "metadata": {
    "id": "lDVsSChW7Vpi"
   },
   "outputs": [],
   "source": [
    "def predict(X_test):\n",
    "\n",
    "  # Making prediction from the keypoint model\n",
    "  df_predict = model_1_facialKeyPoints.predict(X_test)\n",
    "\n",
    "  # Making prediction from the emotion model\n",
    "  df_emotion = np.argmax(model_2_emotion.predict(X_test), axis=-1)\n",
    "\n",
    "  # Reshaping array from (856,) to (856,1)\n",
    "  df_emotion = np.expand_dims(df_emotion, axis = 1)\n",
    "\n",
    "  # Converting the predictions into a dataframe\n",
    "  df_predict = pd.DataFrame(df_predict, columns= columns)\n",
    "\n",
    "  # Adding emotion into the predicted dataframe\n",
    "  df_predict['emotion'] = df_emotion\n",
    "\n",
    "  return df_predict"
   ]
  },
  {
   "cell_type": "code",
   "execution_count": null,
   "metadata": {
    "id": "ULEWfmhK7vVf"
   },
   "outputs": [],
   "source": [
    "df_predict = predict(X_test)"
   ]
  },
  {
   "cell_type": "code",
   "execution_count": null,
   "metadata": {
    "colab": {
     "base_uri": "https://localhost:8080/",
     "height": 222
    },
    "id": "9g1M3Hrq7vO-",
    "outputId": "72b30ef4-602a-4ac0-d197-7098edd51cbb"
   },
   "outputs": [],
   "source": [
    "df_predict.head()"
   ]
  },
  {
   "cell_type": "markdown",
   "metadata": {
    "id": "RmhAnDXf7HpU"
   },
   "source": [
    "MINI CHALLENGE #17:\n",
    "- Plot a grid of 16 images along with their predicted emotion and facial key points"
   ]
  },
  {
   "cell_type": "code",
   "execution_count": null,
   "metadata": {
    "colab": {
     "base_uri": "https://localhost:8080/",
     "height": 1000
    },
    "id": "7Ogvh7t-JhhM",
    "outputId": "293cb546-c838-4bff-ef26-e776cc0abd77"
   },
   "outputs": [],
   "source": [
    "# Plotting the test images and their predicted keypoints and emotions\n",
    "\n",
    "fig, axes = plt.subplots(4, 4, figsize = (24, 24))\n",
    "axes = axes.ravel()\n",
    "\n",
    "for i in range(16):\n",
    "\n",
    "    axes[i].imshow(X_test[i].squeeze(),cmap='gray')\n",
    "    axes[i].set_title('Prediction = {}'.format(label_to_text[df_predict['emotion'][i]]))\n",
    "    axes[i].axis('off')\n",
    "    for j in range(1,31,2):\n",
    "            axes[i].plot(df_predict.loc[i][j-1], df_predict.loc[i][j], 'rx')\n"
   ]
  },
  {
   "cell_type": "markdown",
   "metadata": {
    "id": "EHxVJ2Ei8QDP"
   },
   "source": [
    "# PART 4. DEPLOY BOTH TRAINED MODELS"
   ]
  },
  {
   "cell_type": "markdown",
   "metadata": {
    "id": "XIm4ZWVu8oKz"
   },
   "source": [
    "# TASK #19. SAVE THE TRAINED MODEL FOR DEPLOYMENT"
   ]
  },
  {
   "cell_type": "markdown",
   "metadata": {
    "id": "GxY1AMo0NZ0R"
   },
   "source": [
    "![alt text](https://drive.google.com/uc?id=1bjjMMF3qorxHwW2DWRugsrkf9YKRIaf3)"
   ]
  },
  {
   "cell_type": "markdown",
   "metadata": {
    "id": "sh5Bn3E-N-tt"
   },
   "source": [
    "![alt text](https://drive.google.com/uc?id=1RltAICf4OkErndMnGDC_FB7wh7zuDDWJ)"
   ]
  },
  {
   "cell_type": "markdown",
   "metadata": {
    "id": "LinXEaAyN-2e"
   },
   "source": [
    "![alt text](https://drive.google.com/uc?id=1p686eR8SxMLkKdS60hY9i1l_G6hXrnND)"
   ]
  },
  {
   "cell_type": "markdown",
   "metadata": {
    "id": "Q59NUF_d80kJ"
   },
   "source": [
    "- We now need to save our trained model and it has to be saved in a SavedModel format.\n",
    "- The model will have a version number and will be saved in a structured directory\n",
    "- tf.saved_model.save is a function used to build a saved model that is suitable for serving using Tensorflow Serving.\n",
    "- After the model is saved, we can now use TensorFlow Serving to start making inference requests using a specific version of our trained model \"servable\".\n",
    "- Use SavedModel to save and load your model—variables, the graph, and the graph's metadata.\n",
    "          \n",
    "- Check this out for more information:\n",
    "https://www.tensorflow.org/guide/saved_model"
   ]
  },
  {
   "cell_type": "code",
   "execution_count": null,
   "metadata": {
    "id": "mcKhDctJ7vLb"
   },
   "outputs": [],
   "source": [
    "# import json\n",
    "# import keras.backend as K\n",
    "\n",
    "def deploy(directory, model):\n",
    "  MODEL_DIR = directory\n",
    "  version = 1\n",
    "\n",
    "  # Let's join the temp model directory with our chosen version number\n",
    "  # The expected result will be = '\\tmp\\version number'\n",
    "  export_path = os.path.join(MODEL_DIR, str(version))\n",
    "  print('export_path = {}\\n'.format(export_path))\n",
    "\n",
    "  # Let's save the model using saved_model.save\n",
    "  # If the directory already exists, we will remove it using '!rm'\n",
    "  # rm removes each file specified on the command line.\n",
    "\n",
    "  if os.path.isdir(export_path):\n",
    "    print('\\nAlready saved a model, cleaning up\\n')\n",
    "    !rm -r {export_path}\n",
    "\n",
    "  tf.saved_model.save(model, export_path)\n",
    "\n",
    "  os.environ[\"MODEL_DIR\"] = MODEL_DIR"
   ]
  },
  {
   "cell_type": "markdown",
   "metadata": {
    "id": "Fe8T2Oow8-v7"
   },
   "source": [
    "# TASK #20. SERVE THE MODEL USING TENSORFLOW SERVING"
   ]
  },
  {
   "cell_type": "code",
   "execution_count": null,
   "metadata": {
    "colab": {
     "base_uri": "https://localhost:8080/",
     "height": 624
    },
    "id": "ZZxSvHdm9Iqy",
    "outputId": "2cc931aa-6317-4cc0-b088-3047400f0166"
   },
   "outputs": [],
   "source": [
    "# Let's add tensorflow-model-server package to our list of packages\n",
    "!echo \"deb http://storage.googleapis.com/tensorflow-serving-apt stable tensorflow-model-server tensorflow-model-server-universal\" | tee /etc/apt/sources.list.d/tensorflow-serving.list && \\\n",
    "curl https://storage.googleapis.com/tensorflow-serving-apt/tensorflow-serving.release.pub.gpg | apt-key add -\n",
    "!apt update"
   ]
  },
  {
   "cell_type": "code",
   "execution_count": null,
   "metadata": {
    "colab": {
     "base_uri": "https://localhost:8080/",
     "height": 329
    },
    "id": "Lgk_mdNz9j3z",
    "outputId": "b4fe6217-0059-4baf-e8d1-521a6fec7170"
   },
   "outputs": [],
   "source": [
    "# Let's install tensorflow model server\n",
    "!apt-get install tensorflow-model-server"
   ]
  },
  {
   "cell_type": "code",
   "execution_count": null,
   "metadata": {
    "id": "g0U2XmtK9x1l"
   },
   "outputs": [],
   "source": [
    "# Let's run TensorFlow serving"
   ]
  },
  {
   "cell_type": "markdown",
   "metadata": {
    "id": "YUljZE8I9-V_"
   },
   "source": [
    "- We will load our model and start making inferences (predictions) based on it.\n",
    "- There are some important parameters:\n",
    "\n",
    "  - rest_api_port: The port that you'll use for REST requests.\n",
    "  - model_name: You'll use this in the URL of REST requests. You can choose any name\n",
    "  - model_base_path: This is the path to the directory where you've saved your model.\n",
    "  \n",
    "- For more information regarding REST, check this out:\n",
    "https://www.codecademy.com/articles/what-is-rest\n",
    "- REST is a revival of HTTP in which http commands have semantic meaning."
   ]
  },
  {
   "cell_type": "code",
   "execution_count": null,
   "metadata": {
    "colab": {
     "base_uri": "https://localhost:8080/",
     "height": 141
    },
    "id": "sDn7Dbrf9x0A",
    "outputId": "8a29abe1-3b9f-41e0-f684-044770c0d5ba"
   },
   "outputs": [],
   "source": [
    "deploy('/model', model_1_facialKeyPoints)"
   ]
  },
  {
   "cell_type": "code",
   "execution_count": null,
   "metadata": {
    "colab": {
     "base_uri": "https://localhost:8080/",
     "height": 35
    },
    "id": "Leau6glq9xyZ",
    "outputId": "efea666f-148b-4acd-b7b7-3c459bd1dd97"
   },
   "outputs": [],
   "source": [
    "%%bash --bg\n",
    "nohup tensorflow_model_server \\\n",
    "  --rest_api_port=4500 \\\n",
    "  --model_name=keypoint_model \\\n",
    "  --model_base_path=\"${MODEL_DIR}\" >server.log 2>&1"
   ]
  },
  {
   "cell_type": "code",
   "execution_count": null,
   "metadata": {
    "colab": {
     "base_uri": "https://localhost:8080/",
     "height": 211
    },
    "id": "MJgj-FIC9xwI",
    "outputId": "c03f74ad-f0b2-49fe-ac7f-c71bbc776862"
   },
   "outputs": [],
   "source": [
    "!tail server.log"
   ]
  },
  {
   "cell_type": "code",
   "execution_count": null,
   "metadata": {
    "colab": {
     "base_uri": "https://localhost:8080/",
     "height": 69
    },
    "id": "Si54Msq0-HBx",
    "outputId": "772ab658-f738-47ae-8fa6-a7b6d9d8092e"
   },
   "outputs": [],
   "source": [
    "deploy('/model1', model_2_emotion)"
   ]
  },
  {
   "cell_type": "code",
   "execution_count": null,
   "metadata": {
    "colab": {
     "base_uri": "https://localhost:8080/",
     "height": 35
    },
    "id": "GEoiUdfG-HAB",
    "outputId": "141890a5-f8f3-46ed-986f-b5e30d6bf235"
   },
   "outputs": [],
   "source": [
    "%%bash --bg\n",
    "nohup tensorflow_model_server \\\n",
    "  --rest_api_port=4000 \\\n",
    "  --model_name=emotion_model \\\n",
    "  --model_base_path=\"${MODEL_DIR}\" >server.log 2>&1"
   ]
  },
  {
   "cell_type": "code",
   "execution_count": null,
   "metadata": {
    "colab": {
     "base_uri": "https://localhost:8080/",
     "height": 211
    },
    "id": "Yu1wunTw-G-P",
    "outputId": "8b5ed2c5-d94e-476f-b175-e16a1533d943"
   },
   "outputs": [],
   "source": [
    "!tail server.log"
   ]
  },
  {
   "cell_type": "markdown",
   "metadata": {
    "id": "PASBs9J--SrG"
   },
   "source": [
    "- **Congratulations! now we have successfully loaded a servable version of our model {name: keypoint_model version: 1}**\n",
    "- **Congratulations! now we have successfully loaded a servable version of our model {name: emotion_model version: 1}**"
   ]
  },
  {
   "cell_type": "markdown",
   "metadata": {
    "id": "8I5OZyc4-WAl"
   },
   "source": [
    "# TASK #21: MAKE REQUESTS TO MODEL IN TENSORFLOW SERVING"
   ]
  },
  {
   "cell_type": "code",
   "execution_count": null,
   "metadata": {
    "colab": {
     "base_uri": "https://localhost:8080/",
     "height": 35
    },
    "id": "DuecWgjz-G8u",
    "outputId": "73aedfb9-446f-4608-b106-f05535d95236"
   },
   "outputs": [],
   "source": [
    "import json\n",
    "\n",
    "# Let's create a JSON object and make 3 inference requests\n",
    "data = json.dumps({\"signature_name\": \"serving_default\", \"instances\": X_test[0:3].tolist()})\n",
    "print('Data: {} ... {}'.format(data[:50], data[len(data)-52:]))"
   ]
  },
  {
   "cell_type": "code",
   "execution_count": null,
   "metadata": {
    "id": "Ci5jE7Je-G6a"
   },
   "outputs": [],
   "source": [
    "!pip install -q requests"
   ]
  },
  {
   "cell_type": "code",
   "execution_count": null,
   "metadata": {
    "id": "4cJz8Nkd-is7"
   },
   "outputs": [],
   "source": [
    "import requests\n",
    "\n",
    "# Function to make predictions from deployed models\n",
    "def response(data):\n",
    "  headers = {\"content-type\": \"application/json\"}\n",
    "  json_response = requests.post('http://localhost:4500/v1/models/keypoint_model/versions/1:predict', data=data, headers=headers, verify = False)\n",
    "  df_predict = json.loads(json_response.text)['predictions']\n",
    "  json_response = requests.post('http://localhost:4000/v1/models/emotion_model/versions/1:predict', data=data, headers=headers, verify = False)\n",
    "  df_emotion = np.argmax(json.loads(json_response.text)['predictions'], axis = 1)\n",
    "\n",
    "  # Reshaping array from (856,) to (856,1)\n",
    "  df_emotion = np.expand_dims(df_emotion, axis = 1)\n",
    "\n",
    "  # Converting the predictions into a dataframe\n",
    "  df_predict= pd.DataFrame(df_predict, columns = columns)\n",
    "\n",
    "  # Adding emotion into the predicted dataframe\n",
    "  df_predict['emotion'] = df_emotion\n",
    "\n",
    "  return df_predict"
   ]
  },
  {
   "cell_type": "code",
   "execution_count": null,
   "metadata": {
    "id": "YV0UAo58-irJ"
   },
   "outputs": [],
   "source": [
    "# making prediction\n",
    "df_predict = response(data)"
   ]
  },
  {
   "cell_type": "code",
   "execution_count": null,
   "metadata": {
    "colab": {
     "base_uri": "https://localhost:8080/",
     "height": 161
    },
    "id": "FrQIJpZg-ipg",
    "outputId": "c66df9e6-92f5-4bed-a36e-8938f8d5e20d"
   },
   "outputs": [],
   "source": [
    "df_predict"
   ]
  },
  {
   "cell_type": "code",
   "execution_count": null,
   "metadata": {
    "colab": {
     "base_uri": "https://localhost:8080/",
     "height": 1000
    },
    "id": "tOTIG6gH-ugH",
    "outputId": "39beb2d7-b83f-4111-c055-ffc05f590cc6"
   },
   "outputs": [],
   "source": [
    "# Plotting the test images and their predicted keypoints and emotions\n",
    "\n",
    "fig, axes = plt.subplots(3, 1, figsize = (24, 24))\n",
    "axes = axes.ravel()\n",
    "\n",
    "for i in range(3):\n",
    "\n",
    "    axes[i].imshow(X_test[i].squeeze(),cmap='gray')\n",
    "    axes[i].set_title('Prediction = {}'.format(label_to_text[df_predict['emotion'][i]]))\n",
    "    axes[i].axis('off')\n",
    "    for j in range(1,31,2):\n",
    "            axes[i].plot(df_predict.loc[i][j-1], df_predict.loc[i][j], 'rx')\n"
   ]
  },
  {
   "cell_type": "markdown",
   "metadata": {
    "id": "7aaG4Hr_-xQ6"
   },
   "source": [
    "# EXCELLENT JOB! NOW YOU HAVE A SOLID KNOWLEDGE OF EMOTION AI! YOU SHOULD BE SUPER PROUD OF YOUR NEWLY ACQUIRED SKILLS :)"
   ]
  },
  {
   "cell_type": "markdown",
   "metadata": {
    "id": "BphUUmlbhF5M"
   },
   "source": [
    "# MINI CHALLENGE SOLUTIONS"
   ]
  },
  {
   "cell_type": "markdown",
   "metadata": {
    "id": "TeVnCendfbWe"
   },
   "source": [
    "MINI CHALLENGE #1:\n",
    "- Obtain the average, minimum and maximum values for 'right_eye_center_x'"
   ]
  },
  {
   "cell_type": "code",
   "execution_count": null,
   "metadata": {
    "id": "Jugnf7fZffH9"
   },
   "outputs": [],
   "source": [
    "keyfacial_df.describe()"
   ]
  },
  {
   "cell_type": "markdown",
   "metadata": {
    "id": "fOG_GwZNg-fd"
   },
   "source": [
    "MINI CHALLENGE #2:\n",
    "- Perform a sanity check on on the data by randomly visualizing 64 new images along with their cooresponding key points"
   ]
  },
  {
   "cell_type": "code",
   "execution_count": null,
   "metadata": {
    "id": "JQCDpGJug_QL"
   },
   "outputs": [],
   "source": [
    "import random\n",
    "# Let's view more images in a grid format\n",
    "fig = plt.figure(figsize=(20, 20))\n",
    "\n",
    "for i in range(64):\n",
    "    k = random.randint(1, len(keyfacial_df))\n",
    "    ax = fig.add_subplot(8, 8, i + 1)\n",
    "    image = plt.imshow(keyfacial_df['Image'][k],cmap = 'gray')\n",
    "    for j in range(1,31,2):\n",
    "        plt.plot(keyfacial_df.loc[k][j-1], keyfacial_df.loc[k][j], 'rx')\n"
   ]
  },
  {
   "cell_type": "markdown",
   "metadata": {
    "id": "GxKdCBQ6jrdr"
   },
   "source": [
    "MINI CHALLENGE #3:\n",
    "- Augment images by flipping them vertically\n",
    "(Hint: Flip along x-axis and note that if we are flipping along x-axis, x co-ordinates won't change)"
   ]
  },
  {
   "cell_type": "code",
   "execution_count": null,
   "metadata": {
    "id": "_wm2zsrEjr63"
   },
   "outputs": [],
   "source": [
    "keyfacial_df_copy = copy.copy(keyfacial_df)\n",
    "\n",
    "# Flip the images along x axis\n",
    "keyfacial_df_copy['Image'] = keyfacial_df_copy['Image'].apply(lambda x: np.flip(x, axis = 0))\n",
    "\n",
    "# since we are flipping vertically, x coordinate values would be the same\n",
    "for i in range(len(columns)):\n",
    "  if i%2 == 1:\n",
    "    keyfacial_df_copy[columns[i]] = keyfacial_df_copy[columns[i]].apply(lambda x: 96. - float(x) )"
   ]
  },
  {
   "cell_type": "markdown",
   "metadata": {
    "id": "duHIqg0ej6Xz"
   },
   "source": [
    "MINI CHALLENGE #4:\n",
    "- Perform a sanity check and visualize sample images"
   ]
  },
  {
   "cell_type": "code",
   "execution_count": null,
   "metadata": {
    "id": "m4RQYra-j61j"
   },
   "outputs": [],
   "source": [
    "# Show the vertically flipped image\n",
    "plt.imshow(keyfacial_df_copy['Image'][0],cmap='gray')\n",
    "for j in range(1, 31, 2):\n",
    "        plt.plot(keyfacial_df_copy.loc[0][j-1], keyfacial_df_copy.loc[0][j], 'rx')"
   ]
  },
  {
   "cell_type": "markdown",
   "metadata": {
    "id": "IsoO8ffCkiNb"
   },
   "source": [
    "MINI CHALLENGE #5:\n",
    "- Try a different value for 'test_size' and verify that the split was successful"
   ]
  },
  {
   "cell_type": "code",
   "execution_count": null,
   "metadata": {
    "id": "b2dDhg5YkhTI"
   },
   "outputs": [],
   "source": [
    "print('Train size =', X_train.shape)\n",
    "print('Test size =', X_test.shape)"
   ]
  },
  {
   "cell_type": "markdown",
   "metadata": {
    "id": "pXeZ2X8alJOo"
   },
   "source": [
    "MINI CHALLENGE #6:\n",
    "- List at least 3 types of activation functions, which type is preferred in the hidden layers?\n",
    "- List at least 3 different neural networks architecutres and their applications."
   ]
  },
  {
   "cell_type": "markdown",
   "metadata": {
    "id": "fTNBK-DPmVyv"
   },
   "source": [
    "![alt text](https://drive.google.com/uc?id=1G8aJvO6IFxxd7dAdVB1tylWGNcSUM3R4)"
   ]
  },
  {
   "cell_type": "markdown",
   "metadata": {
    "id": "V0Rr8kHSmcot"
   },
   "source": [
    "![alt text](https://drive.google.com/uc?id=1d4HfwWTawWwpiXYfrADRUGLc0yfJNzoz)"
   ]
  },
  {
   "cell_type": "markdown",
   "metadata": {
    "id": "aYglKx2BmjHz"
   },
   "source": [
    "![alt text](https://drive.google.com/uc?id=142wHzaUyjv8185BZS-BisyjQALDOZhSX)"
   ]
  },
  {
   "cell_type": "markdown",
   "metadata": {
    "id": "D_rqcj1moLo2"
   },
   "source": [
    "MINI CHALLENGE #7:\n",
    "- List 3 different neural networks architectures and their applications."
   ]
  },
  {
   "cell_type": "markdown",
   "metadata": {
    "id": "ucFdvm4xtQeq"
   },
   "source": [
    "Great Resource by Aravind Pai: https://www.analyticsvidhya.com/blog/2020/02/cnn-vs-rnn-vs-mlp-analyzing-3-types-of-neural-networks-in-deep-learning/"
   ]
  },
  {
   "cell_type": "markdown",
   "metadata": {
    "id": "gE9T7Xi2ndbV"
   },
   "source": [
    "MINI CHALLENGE #8:\n",
    "- What happen when you set the learning rate to the extremes (i.e.: very small value and very large value)? How can you achieve the best of both worlds?"
   ]
  },
  {
   "cell_type": "markdown",
   "metadata": {
    "id": "cxQoOpStnsbT"
   },
   "source": [
    "Great Resource by Jason Brownlee: https://machinelearningmastery.com/understand-the-dynamics-of-learning-rate-on-deep-learning-neural-networks/"
   ]
  },
  {
   "cell_type": "markdown",
   "metadata": {
    "id": "l_wClyTpmrLA"
   },
   "source": [
    "MINI CHALLENGE #9:\n",
    "- What's the performance of ResNets compared to AlexNet in ImageNet dataset?"
   ]
  },
  {
   "cell_type": "markdown",
   "metadata": {
    "id": "yNqf_KcNuA3o"
   },
   "source": [
    "https://towardsdatascience.com/understanding-and-coding-a-resnet-in-keras-446d7ff84d33"
   ]
  },
  {
   "cell_type": "markdown",
   "metadata": {
    "id": "jWpMChuquTg5"
   },
   "source": [
    "MINI CHALLENGE #10:\n",
    "- Experiment with changing the network architecture by removing 2 MaxPooling layers from the Res Block and train the model\n",
    "- Try to add 'X = res_block(X, filter= [256,256,1024], stage= 4)' Block after stage #3 block.\n",
    "- What did you observe? Comment on your answer"
   ]
  },
  {
   "cell_type": "markdown",
   "metadata": {
    "id": "BAAPFVDqubNi"
   },
   "source": [
    "Number of trainable parameters increase significantly"
   ]
  },
  {
   "cell_type": "markdown",
   "metadata": {
    "id": "rFHS16-ZuzCh"
   },
   "source": [
    "MINI CHALLENGE #11:\n",
    "- Experiment with changing the batch size and validation split value and retrain the model (Take Home)"
   ]
  },
  {
   "cell_type": "markdown",
   "metadata": {
    "id": "efnHqzQdvUu5"
   },
   "source": [
    "Take home! experiment with them and see if they improve the performance."
   ]
  },
  {
   "cell_type": "markdown",
   "metadata": {
    "id": "9iplZGYo1epx"
   },
   "source": [
    "MINI CHALLENGE #12:\n",
    "- Visualize the first image in the dataframe and make sure that the image is not distorted"
   ]
  },
  {
   "cell_type": "code",
   "execution_count": null,
   "metadata": {
    "id": "5gi1pl58uaXX"
   },
   "outputs": [],
   "source": [
    "plt.imshow(facialexpression_df[' pixels'][0], cmap = 'gray')"
   ]
  },
  {
   "cell_type": "markdown",
   "metadata": {
    "id": "MF-GHhFC2G5Z"
   },
   "source": [
    "MINI CHALLENGE #13:\n",
    "- Plot bar chart to outline how many samples (images) are present per emotion"
   ]
  },
  {
   "cell_type": "code",
   "execution_count": null,
   "metadata": {
    "id": "nAW2e0da2Agt"
   },
   "outputs": [],
   "source": [
    "plt.figure(figsize=(10,10))\n",
    "sns.barplot(x = facialexpression_df.emotion.value_counts().index, y = facialexpression_df.emotion.value_counts() )\n",
    "plt.title('Number of images per emotion')"
   ]
  },
  {
   "cell_type": "markdown",
   "metadata": {
    "id": "F7ZgLbiT3xey"
   },
   "source": [
    "MINI CHALLENGE #14:\n",
    "- Try at least 2 additional data augmentation techniques"
   ]
  },
  {
   "cell_type": "markdown",
   "metadata": {
    "id": "cNEYRiiG39Bf"
   },
   "source": [
    "Check Keras documentation: https://keras.io/api/preprocessing/image/"
   ]
  },
  {
   "cell_type": "code",
   "execution_count": null,
   "metadata": {
    "id": "elBWzl4G38CS"
   },
   "outputs": [],
   "source": [
    "train_datagen = ImageDataGenerator(\n",
    "rotation_range = 15,\n",
    "    width_shift_range = 0.1,\n",
    "    height_shift_range = 0.1,\n",
    "    shear_range = 0.1,\n",
    "    zoom_range = 0.1,\n",
    "    horizontal_flip = True,\n",
    "    vertical_flip = True,\n",
    "    brightness_range = [1.1, 1.5],\n",
    "    fill_mode = \"nearest\")\n",
    "\n",
    "# Note on \"Brightness_range\"\n",
    "# 1.0 does not affect image brightness\n",
    "# numbers less than 1.0 darken the image [0.5, 1.0]\n",
    "# numbers larger than 1.0 brighten the image [1.0, 1.5]\n"
   ]
  },
  {
   "cell_type": "markdown",
   "metadata": {
    "id": "dRhwEZUX6CxY"
   },
   "source": [
    "MINI CHALLENGE #15:\n",
    "- Experiment with various batch size, patience, optimizers, and network architecture to improve network performance (Take home)"
   ]
  },
  {
   "cell_type": "markdown",
   "metadata": {
    "id": "_hiFLFae6Gat"
   },
   "source": [
    "Take home! experiment and see if they improve the performance."
   ]
  },
  {
   "cell_type": "markdown",
   "metadata": {
    "id": "7MdDLWQS6-Cl"
   },
   "source": [
    "MINI CHALLENGE #16:\n",
    "- Print out a grid of 25 images along with their predicted/true label\n",
    "- Print out the classification report and analyze precision and recall"
   ]
  },
  {
   "cell_type": "code",
   "execution_count": null,
   "metadata": {
    "id": "MyQCFI445KcQ"
   },
   "outputs": [],
   "source": [
    "L = 5\n",
    "W = 5\n",
    "\n",
    "fig, axes = plt.subplots(L, W, figsize = (24, 24))\n",
    "axes = axes.ravel()\n",
    "\n",
    "for i in np.arange(0, L*W):\n",
    "    axes[i].imshow(X_test[i].reshape(96,96), cmap = 'gray')\n",
    "    axes[i].set_title('Prediction = {}\\n True = {}'.format(label_to_text[predicted_classes[i]], label_to_text[y_true[i]]))\n",
    "    axes[i].axis('off')\n",
    "\n",
    "plt.subplots_adjust(wspace = 1)"
   ]
  },
  {
   "cell_type": "code",
   "execution_count": null,
   "metadata": {
    "id": "1jGZ0I70Fkf7"
   },
   "outputs": [],
   "source": [
    "from sklearn.metrics import classification_report\n",
    "print(classification_report(y_true, predicted_classes))"
   ]
  },
  {
   "cell_type": "markdown",
   "metadata": {
    "id": "9UvgvI057VEx"
   },
   "source": [
    "MINI CHALLENGE #17:\n",
    "- Plot a grid of 16 images along with their predicted emotion and facial key points"
   ]
  },
  {
   "cell_type": "code",
   "execution_count": null,
   "metadata": {
    "id": "DwpHGScO7Vm5"
   },
   "outputs": [],
   "source": [
    "# Plotting the test images and their predicted keypoints and emotions\n",
    "\n",
    "fig, axes = plt.subplots(4, 4, figsize = (24, 24))\n",
    "axes = axes.ravel()\n",
    "\n",
    "for i in range(16):\n",
    "\n",
    "    axes[i].imshow(X_test[i].squeeze(),cmap='gray')\n",
    "    axes[i].set_title('Prediction = {}'.format(label_to_text[df_predict['emotion'][i]]))\n",
    "    axes[i].axis('off')\n",
    "    for j in range(1,31,2):\n",
    "            axes[i].plot(df_predict.loc[i][j-1], df_predict.loc[i][j], 'rx')\n"
   ]
  }
 ],
 "metadata": {
  "colab": {
   "provenance": [],
   "toc_visible": true
  },
  "kernelspec": {
   "display_name": "Python 3 (ipykernel)",
   "language": "python",
   "name": "python3"
  },
  "language_info": {
   "codemirror_mode": {
    "name": "ipython",
    "version": 3
   },
   "file_extension": ".py",
   "mimetype": "text/x-python",
   "name": "python",
   "nbconvert_exporter": "python",
   "pygments_lexer": "ipython3",
   "version": "3.9.18"
  }
 },
 "nbformat": 4,
 "nbformat_minor": 1
}
