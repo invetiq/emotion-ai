{
 "cells": [
  {
   "cell_type": "code",
   "execution_count": 1,
   "metadata": {
    "collapsed": true,
    "ExecuteTime": {
     "end_time": "2023-12-05T10:00:46.394636300Z",
     "start_time": "2023-12-05T10:00:46.378960700Z"
    }
   },
   "outputs": [
    {
     "name": "stdout",
     "output_type": "stream",
     "text": [
      "C:\\ProgramData\\anaconda3\\envs\\intelekt\\python.exe\n",
      "['Y:\\\\home\\\\dockube\\\\invetiq\\\\project\\\\emotion-ai', 'Y:\\\\home\\\\dockube\\\\invetiq\\\\project\\\\emotion-ai', 'C:\\\\ProgramData\\\\anaconda3\\\\envs\\\\intelekt\\\\python39.zip', 'C:\\\\ProgramData\\\\anaconda3\\\\envs\\\\intelekt\\\\DLLs', 'C:\\\\ProgramData\\\\anaconda3\\\\envs\\\\intelekt\\\\lib', 'C:\\\\ProgramData\\\\anaconda3\\\\envs\\\\intelekt', '', 'C:\\\\ProgramData\\\\anaconda3\\\\envs\\\\intelekt\\\\lib\\\\site-packages', 'C:\\\\ProgramData\\\\anaconda3\\\\envs\\\\intelekt\\\\lib\\\\site-packages\\\\win32', 'C:\\\\ProgramData\\\\anaconda3\\\\envs\\\\intelekt\\\\lib\\\\site-packages\\\\win32\\\\lib', 'C:\\\\ProgramData\\\\anaconda3\\\\envs\\\\intelekt\\\\lib\\\\site-packages\\\\Pythonwin']\n"
     ]
    }
   ],
   "source": [
    "import sys\n",
    "print(sys.executable)\n",
    "print(sys.path)"
   ]
  }
 ],
 "metadata": {
  "kernelspec": {
   "display_name": "Python 3",
   "language": "python",
   "name": "python3"
  },
  "language_info": {
   "codemirror_mode": {
    "name": "ipython",
    "version": 2
   },
   "file_extension": ".py",
   "mimetype": "text/x-python",
   "name": "python",
   "nbconvert_exporter": "python",
   "pygments_lexer": "ipython2",
   "version": "2.7.6"
  }
 },
 "nbformat": 4,
 "nbformat_minor": 0
}
